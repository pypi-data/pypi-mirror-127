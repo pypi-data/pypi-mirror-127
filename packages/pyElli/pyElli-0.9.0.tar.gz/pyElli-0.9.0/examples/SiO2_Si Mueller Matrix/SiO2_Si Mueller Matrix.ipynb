{
 "cells": [
  {
   "cell_type": "code",
   "execution_count": 65,
   "id": "55bce57a-ddc5-4088-97c2-e34587a9094e",
   "metadata": {},
   "outputs": [],
   "source": [
    "import elli"
   ]
  },
  {
   "cell_type": "code",
   "execution_count": 66,
   "id": "d5099d9f-a817-4384-8b1a-3b14b8648c01",
   "metadata": {},
   "outputs": [],
   "source": [
    "MM = elli.SpectraRay.read_mmatrix('Wafer_MM_70.txt').loc[210:820]"
   ]
  },
  {
   "cell_type": "code",
   "execution_count": 67,
   "id": "fb3b5352-2dc5-4421-a97a-32e965d865a9",
   "metadata": {},
   "outputs": [],
   "source": [
    "params = elli.ParamsHist()\n",
    "params.add('SiO2_n0', value=1.452, min=-100, max=100, vary=True)\n",
    "params.add('SiO2_n1', value=36.0, min=-40000, max=40000, vary=True)\n",
    "params.add('SiO2_n2', value=0, min=-40000, max=40000, vary=True)\n",
    "params.add('SiO2_k0', value=0, min=-100, max=100, vary=True)\n",
    "params.add('SiO2_k1', value=0, min=-40000, max=40000, vary=True)\n",
    "params.add('SiO2_k2', value=0, min=-40000, max=40000, vary=True)\n",
    "params.add('SiO2_d', value=120, min=0, max=40000, vary=True)"
   ]
  },
  {
   "cell_type": "code",
   "execution_count": 68,
   "id": "bad60bc6-3d81-47ef-9742-35cbdb7473b9",
   "metadata": {},
   "outputs": [
    {
     "data": {
      "application/vnd.jupyter.widget-view+json": {
       "model_id": "4090ba1c042e4f96b56be71f3097a755",
       "version_major": 2,
       "version_minor": 0
      },
      "text/plain": [
       "VBox(children=(HBox(children=(BoundedFloatText(value=1.452, description='SiO2_n0', min=-100.0), BoundedFloatTe…"
      ]
     },
     "metadata": {},
     "output_type": "display_data"
    }
   ],
   "source": [
    "@elli.fit_mueller_matrix(MM, params, display_single=False, sharex=True, full_scale=False)\n",
    "def model(lbda, params):\n",
    "    sr = elli.SpectraRay('./')\n",
    "    Si = elli.IsotropicMaterial(sr.loadDispersionTable('Si_Aspnes.mat'))\n",
    "\n",
    "    SiO2 = elli.IsotropicMaterial(elli.DispersionCauchy(params['SiO2_n0'],\n",
    "                                                    params['SiO2_n1'],\n",
    "                                                    params['SiO2_n2'],\n",
    "                                                    params['SiO2_k0'],\n",
    "                                                    params['SiO2_k1'],\n",
    "                                                    params['SiO2_k2']))\n",
    "\n",
    "    Layer = [elli.Layer(SiO2, params['SiO2_d'])]\n",
    "\n",
    "    return elli.Structure(elli.AIR, Layer, Si).evaluate(lbda, 70, solver=elli.Solver4x4, propagator=elli.PropagatorEig())"
   ]
  },
  {
   "cell_type": "code",
   "execution_count": 69,
   "id": "dc1ca09c-b0a6-4ce5-8715-fed86f1da48f",
   "metadata": {},
   "outputs": [
    {
     "data": {
      "text/html": [
       "<h2>Fit Statistics</h2><table><tr><td>fitting method</td><td>leastsq</td><td></td></tr><tr><td># function evals</td><td>98</td><td></td></tr><tr><td># data points</td><td>22336</td><td></td></tr><tr><td># variables</td><td>7</td><td></td></tr><tr><td>chi-square</td><td> 4.15193667</td><td></td></tr><tr><td>reduced chi-square</td><td> 1.8594e-04</td><td></td></tr><tr><td>Akaike info crit.</td><td>-191860.730</td><td></td></tr><tr><td>Bayesian info crit.</td><td>-191804.632</td><td></td></tr></table><h2>Variables</h2><table><tr><th> name </th><th> value </th><th> standard error </th><th> relative error </th><th> initial value </th><th> min </th><th> max </th><th> vary </th></tr><tr><td> SiO2_n0 </td><td>  1.46444761 </td><td>  7.0599e-04 </td><td> (0.05%) </td><td> 1.452 </td><td> -100.000000 </td><td>  100.000000 </td><td> True </td></tr><tr><td> SiO2_n1 </td><td> -0.13383336 </td><td>  0.58947808 </td><td> (440.46%) </td><td> 36.0 </td><td> -40000.0000 </td><td>  40000.0000 </td><td> True </td></tr><tr><td> SiO2_n2 </td><td>  15.9280047 </td><td>  0.28218991 </td><td> (1.77%) </td><td> 0 </td><td> -40000.0000 </td><td>  40000.0000 </td><td> True </td></tr><tr><td> SiO2_k0 </td><td>  0.01718283 </td><td>  6.4320e-04 </td><td> (3.74%) </td><td> 0 </td><td> -100.000000 </td><td>  100.000000 </td><td> True </td></tr><tr><td> SiO2_k1 </td><td> -24.0903682 </td><td>  1.03845809 </td><td> (4.31%) </td><td> 0 </td><td> -40000.0000 </td><td>  40000.0000 </td><td> True </td></tr><tr><td> SiO2_k2 </td><td>  9.17505029 </td><td>  0.41326998 </td><td> (4.50%) </td><td> 0 </td><td> -40000.0000 </td><td>  40000.0000 </td><td> True </td></tr><tr><td> SiO2_d </td><td>  104.067145 </td><td>  0.10335035 </td><td> (0.10%) </td><td> 120 </td><td>  0.00000000 </td><td>  40000.0000 </td><td> True </td></tr></table><h2>Correlations (unreported correlations are < 0.100)</h2><table><tr><td>SiO2_k1</td><td>SiO2_k2</td><td>-0.9764</td></tr><tr><td>SiO2_k0</td><td>SiO2_k1</td><td>-0.9640</td></tr><tr><td>SiO2_n0</td><td>SiO2_d</td><td>-0.9557</td></tr><tr><td>SiO2_n1</td><td>SiO2_n2</td><td>-0.9513</td></tr><tr><td>SiO2_k0</td><td>SiO2_d</td><td>0.9464</td></tr><tr><td>SiO2_n0</td><td>SiO2_k0</td><td>-0.9044</td></tr><tr><td>SiO2_k0</td><td>SiO2_k2</td><td>0.8935</td></tr><tr><td>SiO2_k1</td><td>SiO2_d</td><td>-0.8400</td></tr><tr><td>SiO2_n0</td><td>SiO2_k1</td><td>0.8028</td></tr><tr><td>SiO2_k2</td><td>SiO2_d</td><td>0.7319</td></tr><tr><td>SiO2_n0</td><td>SiO2_k2</td><td>-0.6995</td></tr><tr><td>SiO2_n1</td><td>SiO2_d</td><td>-0.2971</td></tr><tr><td>SiO2_n1</td><td>SiO2_k0</td><td>-0.2812</td></tr><tr><td>SiO2_n1</td><td>SiO2_k1</td><td>0.2496</td></tr><tr><td>SiO2_n1</td><td>SiO2_k2</td><td>-0.2175</td></tr><tr><td>SiO2_n0</td><td>SiO2_n2</td><td>0.2059</td></tr></table>"
      ],
      "text/plain": [
       "<lmfit.minimizer.MinimizerResult at 0x24dde4b87c8>"
      ]
     },
     "execution_count": 69,
     "metadata": {},
     "output_type": "execute_result"
    }
   ],
   "source": [
    "model.fit()"
   ]
  },
  {
   "cell_type": "code",
   "execution_count": 70,
   "id": "71878507-d611-4507-a011-f5b9029001e9",
   "metadata": {},
   "outputs": [
    {
     "data": {
      "application/vnd.jupyter.widget-view+json": {
       "model_id": "7743f46526df4258909384d5e672645d",
       "version_major": 2,
       "version_minor": 0
      },
      "text/plain": [
       "FigureWidget({\n",
       "    'data': [{'line': {'color': '#636EFA', 'dash': 'solid'},\n",
       "              'name': 'M11 ',\n",
       "    …"
      ]
     },
     "metadata": {},
     "output_type": "display_data"
    }
   ],
   "source": [
    "model.plot(full_scale=False)"
   ]
  },
  {
   "cell_type": "code",
   "execution_count": null,
   "id": "86384356-dfdb-4033-946f-976620006609",
   "metadata": {},
   "outputs": [],
   "source": []
  }
 ],
 "metadata": {
  "kernelspec": {
   "display_name": "Python 3 (ipykernel)",
   "language": "python",
   "name": "python3"
  },
  "language_info": {
   "codemirror_mode": {
    "name": "ipython",
    "version": 3
   },
   "file_extension": ".py",
   "mimetype": "text/x-python",
   "name": "python",
   "nbconvert_exporter": "python",
   "pygments_lexer": "ipython3",
   "version": "3.7.12"
  }
 },
 "nbformat": 4,
 "nbformat_minor": 5
}
