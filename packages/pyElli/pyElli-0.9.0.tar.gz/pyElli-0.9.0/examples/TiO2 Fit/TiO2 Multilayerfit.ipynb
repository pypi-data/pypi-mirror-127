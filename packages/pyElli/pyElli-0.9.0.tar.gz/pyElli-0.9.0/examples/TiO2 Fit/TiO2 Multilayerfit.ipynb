{
 "cells": [
  {
   "cell_type": "code",
   "execution_count": 1,
   "id": "complimentary-longer",
   "metadata": {},
   "outputs": [
    {
     "name": "stderr",
     "output_type": "stream",
     "text": [
      "C:\\Users\\Florian\\Miniconda3\\lib\\site-packages\\tensorflow\\python\\framework\\dtypes.py:516: FutureWarning: Passing (type, 1) or '1type' as a synonym of type is deprecated; in a future version of numpy, it will be understood as (type, (1,)) / '(1,)type'.\n",
      "  _np_qint8 = np.dtype([(\"qint8\", np.int8, 1)])\n",
      "C:\\Users\\Florian\\Miniconda3\\lib\\site-packages\\tensorflow\\python\\framework\\dtypes.py:517: FutureWarning: Passing (type, 1) or '1type' as a synonym of type is deprecated; in a future version of numpy, it will be understood as (type, (1,)) / '(1,)type'.\n",
      "  _np_quint8 = np.dtype([(\"quint8\", np.uint8, 1)])\n",
      "C:\\Users\\Florian\\Miniconda3\\lib\\site-packages\\tensorflow\\python\\framework\\dtypes.py:518: FutureWarning: Passing (type, 1) or '1type' as a synonym of type is deprecated; in a future version of numpy, it will be understood as (type, (1,)) / '(1,)type'.\n",
      "  _np_qint16 = np.dtype([(\"qint16\", np.int16, 1)])\n",
      "C:\\Users\\Florian\\Miniconda3\\lib\\site-packages\\tensorflow\\python\\framework\\dtypes.py:519: FutureWarning: Passing (type, 1) or '1type' as a synonym of type is deprecated; in a future version of numpy, it will be understood as (type, (1,)) / '(1,)type'.\n",
      "  _np_quint16 = np.dtype([(\"quint16\", np.uint16, 1)])\n",
      "C:\\Users\\Florian\\Miniconda3\\lib\\site-packages\\tensorflow\\python\\framework\\dtypes.py:520: FutureWarning: Passing (type, 1) or '1type' as a synonym of type is deprecated; in a future version of numpy, it will be understood as (type, (1,)) / '(1,)type'.\n",
      "  _np_qint32 = np.dtype([(\"qint32\", np.int32, 1)])\n",
      "C:\\Users\\Florian\\Miniconda3\\lib\\site-packages\\tensorflow\\python\\framework\\dtypes.py:525: FutureWarning: Passing (type, 1) or '1type' as a synonym of type is deprecated; in a future version of numpy, it will be understood as (type, (1,)) / '(1,)type'.\n",
      "  np_resource = np.dtype([(\"resource\", np.ubyte, 1)])\n",
      "C:\\Users\\Florian\\Miniconda3\\lib\\site-packages\\tensorboard\\compat\\tensorflow_stub\\dtypes.py:541: FutureWarning: Passing (type, 1) or '1type' as a synonym of type is deprecated; in a future version of numpy, it will be understood as (type, (1,)) / '(1,)type'.\n",
      "  _np_qint8 = np.dtype([(\"qint8\", np.int8, 1)])\n",
      "C:\\Users\\Florian\\Miniconda3\\lib\\site-packages\\tensorboard\\compat\\tensorflow_stub\\dtypes.py:542: FutureWarning: Passing (type, 1) or '1type' as a synonym of type is deprecated; in a future version of numpy, it will be understood as (type, (1,)) / '(1,)type'.\n",
      "  _np_quint8 = np.dtype([(\"quint8\", np.uint8, 1)])\n",
      "C:\\Users\\Florian\\Miniconda3\\lib\\site-packages\\tensorboard\\compat\\tensorflow_stub\\dtypes.py:543: FutureWarning: Passing (type, 1) or '1type' as a synonym of type is deprecated; in a future version of numpy, it will be understood as (type, (1,)) / '(1,)type'.\n",
      "  _np_qint16 = np.dtype([(\"qint16\", np.int16, 1)])\n",
      "C:\\Users\\Florian\\Miniconda3\\lib\\site-packages\\tensorboard\\compat\\tensorflow_stub\\dtypes.py:544: FutureWarning: Passing (type, 1) or '1type' as a synonym of type is deprecated; in a future version of numpy, it will be understood as (type, (1,)) / '(1,)type'.\n",
      "  _np_quint16 = np.dtype([(\"quint16\", np.uint16, 1)])\n",
      "C:\\Users\\Florian\\Miniconda3\\lib\\site-packages\\tensorboard\\compat\\tensorflow_stub\\dtypes.py:545: FutureWarning: Passing (type, 1) or '1type' as a synonym of type is deprecated; in a future version of numpy, it will be understood as (type, (1,)) / '(1,)type'.\n",
      "  _np_qint32 = np.dtype([(\"qint32\", np.int32, 1)])\n",
      "C:\\Users\\Florian\\Miniconda3\\lib\\site-packages\\tensorboard\\compat\\tensorflow_stub\\dtypes.py:550: FutureWarning: Passing (type, 1) or '1type' as a synonym of type is deprecated; in a future version of numpy, it will be understood as (type, (1,)) / '(1,)type'.\n",
      "  np_resource = np.dtype([(\"resource\", np.ubyte, 1)])\n"
     ]
    }
   ],
   "source": [
    "import elli"
   ]
  },
  {
   "cell_type": "markdown",
   "id": "fourth-turner",
   "metadata": {},
   "source": [
    "# Load data\n",
    "Load data collected with Sentech Ellipsometer and cut the spectral range (to use Si Aspnes file)\n",
    "\n",
    "The sample is an ALD grown TiO2 sample (with 400 cycles) on commercially available SiO2 / Si substrate."
   ]
  },
  {
   "cell_type": "code",
   "execution_count": 2,
   "id": "elect-disorder",
   "metadata": {},
   "outputs": [],
   "source": [
    "tss = elli.SpectraRay.read_psi_delta_file('TiO2_400cycles.txt').loc[400:800]\n",
    "ρ = elli.SpectraRay.read_rho('TiO2_400cycles.txt').loc[400:800]"
   ]
  },
  {
   "cell_type": "markdown",
   "id": "5edc6a65-9319-4267-8f92-3552f6f69ae8",
   "metadata": {},
   "source": [
    "# Estimate Parameters and build model"
   ]
  },
  {
   "cell_type": "code",
   "execution_count": 3,
   "id": "9f600c98-dbc9-4772-9d5f-8ed74c997b91",
   "metadata": {},
   "outputs": [],
   "source": [
    "params = elli.ParamsHist()\n",
    "params.add('SiO2_n0', value=1.452, min=-100, max=100, vary=False)\n",
    "params.add('SiO2_n1', value=36.0, min=-40000, max=40000, vary=False)\n",
    "params.add('SiO2_n2', value=0, min=-40000, max=40000, vary=False)\n",
    "params.add('SiO2_k0', value=0, min=-100, max=100, vary=False)\n",
    "params.add('SiO2_k1', value=0, min=-40000, max=40000, vary=False)\n",
    "params.add('SiO2_k2', value=0, min=-40000, max=40000, vary=False)\n",
    "params.add('SiO2_d', value=276.36, min=0, max=40000, vary=False)\n",
    "\n",
    "params.add('TiO2_n0', value=2.236, min=-100, max=100, vary=True)\n",
    "params.add('TiO2_n1', value=451, min=-40000, max=40000, vary=True)\n",
    "params.add('TiO2_n2', value=251, min=-40000, max=40000, vary=True)\n",
    "params.add('TiO2_k0', value=0, min=-100, max=100, vary=False)\n",
    "params.add('TiO2_k1', value=0, min=-40000, max=40000, vary=False)\n",
    "params.add('TiO2_k2', value=0, min=-40000, max=40000, vary=False)\n",
    "\n",
    "params.add('TiO2_d', value=20, min=0, max=40000, vary=True)"
   ]
  },
  {
   "cell_type": "code",
   "execution_count": 4,
   "id": "f432f126-b688-426a-8b94-abedd44f0e78",
   "metadata": {},
   "outputs": [
    {
     "data": {
      "application/vnd.jupyter.widget-view+json": {
       "model_id": "297154a0bdc148c1b8f1c291de2e68d2",
       "version_major": 2,
       "version_minor": 0
      },
      "text/plain": [
       "VBox(children=(HBox(children=(BoundedFloatText(value=1.452, description='SiO2_n0', min=-100.0), BoundedFloatTe…"
      ]
     },
     "metadata": {},
     "output_type": "display_data"
    }
   ],
   "source": [
    "@elli.fit(tss, params)\n",
    "def model(lbda, params):\n",
    "    sr = elli.SpectraRay('./')\n",
    "    Si = elli.IsotropicMaterial(sr.loadDispersionTable('Si_Aspnes.mat'))\n",
    "\n",
    "    SiO2 = elli.IsotropicMaterial(elli.DispersionCauchy(params['SiO2_n0'], \n",
    "                                                    params['SiO2_n1'], \n",
    "                                                    params['SiO2_n2'], \n",
    "                                                    params['SiO2_k0'], \n",
    "                                                    params['SiO2_k1'], \n",
    "                                                    params['SiO2_k2']))\n",
    "    TiO2 = elli.IsotropicMaterial(elli.DispersionCauchy(params['TiO2_n0'], \n",
    "                                                    params['TiO2_n1'], \n",
    "                                                    params['TiO2_n2'], \n",
    "                                                    params['TiO2_k0'], \n",
    "                                                    params['TiO2_k1'], \n",
    "                                                    params['TiO2_k2']))\n",
    "    \n",
    "    Layer = [elli.Layer(TiO2, params['TiO2_d']), \n",
    "             elli.Layer(SiO2, params['SiO2_d'])]\n",
    "    \n",
    "    return elli.Structure(elli.AIR, Layer, Si).evaluate(lbda, 70, solver=elli.Solver2x2)\n",
    "    # Alternative: Use 4x4 Solver with scipy propagator\n",
    "    # return bm.Structure(bm.AIR, Layer, Si).evaluate(lbda, 70, solver=bm.Solver4x4, propagator=bm.PropagatorExpmScipy())\n",
    "\n",
    "    # Alternative: Use 4x4 Solver with faster PyTorch propagator (needs Pytorch to be installed)\n",
    "    # return bm.Structure(bm.AIR, Layer, Si).evaluate(lbda, 70, solver=bm.Solver4x4, propagator=bm.PropagatorExpmTorch())"
   ]
  },
  {
   "cell_type": "markdown",
   "id": "outdoor-cisco",
   "metadata": {},
   "source": [
    "# Fit to experimental data"
   ]
  },
  {
   "cell_type": "code",
   "execution_count": 5,
   "id": "822af8b9",
   "metadata": {},
   "outputs": [
    {
     "data": {
      "text/html": [
       "<h2>Fit Statistics</h2><table><tr><td>fitting method</td><td>leastsq</td><td></td></tr><tr><td># function evals</td><td>31</td><td></td></tr><tr><td># data points</td><td>1852</td><td></td></tr><tr><td># variables</td><td>4</td><td></td></tr><tr><td>chi-square</td><td> 0.04559962</td><td></td></tr><tr><td>reduced chi-square</td><td> 2.4675e-05</td><td></td></tr><tr><td>Akaike info crit.</td><td>-19645.1968</td><td></td></tr><tr><td>Bayesian info crit.</td><td>-19623.1007</td><td></td></tr></table><h2>Variables</h2><table><tr><th> name </th><th> value </th><th> standard error </th><th> relative error </th><th> initial value </th><th> min </th><th> max </th><th> vary </th></tr><tr><td> SiO2_n0 </td><td>  1.45200000 </td><td>  0.00000000 </td><td> (0.00%) </td><td> 1.452 </td><td> -100.000000 </td><td>  100.000000 </td><td> False </td></tr><tr><td> SiO2_n1 </td><td>  36.0000000 </td><td>  0.00000000 </td><td> (0.00%) </td><td> 36.0 </td><td> -40000.0000 </td><td>  40000.0000 </td><td> False </td></tr><tr><td> SiO2_n2 </td><td>  0.00000000 </td><td>  0.00000000 </td><td>  </td><td> 0 </td><td> -40000.0000 </td><td>  40000.0000 </td><td> False </td></tr><tr><td> SiO2_k0 </td><td>  0.00000000 </td><td>  0.00000000 </td><td>  </td><td> 0 </td><td> -100.000000 </td><td>  100.000000 </td><td> False </td></tr><tr><td> SiO2_k1 </td><td>  0.00000000 </td><td>  0.00000000 </td><td>  </td><td> 0 </td><td> -40000.0000 </td><td>  40000.0000 </td><td> False </td></tr><tr><td> SiO2_k2 </td><td>  0.00000000 </td><td>  0.00000000 </td><td>  </td><td> 0 </td><td> -40000.0000 </td><td>  40000.0000 </td><td> False </td></tr><tr><td> SiO2_d </td><td>  276.360000 </td><td>  0.00000000 </td><td> (0.00%) </td><td> 276.36 </td><td>  0.00000000 </td><td>  40000.0000 </td><td> False </td></tr><tr><td> TiO2_n0 </td><td>  2.23183184 </td><td>  0.00494641 </td><td> (0.22%) </td><td> 2.236 </td><td> -100.000000 </td><td>  100.000000 </td><td> True </td></tr><tr><td> TiO2_n1 </td><td>  449.067608 </td><td>  23.2018586 </td><td> (5.17%) </td><td> 451 </td><td> -40000.0000 </td><td>  40000.0000 </td><td> True </td></tr><tr><td> TiO2_n2 </td><td>  199.773545 </td><td>  26.9846323 </td><td> (13.51%) </td><td> 251 </td><td> -40000.0000 </td><td>  40000.0000 </td><td> True </td></tr><tr><td> TiO2_k0 </td><td>  0.00000000 </td><td>  0.00000000 </td><td>  </td><td> 0 </td><td> -100.000000 </td><td>  100.000000 </td><td> False </td></tr><tr><td> TiO2_k1 </td><td>  0.00000000 </td><td>  0.00000000 </td><td>  </td><td> 0 </td><td> -40000.0000 </td><td>  40000.0000 </td><td> False </td></tr><tr><td> TiO2_k2 </td><td>  0.00000000 </td><td>  0.00000000 </td><td>  </td><td> 0 </td><td> -40000.0000 </td><td>  40000.0000 </td><td> False </td></tr><tr><td> TiO2_d </td><td>  24.8772290 </td><td>  0.01058302 </td><td> (0.04%) </td><td> 20 </td><td>  0.00000000 </td><td>  40000.0000 </td><td> True </td></tr></table><h2>Correlations (unreported correlations are < 0.100)</h2><table><tr><td>TiO2_n0</td><td>TiO2_n1</td><td>-0.9910</td></tr><tr><td>TiO2_n1</td><td>TiO2_n2</td><td>-0.9879</td></tr><tr><td>TiO2_n0</td><td>TiO2_n2</td><td>0.9640</td></tr></table>"
      ],
      "text/plain": [
       "<lmfit.minimizer.MinimizerResult at 0x18c25c8d988>"
      ]
     },
     "execution_count": 5,
     "metadata": {},
     "output_type": "execute_result"
    }
   ],
   "source": [
    "out = model.fit()\n",
    "out"
   ]
  },
  {
   "cell_type": "markdown",
   "id": "affiliated-retail",
   "metadata": {},
   "source": [
    "# Show fits"
   ]
  },
  {
   "cell_type": "code",
   "execution_count": 6,
   "id": "d829a852-1e1e-445b-a6b5-eaaa2ebaf47e",
   "metadata": {},
   "outputs": [
    {
     "data": {
      "application/vnd.jupyter.widget-view+json": {
       "model_id": "1808638361254624a798349fa07b69c6",
       "version_major": 2,
       "version_minor": 0
      },
      "text/plain": [
       "FigureWidget({\n",
       "    'data': [{'hovertemplate': 'variable=Ψ<br>Wavelength=%{x}<br>value=%{y}<extra></extra>',\n",
       "  …"
      ]
     },
     "metadata": {},
     "output_type": "display_data"
    }
   ],
   "source": [
    "model.plot()"
   ]
  },
  {
   "cell_type": "code",
   "execution_count": 7,
   "id": "cc3cdccd",
   "metadata": {},
   "outputs": [
    {
     "data": {
      "application/vnd.jupyter.widget-view+json": {
       "model_id": "d4d854ce8de642f6b19cf3e3d3d0eb65",
       "version_major": 2,
       "version_minor": 0
      },
      "text/plain": [
       "FigureWidget({\n",
       "    'data': [{'hovertemplate': 'variable=ρr<br>Wavelength=%{x}<br>value=%{y}<extra></extra>',\n",
       " …"
      ]
     },
     "metadata": {},
     "output_type": "display_data"
    }
   ],
   "source": [
    "model.plot_rho()"
   ]
  },
  {
   "cell_type": "code",
   "execution_count": null,
   "id": "c379e71a",
   "metadata": {},
   "outputs": [],
   "source": []
  }
 ],
 "metadata": {
  "interpreter": {
   "hash": "a3508d977314094448d964932c21feec0cbb52aa305b1bb4a08169b5f25e2bc2"
  },
  "jupytext": {
   "formats": "ipynb,md"
  },
  "kernelspec": {
   "display_name": "Python 3 (ipykernel)",
   "language": "python",
   "name": "python3"
  },
  "language_info": {
   "codemirror_mode": {
    "name": "ipython",
    "version": 3
   },
   "file_extension": ".py",
   "mimetype": "text/x-python",
   "name": "python",
   "nbconvert_exporter": "python",
   "pygments_lexer": "ipython3",
   "version": "3.7.12"
  }
 },
 "nbformat": 4,
 "nbformat_minor": 5
}
