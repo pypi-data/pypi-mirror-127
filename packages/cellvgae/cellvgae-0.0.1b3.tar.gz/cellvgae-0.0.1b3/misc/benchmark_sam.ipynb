{
 "cells": [
  {
   "cell_type": "code",
   "execution_count": 1,
   "metadata": {},
   "outputs": [
    {
     "name": "stderr",
     "output_type": "stream",
     "text": [
      "C:\\ProgramData\\Anaconda3\\lib\\site-packages\\numba\\core\\errors.py:149: UserWarning:\n",
      "\n",
      "Insufficiently recent colorama version found. Numba requires colorama >= 0.3.9\n",
      "\n"
     ]
    }
   ],
   "source": [
    "import pandas as pd\n",
    "import ipywidgets as widgets\n",
    "import plotly\n",
    "import matplotlib as mpl\n",
    "import seaborn as sns\n",
    "\n",
    "from IPython.display import display\n",
    "from sklearn.metrics.cluster import adjusted_rand_score\n",
    "from sklearn.metrics import silhouette_score\n",
    "from samalg import SAM"
   ]
  },
  {
   "cell_type": "code",
   "execution_count": 2,
   "metadata": {},
   "outputs": [],
   "source": [
    "mpl.rcParams['figure.dpi']= 500\n",
    "sns.set_context(\"notebook\")\n",
    "sns.set(style=\"white\")"
   ]
  },
  {
   "cell_type": "code",
   "execution_count": 3,
   "metadata": {},
   "outputs": [],
   "source": [
    "gt_clusters_df = pd.read_csv('../Data/Baron4_ground_truth.csv')"
   ]
  },
  {
   "cell_type": "code",
   "execution_count": 4,
   "metadata": {},
   "outputs": [],
   "source": [
    "nna = [1, 5, 10, 25, 50, 100, 150, 200, 800]\n",
    "ks = [5, 10, 20, 40, 80, 120, 160, 200]"
   ]
  },
  {
   "cell_type": "code",
   "execution_count": 5,
   "metadata": {},
   "outputs": [
    {
     "name": "stdout",
     "output_type": "stream",
     "text": [
      "n: 1 -- k: 5 -- ARI 0.9249 -- SC 0.8464\n",
      "n: 1 -- k: 10 -- ARI 0.9187 -- SC 0.7897\n",
      "n: 1 -- k: 20 -- ARI 0.9156 -- SC 0.8238\n",
      "n: 1 -- k: 40 -- ARI 0.9212 -- SC 0.8110\n",
      "n: 1 -- k: 80 -- ARI 0.9165 -- SC 0.8034\n",
      "n: 1 -- k: 120 -- ARI 0.9106 -- SC 0.7811\n",
      "n: 1 -- k: 160 -- ARI 0.9070 -- SC 0.7402\n",
      "n: 1 -- k: 200 -- ARI 0.9077 -- SC 0.7367\n",
      "n: 5 -- k: 5 -- ARI 0.9249 -- SC 0.8313\n",
      "n: 5 -- k: 10 -- ARI 0.9187 -- SC 0.8101\n",
      "n: 5 -- k: 20 -- ARI 0.9156 -- SC 0.8216\n",
      "n: 5 -- k: 40 -- ARI 0.9212 -- SC 0.7663\n",
      "n: 5 -- k: 80 -- ARI 0.9167 -- SC 0.7727\n",
      "n: 5 -- k: 120 -- ARI 0.9095 -- SC 0.7851\n",
      "n: 5 -- k: 160 -- ARI 0.9082 -- SC 0.7396\n",
      "n: 5 -- k: 200 -- ARI 0.9072 -- SC 0.7580\n",
      "n: 10 -- k: 5 -- ARI 0.9240 -- SC 0.8335\n",
      "n: 10 -- k: 10 -- ARI 0.9173 -- SC 0.8161\n",
      "n: 10 -- k: 20 -- ARI 0.9162 -- SC 0.8087\n",
      "n: 10 -- k: 40 -- ARI 0.9212 -- SC 0.8183\n",
      "n: 10 -- k: 80 -- ARI 0.9165 -- SC 0.7590\n",
      "n: 10 -- k: 120 -- ARI 0.9093 -- SC 0.7645\n",
      "n: 10 -- k: 160 -- ARI 0.9090 -- SC 0.7542\n",
      "n: 10 -- k: 200 -- ARI 0.9089 -- SC 0.7786\n",
      "n: 25 -- k: 5 -- ARI 0.9237 -- SC 0.8372\n",
      "n: 25 -- k: 10 -- ARI 0.9237 -- SC 0.8191\n",
      "n: 25 -- k: 20 -- ARI 0.9245 -- SC 0.8319\n",
      "n: 25 -- k: 40 -- ARI 0.9221 -- SC 0.7966\n",
      "n: 25 -- k: 80 -- ARI 0.9161 -- SC 0.7871\n",
      "n: 25 -- k: 120 -- ARI 0.9099 -- SC 0.7623\n",
      "n: 25 -- k: 160 -- ARI 0.9101 -- SC 0.7870\n",
      "n: 25 -- k: 200 -- ARI 0.9101 -- SC 0.7915\n",
      "n: 50 -- k: 5 -- ARI 0.9203 -- SC 0.8347\n",
      "n: 50 -- k: 10 -- ARI 0.9198 -- SC 0.8192\n",
      "n: 50 -- k: 20 -- ARI 0.9232 -- SC 0.8425\n",
      "n: 50 -- k: 40 -- ARI 0.9218 -- SC 0.8097\n",
      "n: 50 -- k: 80 -- ARI 0.9218 -- SC 0.7932\n",
      "n: 50 -- k: 120 -- ARI 0.9159 -- SC 0.8034\n",
      "n: 50 -- k: 160 -- ARI 0.9159 -- SC 0.7605\n",
      "n: 50 -- k: 200 -- ARI 0.9105 -- SC 0.7884\n",
      "n: 100 -- k: 5 -- ARI 0.9187 -- SC 0.8432\n",
      "n: 100 -- k: 10 -- ARI 0.9193 -- SC 0.8180\n",
      "n: 100 -- k: 20 -- ARI 0.9232 -- SC 0.8420\n",
      "n: 100 -- k: 40 -- ARI 0.9224 -- SC 0.8250\n",
      "n: 100 -- k: 80 -- ARI 0.9210 -- SC 0.7936\n",
      "n: 100 -- k: 120 -- ARI 0.9213 -- SC 0.8314\n",
      "n: 100 -- k: 160 -- ARI 0.9139 -- SC 0.7915\n",
      "n: 100 -- k: 200 -- ARI 0.9181 -- SC 0.8078\n",
      "n: 150 -- k: 5 -- ARI 0.9218 -- SC 0.8569\n",
      "n: 150 -- k: 10 -- ARI 0.9193 -- SC 0.8271\n",
      "n: 150 -- k: 20 -- ARI 0.9232 -- SC 0.8191\n",
      "n: 150 -- k: 40 -- ARI 0.9189 -- SC 0.8208\n",
      "n: 150 -- k: 80 -- ARI 0.9208 -- SC 0.8257\n",
      "n: 150 -- k: 120 -- ARI 0.9179 -- SC 0.8049\n",
      "n: 150 -- k: 160 -- ARI 0.9189 -- SC 0.7850\n",
      "n: 150 -- k: 200 -- ARI 0.9179 -- SC 0.7924\n",
      "n: 200 -- k: 5 -- ARI 0.9191 -- SC 0.8234\n",
      "n: 200 -- k: 10 -- ARI 0.9191 -- SC 0.8426\n",
      "n: 200 -- k: 20 -- ARI 0.9249 -- SC 0.8372\n",
      "n: 200 -- k: 40 -- ARI 0.9234 -- SC 0.8355\n",
      "n: 200 -- k: 80 -- ARI 0.9195 -- SC 0.8196\n",
      "n: 200 -- k: 120 -- ARI 0.9205 -- SC 0.7913\n",
      "n: 200 -- k: 160 -- ARI 0.9183 -- SC 0.7860\n",
      "n: 200 -- k: 200 -- ARI 0.9184 -- SC 0.7980\n",
      "n: 800 -- k: 5 -- ARI 0.9223 -- SC 0.8575\n",
      "n: 800 -- k: 10 -- ARI 0.9182 -- SC 0.8328\n",
      "n: 800 -- k: 20 -- ARI 0.9189 -- SC 0.7917\n",
      "n: 800 -- k: 40 -- ARI 0.9228 -- SC 0.8142\n",
      "n: 800 -- k: 80 -- ARI 0.9225 -- SC 0.8275\n",
      "n: 800 -- k: 120 -- ARI 0.9218 -- SC 0.8266\n",
      "n: 800 -- k: 160 -- ARI 0.9258 -- SC 0.7888\n",
      "n: 800 -- k: 200 -- ARI 0.9263 -- SC 0.7823\n"
     ]
    }
   ],
   "source": [
    "sam = SAM()\n",
    "sam.load_data('../Data/Baron4_counts.csv')\n",
    "sam.preprocess_data()\n",
    "\n",
    "params_to_score = {}\n",
    "\n",
    "for n in nna:\n",
    "    for k in ks:\n",
    "        sam.run(k=k, num_norm_avg=n, verbose=False)\n",
    "        sam.clustering(method = 'hdbscan')\n",
    "        sam_clusters = list(sam.adata.obs['hdbscan_clusters'].values)\n",
    "        ari = adjusted_rand_score(gt_clusters_df['assigned_cluster'].values, sam_clusters)\n",
    "        silh = silhouette_score(sam.adata.obsm['X_umap'], sam_clusters)\n",
    "        print('n: %d -- k: %d -- ARI %.4f -- SC %.4f' % (n, k, ari, silh))\n",
    "\n",
    "        params_to_score[(n, k)] = (ari, silh, sam_clusters)"
   ]
  },
  {
   "cell_type": "code",
   "execution_count": 6,
   "metadata": {},
   "outputs": [],
   "source": [
    "best = params_to_score[max(params_to_score, key=params_to_score.get)]"
   ]
  },
  {
   "cell_type": "code",
   "execution_count": 7,
   "metadata": {},
   "outputs": [
    {
     "data": {
      "text/plain": [
       "0.9262706424547241"
      ]
     },
     "execution_count": 7,
     "metadata": {},
     "output_type": "execute_result"
    }
   ],
   "source": [
    "best[0]"
   ]
  },
  {
   "cell_type": "code",
   "execution_count": 8,
   "metadata": {},
   "outputs": [
    {
     "data": {
      "text/plain": [
       "0.7823146"
      ]
     },
     "execution_count": 8,
     "metadata": {},
     "output_type": "execute_result"
    }
   ],
   "source": [
    "best[1]"
   ]
  },
  {
   "cell_type": "code",
   "execution_count": 9,
   "metadata": {},
   "outputs": [
    {
     "data": {
      "text/plain": [
       "8"
      ]
     },
     "execution_count": 9,
     "metadata": {},
     "output_type": "execute_result"
    }
   ],
   "source": [
    "len(set(best[2]))"
   ]
  },
  {
   "cell_type": "code",
   "execution_count": null,
   "metadata": {},
   "outputs": [],
   "source": []
  }
 ],
 "metadata": {
  "kernelspec": {
   "display_name": "Python 3",
   "language": "python",
   "name": "python3"
  },
  "language_info": {
   "codemirror_mode": {
    "name": "ipython",
    "version": 3
   },
   "file_extension": ".py",
   "mimetype": "text/x-python",
   "name": "python",
   "nbconvert_exporter": "python",
   "pygments_lexer": "ipython3",
   "version": "3.8.3"
  }
 },
 "nbformat": 4,
 "nbformat_minor": 4
}
