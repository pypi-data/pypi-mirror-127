{
 "cells": [
  {
   "cell_type": "code",
   "execution_count": 1,
   "id": "1b54a45f",
   "metadata": {},
   "outputs": [],
   "source": [
    "import torch\n",
    "import numpy as np\n",
    "import umap\n",
    "import hdbscan\n",
    "import matplotlib.pyplot as plt\n",
    "import matplotlib as mpl\n",
    "import seaborn as sns\n",
    "import pandas as pd\n",
    "import scipy\n",
    "from collections import defaultdict\n",
    "from sklearn.metrics.pairwise import euclidean_distances"
   ]
  },
  {
   "cell_type": "code",
   "execution_count": 2,
   "id": "41d72563",
   "metadata": {},
   "outputs": [],
   "source": [
    "l2_coeff = torch.load('PBMC3k/attn_layers_data/pbmc3k_hidden_layer_2_attention_coeff.pt')\n",
    "l2_ei = torch.load('PBMC3k/attn_layers_data/pbmc3k_hidden_layer_2_attention_edge_index.pt')"
   ]
  },
  {
   "cell_type": "code",
   "execution_count": 3,
   "id": "369bb545",
   "metadata": {},
   "outputs": [
    {
     "data": {
      "text/plain": [
       "torch.Size([86251, 16])"
      ]
     },
     "execution_count": 3,
     "metadata": {},
     "output_type": "execute_result"
    }
   ],
   "source": [
    "l2_coeff.shape"
   ]
  },
  {
   "cell_type": "code",
   "execution_count": 4,
   "id": "7f3db11e",
   "metadata": {},
   "outputs": [
    {
     "data": {
      "text/plain": [
       "torch.Size([2, 86251])"
      ]
     },
     "execution_count": 4,
     "metadata": {},
     "output_type": "execute_result"
    }
   ],
   "source": [
    "l2_ei.shape"
   ]
  },
  {
   "cell_type": "code",
   "execution_count": 5,
   "id": "61d3e2a1",
   "metadata": {},
   "outputs": [],
   "source": [
    "dim = None\n",
    "k = 80\n",
    "\n",
    "edges = l2_ei.T\n",
    "if not dim:\n",
    "    w = l2_coeff.mean(dim=1)\n",
    "else:\n",
    "    w = l2_coeff[:, dim]\n",
    "w = w.squeeze()\n",
    "top_values, top_indices = torch.topk(w, k)"
   ]
  },
  {
   "cell_type": "code",
   "execution_count": 6,
   "id": "c622d566",
   "metadata": {},
   "outputs": [
    {
     "data": {
      "text/plain": [
       "tensor([0.8296, 0.8181, 0.8174, 0.8171, 0.8141, 0.8018, 0.7811, 0.7683, 0.7664,\n",
       "        0.7474, 0.7367, 0.7322, 0.6623, 0.6453, 0.6392, 0.6340, 0.6263, 0.5891,\n",
       "        0.5548, 0.5268, 0.5240, 0.5213, 0.5008, 0.4999, 0.4984, 0.4851, 0.4840,\n",
       "        0.4592, 0.4496, 0.4424, 0.4256, 0.4206, 0.4192, 0.4157, 0.4047, 0.4020,\n",
       "        0.3964, 0.3787, 0.3765, 0.3759, 0.3758, 0.3690, 0.3651, 0.3648, 0.3310,\n",
       "        0.3236, 0.3208, 0.3204, 0.3201, 0.3148, 0.3122, 0.3115, 0.3107, 0.3062,\n",
       "        0.2969, 0.2937, 0.2925, 0.2882, 0.2864, 0.2858, 0.2818, 0.2805, 0.2779,\n",
       "        0.2755, 0.2753, 0.2745, 0.2731, 0.2669, 0.2648, 0.2540, 0.2479, 0.2464,\n",
       "        0.2437, 0.2429, 0.2422, 0.2370, 0.2366, 0.2358, 0.2357, 0.2353],\n",
       "       grad_fn=<TopkBackward>)"
      ]
     },
     "execution_count": 6,
     "metadata": {},
     "output_type": "execute_result"
    }
   ],
   "source": [
    "top_values"
   ]
  },
  {
   "cell_type": "code",
   "execution_count": 7,
   "id": "3094a66a",
   "metadata": {},
   "outputs": [
    {
     "data": {
      "text/plain": [
       "tensor([19996, 20127, 20158, 23743, 58699, 17332, 16783, 58766, 56862, 58800,\n",
       "        65252, 56831, 55254, 50618, 16978, 55330,  7193, 20263, 23609, 55349,\n",
       "         8141, 55098,  8312, 55394,  8070,  8029,  8334, 55446, 65374, 79625,\n",
       "         8323, 79442, 20203,  8434,  8435, 65175, 55124, 23690, 23949, 55252,\n",
       "        23800, 79782, 55191, 55406, 32974, 32635, 48259, 17049, 55150, 55165,\n",
       "        56659, 17414, 50552,  8408,  7999, 16706, 47750,  8307,  8508, 65025,\n",
       "        33007, 62380, 26156, 48499, 48132, 50631, 79916, 32801, 65264, 55222,\n",
       "        32781, 37054, 38718, 48623, 37128, 62686,  8288, 19971, 17300, 16964])"
      ]
     },
     "execution_count": 7,
     "metadata": {},
     "output_type": "execute_result"
    }
   ],
   "source": [
    "top_indices"
   ]
  },
  {
   "cell_type": "code",
   "execution_count": 8,
   "id": "cf2b7e78",
   "metadata": {},
   "outputs": [],
   "source": [
    "seurat_df = pd.read_csv('PBMC3k/seurat_clusters.csv')\n",
    "cell_types = seurat_df['Cluster'].values.tolist()"
   ]
  },
  {
   "cell_type": "code",
   "execution_count": 9,
   "id": "c4e33a69",
   "metadata": {},
   "outputs": [],
   "source": [
    "top_edges = edges[top_indices]"
   ]
  },
  {
   "cell_type": "code",
   "execution_count": 10,
   "id": "4766ed20",
   "metadata": {},
   "outputs": [],
   "source": [
    "latent = np.load('PBMC3k/CellVGAE/cellvgae_node_embs.npy')\n",
    "u = np.load('PBMC3k/CellVGAE/cellvgae_umap.npy')"
   ]
  },
  {
   "cell_type": "code",
   "execution_count": 11,
   "id": "8bbcbb1d",
   "metadata": {},
   "outputs": [
    {
     "data": {
      "text/plain": [
       "(2638, 50)"
      ]
     },
     "execution_count": 11,
     "metadata": {},
     "output_type": "execute_result"
    }
   ],
   "source": [
    "latent.shape"
   ]
  },
  {
   "cell_type": "code",
   "execution_count": 12,
   "id": "263b1fc3",
   "metadata": {},
   "outputs": [],
   "source": [
    "selected_cells = latent[torch.unique(top_edges).numpy()]"
   ]
  },
  {
   "cell_type": "code",
   "execution_count": 13,
   "id": "cfa44421-5c77-4aa4-8528-e83540f57efc",
   "metadata": {},
   "outputs": [
    {
     "data": {
      "text/plain": [
       "(89, 50)"
      ]
     },
     "execution_count": 13,
     "metadata": {},
     "output_type": "execute_result"
    }
   ],
   "source": [
    "selected_cells.shape"
   ]
  },
  {
   "cell_type": "code",
   "execution_count": 14,
   "id": "6dfa4e66",
   "metadata": {},
   "outputs": [],
   "source": [
    "ed = euclidean_distances(selected_cells, selected_cells)"
   ]
  },
  {
   "cell_type": "code",
   "execution_count": 16,
   "id": "532109bf",
   "metadata": {},
   "outputs": [
    {
     "data": {
      "text/plain": [
       "(89, 89)"
      ]
     },
     "execution_count": 16,
     "metadata": {},
     "output_type": "execute_result"
    }
   ],
   "source": [
    "ed.shape"
   ]
  },
  {
   "cell_type": "code",
   "execution_count": 15,
   "id": "c1d2038b",
   "metadata": {},
   "outputs": [],
   "source": [
    "selected_cells_types = seurat_df['Cluster'].values[torch.unique(top_edges)]"
   ]
  },
  {
   "cell_type": "code",
   "execution_count": 61,
   "id": "6d36523c-84a4-4d45-998d-9c2440181072",
   "metadata": {},
   "outputs": [
    {
     "data": {
      "text/plain": [
       "89"
      ]
     },
     "execution_count": 61,
     "metadata": {},
     "output_type": "execute_result"
    }
   ],
   "source": [
    "len(selected_cells_types.tolist())"
   ]
  },
  {
   "cell_type": "code",
   "execution_count": 68,
   "id": "2090de8a-860e-4cd5-8426-cfdb62883828",
   "metadata": {},
   "outputs": [],
   "source": [
    "cell_to_cluster = seurat_df.to_dict()['Cluster']"
   ]
  },
  {
   "cell_type": "code",
   "execution_count": 71,
   "id": "344b0898-154f-4d8c-a902-39085fffbba8",
   "metadata": {},
   "outputs": [],
   "source": [
    "cell_type_counter = defaultdict(int)\n",
    "new_cell_names = []\n",
    "for cell_cluster in cell_to_cluster.values():\n",
    "    cnt = cell_type_counter[cell_cluster]\n",
    "    cell_type_counter[cell_cluster] += 1\n",
    "    new_cell_names.append(cell_cluster + ' ' + str(cnt))"
   ]
  },
  {
   "cell_type": "code",
   "execution_count": 79,
   "id": "a2a2ca82-cdc8-4e5d-a949-5681eb607313",
   "metadata": {},
   "outputs": [],
   "source": [
    "selected_cells_names = np.array(new_cell_names)[torch.unique(top_edges)]"
   ]
  },
  {
   "cell_type": "code",
   "execution_count": 80,
   "id": "412bc837",
   "metadata": {},
   "outputs": [],
   "source": [
    "df = pd.DataFrame(ed, columns=selected_cells_names)"
   ]
  },
  {
   "cell_type": "code",
   "execution_count": 81,
   "id": "6b2191ad",
   "metadata": {},
   "outputs": [],
   "source": [
    "df.insert(0, 'Cell', selected_cells_names)"
   ]
  },
  {
   "cell_type": "code",
   "execution_count": 103,
   "id": "3b53705f-1f39-4d32-850d-91ea0227edf2",
   "metadata": {},
   "outputs": [
    {
     "data": {
      "text/html": [
       "<div>\n",
       "<style scoped>\n",
       "    .dataframe tbody tr th:only-of-type {\n",
       "        vertical-align: middle;\n",
       "    }\n",
       "\n",
       "    .dataframe tbody tr th {\n",
       "        vertical-align: top;\n",
       "    }\n",
       "\n",
       "    .dataframe thead th {\n",
       "        text-align: right;\n",
       "    }\n",
       "</style>\n",
       "<table border=\"1\" class=\"dataframe\">\n",
       "  <thead>\n",
       "    <tr style=\"text-align: right;\">\n",
       "      <th></th>\n",
       "      <th>Cell</th>\n",
       "      <th>FCGR3A+ Mono 1</th>\n",
       "      <th>T 18</th>\n",
       "      <th>T 30</th>\n",
       "      <th>T 60</th>\n",
       "      <th>T 86</th>\n",
       "      <th>T 96</th>\n",
       "      <th>T 97</th>\n",
       "      <th>FCGR3A+ Mono 16</th>\n",
       "      <th>Platelet 0</th>\n",
       "      <th>...</th>\n",
       "      <th>T 1054</th>\n",
       "      <th>T 1059</th>\n",
       "      <th>T 1080</th>\n",
       "      <th>T 1099</th>\n",
       "      <th>FCGR3A+ Mono 149</th>\n",
       "      <th>CD8 T 262</th>\n",
       "      <th>Platelet 13</th>\n",
       "      <th>T 1155</th>\n",
       "      <th>T 1157</th>\n",
       "      <th>DC 31</th>\n",
       "    </tr>\n",
       "  </thead>\n",
       "  <tbody>\n",
       "    <tr>\n",
       "      <th>0</th>\n",
       "      <td>FCGR3A+ Mono 1</td>\n",
       "      <td>0.000000</td>\n",
       "      <td>2.001639</td>\n",
       "      <td>2.108213</td>\n",
       "      <td>2.024708</td>\n",
       "      <td>2.025151</td>\n",
       "      <td>2.064373</td>\n",
       "      <td>2.006296</td>\n",
       "      <td>0.057816</td>\n",
       "      <td>2.204433</td>\n",
       "      <td>...</td>\n",
       "      <td>2.219748</td>\n",
       "      <td>2.258620</td>\n",
       "      <td>2.222086</td>\n",
       "      <td>2.080150</td>\n",
       "      <td>0.167265</td>\n",
       "      <td>1.928919</td>\n",
       "      <td>2.217709</td>\n",
       "      <td>2.213296</td>\n",
       "      <td>2.028470</td>\n",
       "      <td>2.157073</td>\n",
       "    </tr>\n",
       "    <tr>\n",
       "      <th>1</th>\n",
       "      <td>T 18</td>\n",
       "      <td>2.001639</td>\n",
       "      <td>0.000000</td>\n",
       "      <td>0.489999</td>\n",
       "      <td>0.232578</td>\n",
       "      <td>0.390233</td>\n",
       "      <td>0.408154</td>\n",
       "      <td>0.206148</td>\n",
       "      <td>1.949221</td>\n",
       "      <td>1.649520</td>\n",
       "      <td>...</td>\n",
       "      <td>0.849409</td>\n",
       "      <td>0.928125</td>\n",
       "      <td>0.900572</td>\n",
       "      <td>0.436520</td>\n",
       "      <td>1.925066</td>\n",
       "      <td>0.376843</td>\n",
       "      <td>1.710673</td>\n",
       "      <td>0.876135</td>\n",
       "      <td>0.374226</td>\n",
       "      <td>2.214857</td>\n",
       "    </tr>\n",
       "    <tr>\n",
       "      <th>2</th>\n",
       "      <td>T 30</td>\n",
       "      <td>2.108213</td>\n",
       "      <td>0.489999</td>\n",
       "      <td>0.000000</td>\n",
       "      <td>0.261048</td>\n",
       "      <td>0.128851</td>\n",
       "      <td>0.103925</td>\n",
       "      <td>0.303473</td>\n",
       "      <td>2.058736</td>\n",
       "      <td>2.128136</td>\n",
       "      <td>...</td>\n",
       "      <td>0.361603</td>\n",
       "      <td>0.439352</td>\n",
       "      <td>0.413897</td>\n",
       "      <td>0.082917</td>\n",
       "      <td>2.067943</td>\n",
       "      <td>0.849508</td>\n",
       "      <td>2.188628</td>\n",
       "      <td>0.390020</td>\n",
       "      <td>0.137417</td>\n",
       "      <td>2.220363</td>\n",
       "    </tr>\n",
       "    <tr>\n",
       "      <th>3</th>\n",
       "      <td>T 60</td>\n",
       "      <td>2.024708</td>\n",
       "      <td>0.232578</td>\n",
       "      <td>0.261048</td>\n",
       "      <td>0.000000</td>\n",
       "      <td>0.160305</td>\n",
       "      <td>0.176402</td>\n",
       "      <td>0.053797</td>\n",
       "      <td>1.973174</td>\n",
       "      <td>1.869785</td>\n",
       "      <td>...</td>\n",
       "      <td>0.618279</td>\n",
       "      <td>0.697320</td>\n",
       "      <td>0.669733</td>\n",
       "      <td>0.204431</td>\n",
       "      <td>1.965537</td>\n",
       "      <td>0.600286</td>\n",
       "      <td>1.930733</td>\n",
       "      <td>0.646442</td>\n",
       "      <td>0.145451</td>\n",
       "      <td>2.211995</td>\n",
       "    </tr>\n",
       "    <tr>\n",
       "      <th>4</th>\n",
       "      <td>T 86</td>\n",
       "      <td>2.025151</td>\n",
       "      <td>0.390233</td>\n",
       "      <td>0.128851</td>\n",
       "      <td>0.160305</td>\n",
       "      <td>0.000000</td>\n",
       "      <td>0.044255</td>\n",
       "      <td>0.193124</td>\n",
       "      <td>1.974759</td>\n",
       "      <td>2.014036</td>\n",
       "      <td>...</td>\n",
       "      <td>0.465340</td>\n",
       "      <td>0.544933</td>\n",
       "      <td>0.515488</td>\n",
       "      <td>0.068839</td>\n",
       "      <td>1.978331</td>\n",
       "      <td>0.750581</td>\n",
       "      <td>2.074533</td>\n",
       "      <td>0.493267</td>\n",
       "      <td>0.026408</td>\n",
       "      <td>2.196364</td>\n",
       "    </tr>\n",
       "    <tr>\n",
       "      <th>...</th>\n",
       "      <td>...</td>\n",
       "      <td>...</td>\n",
       "      <td>...</td>\n",
       "      <td>...</td>\n",
       "      <td>...</td>\n",
       "      <td>...</td>\n",
       "      <td>...</td>\n",
       "      <td>...</td>\n",
       "      <td>...</td>\n",
       "      <td>...</td>\n",
       "      <td>...</td>\n",
       "      <td>...</td>\n",
       "      <td>...</td>\n",
       "      <td>...</td>\n",
       "      <td>...</td>\n",
       "      <td>...</td>\n",
       "      <td>...</td>\n",
       "      <td>...</td>\n",
       "      <td>...</td>\n",
       "      <td>...</td>\n",
       "      <td>...</td>\n",
       "    </tr>\n",
       "    <tr>\n",
       "      <th>84</th>\n",
       "      <td>CD8 T 262</td>\n",
       "      <td>1.928919</td>\n",
       "      <td>0.376843</td>\n",
       "      <td>0.849508</td>\n",
       "      <td>0.600286</td>\n",
       "      <td>0.750581</td>\n",
       "      <td>0.774240</td>\n",
       "      <td>0.575558</td>\n",
       "      <td>1.877286</td>\n",
       "      <td>1.326404</td>\n",
       "      <td>...</td>\n",
       "      <td>1.205286</td>\n",
       "      <td>1.282322</td>\n",
       "      <td>1.253193</td>\n",
       "      <td>0.803325</td>\n",
       "      <td>1.828452</td>\n",
       "      <td>0.000000</td>\n",
       "      <td>1.384930</td>\n",
       "      <td>1.226497</td>\n",
       "      <td>0.734113</td>\n",
       "      <td>2.173274</td>\n",
       "    </tr>\n",
       "    <tr>\n",
       "      <th>85</th>\n",
       "      <td>Platelet 13</td>\n",
       "      <td>2.217709</td>\n",
       "      <td>1.710673</td>\n",
       "      <td>2.188628</td>\n",
       "      <td>1.930733</td>\n",
       "      <td>2.074533</td>\n",
       "      <td>2.098627</td>\n",
       "      <td>1.890777</td>\n",
       "      <td>2.176587</td>\n",
       "      <td>0.068751</td>\n",
       "      <td>...</td>\n",
       "      <td>2.535257</td>\n",
       "      <td>2.614046</td>\n",
       "      <td>2.582680</td>\n",
       "      <td>2.126901</td>\n",
       "      <td>2.055536</td>\n",
       "      <td>1.384930</td>\n",
       "      <td>0.000000</td>\n",
       "      <td>2.560737</td>\n",
       "      <td>2.062014</td>\n",
       "      <td>2.921122</td>\n",
       "    </tr>\n",
       "    <tr>\n",
       "      <th>86</th>\n",
       "      <td>T 1155</td>\n",
       "      <td>2.213296</td>\n",
       "      <td>0.876135</td>\n",
       "      <td>0.390020</td>\n",
       "      <td>0.646442</td>\n",
       "      <td>0.493267</td>\n",
       "      <td>0.476335</td>\n",
       "      <td>0.684649</td>\n",
       "      <td>2.168123</td>\n",
       "      <td>2.501199</td>\n",
       "      <td>...</td>\n",
       "      <td>0.052491</td>\n",
       "      <td>0.065942</td>\n",
       "      <td>0.037145</td>\n",
       "      <td>0.450277</td>\n",
       "      <td>2.201151</td>\n",
       "      <td>1.226497</td>\n",
       "      <td>2.560737</td>\n",
       "      <td>0.000000</td>\n",
       "      <td>0.506468</td>\n",
       "      <td>2.239413</td>\n",
       "    </tr>\n",
       "    <tr>\n",
       "      <th>87</th>\n",
       "      <td>T 1157</td>\n",
       "      <td>2.028470</td>\n",
       "      <td>0.374226</td>\n",
       "      <td>0.137417</td>\n",
       "      <td>0.145451</td>\n",
       "      <td>0.026408</td>\n",
       "      <td>0.057508</td>\n",
       "      <td>0.180758</td>\n",
       "      <td>1.978112</td>\n",
       "      <td>2.001473</td>\n",
       "      <td>...</td>\n",
       "      <td>0.479693</td>\n",
       "      <td>0.558992</td>\n",
       "      <td>0.529746</td>\n",
       "      <td>0.083341</td>\n",
       "      <td>1.980334</td>\n",
       "      <td>0.734113</td>\n",
       "      <td>2.062014</td>\n",
       "      <td>0.506468</td>\n",
       "      <td>0.000000</td>\n",
       "      <td>2.184808</td>\n",
       "    </tr>\n",
       "    <tr>\n",
       "      <th>88</th>\n",
       "      <td>DC 31</td>\n",
       "      <td>2.157073</td>\n",
       "      <td>2.214857</td>\n",
       "      <td>2.220363</td>\n",
       "      <td>2.211995</td>\n",
       "      <td>2.196364</td>\n",
       "      <td>2.226812</td>\n",
       "      <td>2.227125</td>\n",
       "      <td>2.153223</td>\n",
       "      <td>2.895058</td>\n",
       "      <td>...</td>\n",
       "      <td>2.272854</td>\n",
       "      <td>2.291176</td>\n",
       "      <td>2.266182</td>\n",
       "      <td>2.241105</td>\n",
       "      <td>2.156102</td>\n",
       "      <td>2.173274</td>\n",
       "      <td>2.921122</td>\n",
       "      <td>2.239413</td>\n",
       "      <td>2.184808</td>\n",
       "      <td>0.000000</td>\n",
       "    </tr>\n",
       "  </tbody>\n",
       "</table>\n",
       "<p>89 rows × 90 columns</p>\n",
       "</div>"
      ],
      "text/plain": [
       "              Cell  FCGR3A+ Mono 1      T 18      T 30      T 60      T 86  \\\n",
       "0   FCGR3A+ Mono 1        0.000000  2.001639  2.108213  2.024708  2.025151   \n",
       "1             T 18        2.001639  0.000000  0.489999  0.232578  0.390233   \n",
       "2             T 30        2.108213  0.489999  0.000000  0.261048  0.128851   \n",
       "3             T 60        2.024708  0.232578  0.261048  0.000000  0.160305   \n",
       "4             T 86        2.025151  0.390233  0.128851  0.160305  0.000000   \n",
       "..             ...             ...       ...       ...       ...       ...   \n",
       "84       CD8 T 262        1.928919  0.376843  0.849508  0.600286  0.750581   \n",
       "85     Platelet 13        2.217709  1.710673  2.188628  1.930733  2.074533   \n",
       "86          T 1155        2.213296  0.876135  0.390020  0.646442  0.493267   \n",
       "87          T 1157        2.028470  0.374226  0.137417  0.145451  0.026408   \n",
       "88           DC 31        2.157073  2.214857  2.220363  2.211995  2.196364   \n",
       "\n",
       "        T 96      T 97  FCGR3A+ Mono 16  Platelet 0  ...    T 1054    T 1059  \\\n",
       "0   2.064373  2.006296         0.057816    2.204433  ...  2.219748  2.258620   \n",
       "1   0.408154  0.206148         1.949221    1.649520  ...  0.849409  0.928125   \n",
       "2   0.103925  0.303473         2.058736    2.128136  ...  0.361603  0.439352   \n",
       "3   0.176402  0.053797         1.973174    1.869785  ...  0.618279  0.697320   \n",
       "4   0.044255  0.193124         1.974759    2.014036  ...  0.465340  0.544933   \n",
       "..       ...       ...              ...         ...  ...       ...       ...   \n",
       "84  0.774240  0.575558         1.877286    1.326404  ...  1.205286  1.282322   \n",
       "85  2.098627  1.890777         2.176587    0.068751  ...  2.535257  2.614046   \n",
       "86  0.476335  0.684649         2.168123    2.501199  ...  0.052491  0.065942   \n",
       "87  0.057508  0.180758         1.978112    2.001473  ...  0.479693  0.558992   \n",
       "88  2.226812  2.227125         2.153223    2.895058  ...  2.272854  2.291176   \n",
       "\n",
       "      T 1080    T 1099  FCGR3A+ Mono 149  CD8 T 262  Platelet 13    T 1155  \\\n",
       "0   2.222086  2.080150          0.167265   1.928919     2.217709  2.213296   \n",
       "1   0.900572  0.436520          1.925066   0.376843     1.710673  0.876135   \n",
       "2   0.413897  0.082917          2.067943   0.849508     2.188628  0.390020   \n",
       "3   0.669733  0.204431          1.965537   0.600286     1.930733  0.646442   \n",
       "4   0.515488  0.068839          1.978331   0.750581     2.074533  0.493267   \n",
       "..       ...       ...               ...        ...          ...       ...   \n",
       "84  1.253193  0.803325          1.828452   0.000000     1.384930  1.226497   \n",
       "85  2.582680  2.126901          2.055536   1.384930     0.000000  2.560737   \n",
       "86  0.037145  0.450277          2.201151   1.226497     2.560737  0.000000   \n",
       "87  0.529746  0.083341          1.980334   0.734113     2.062014  0.506468   \n",
       "88  2.266182  2.241105          2.156102   2.173274     2.921122  2.239413   \n",
       "\n",
       "      T 1157     DC 31  \n",
       "0   2.028470  2.157073  \n",
       "1   0.374226  2.214857  \n",
       "2   0.137417  2.220363  \n",
       "3   0.145451  2.211995  \n",
       "4   0.026408  2.196364  \n",
       "..       ...       ...  \n",
       "84  0.734113  2.173274  \n",
       "85  2.062014  2.921122  \n",
       "86  0.506468  2.239413  \n",
       "87  0.000000  2.184808  \n",
       "88  2.184808  0.000000  \n",
       "\n",
       "[89 rows x 90 columns]"
      ]
     },
     "execution_count": 103,
     "metadata": {},
     "output_type": "execute_result"
    }
   ],
   "source": [
    "df"
   ]
  },
  {
   "cell_type": "code",
   "execution_count": 87,
   "id": "2bc7a2b7-9d6a-4d33-b869-f1ace7987917",
   "metadata": {},
   "outputs": [],
   "source": [
    "edges_to_name = np.array([(np.array(new_cell_names)[edge[0]], np.array(new_cell_names)[edge[1]]) for edge in top_edges])"
   ]
  },
  {
   "cell_type": "code",
   "execution_count": 93,
   "id": "6386fac3-1c89-47f8-8c06-38b9f5cf48d7",
   "metadata": {},
   "outputs": [
    {
     "data": {
      "text/plain": [
       "array([['Platelet 4', 'T 287'],\n",
       "       ['Platelet 4', 'CD8 T 150'],\n",
       "       ['Platelet 4', 'CD8 T 159'],\n",
       "       ['Platelet 5', 'T 743'],\n",
       "       ['Platelet 10', 'T 846'],\n",
       "       ['Platelet 3', 'T 865'],\n",
       "       ['Platelet 3', 'T 96'],\n",
       "       ['Platelet 10', 'T 982'],\n",
       "       ['Platelet 9', 'T 808'],\n",
       "       ['Platelet 10', 'T 1054'],\n",
       "       ['Platelet 12', 'T 768'],\n",
       "       ['Platelet 9', 'T 712'],\n",
       "       ['Platelet 8', 'T 676'],\n",
       "       ['Platelet 7', 'T 623'],\n",
       "       ['Platelet 3', 'T 352'],\n",
       "       ['Platelet 8', 'T 879'],\n",
       "       ['Platelet 0', 'T 30'],\n",
       "       ['Platelet 4', 'CD8 T 235'],\n",
       "       ['Platelet 5', 'T 444'],\n",
       "       ['Platelet 8', 'T 914'],\n",
       "       ['Platelet 2', 'FCGR3A+ Mono 40'],\n",
       "       ['Platelet 8', 'T 225'],\n",
       "       ['Platelet 2', 'FCGR3A+ Mono 87'],\n",
       "       ['Platelet 8', 'T 1040'],\n",
       "       ['Platelet 2', 'FCGR3A+ Mono 16'],\n",
       "       ['Platelet 2', 'FCGR3A+ Mono 1'],\n",
       "       ['Platelet 2', 'FCGR3A+ Mono 96'],\n",
       "       ['Platelet 8', 'T 1155'],\n",
       "       ['Platelet 12', 'CD8 T 241'],\n",
       "       ['Platelet 13', 'CD8 T 68'],\n",
       "       ['Platelet 2', 'FCGR3A+ Mono 94'],\n",
       "       ['Platelet 13', 'T 18'],\n",
       "       ['Platelet 4', 'T 881'],\n",
       "       ['Platelet 2', 'FCGR3A+ Mono 120'],\n",
       "       ['Platelet 2', 'FCGR3A+ Mono 121'],\n",
       "       ['Platelet 12', 'CD8 T 131'],\n",
       "       ['Platelet 8', 'T 295'],\n",
       "       ['Platelet 5', 'CD14+ Mono 255'],\n",
       "       ['Platelet 5', 'FCGR3A+ Mono 149'],\n",
       "       ['Platelet 8', 'T 669'],\n",
       "       ['Platelet 5', 'T 869'],\n",
       "       ['Platelet 13', 'CD8 T 131'],\n",
       "       ['Platelet 8', 'T 473'],\n",
       "       ['Platelet 8', 'T 1059'],\n",
       "       ['T 466', 'CD8 T 223'],\n",
       "       ['T 466', 'T 97'],\n",
       "       ['Platelet 6', 'T 18'],\n",
       "       ['Platelet 3', 'T 444'],\n",
       "       ['Platelet 8', 'T 369'],\n",
       "       ['Platelet 8', 'T 425'],\n",
       "       ['Platelet 9', 'CD8 T 68'],\n",
       "       ['CD8 T 57', 'T 1099'],\n",
       "       ['Platelet 7', 'T 400'],\n",
       "       ['Platelet 2', 'FCGR3A+ Mono 112'],\n",
       "       ['Platelet 1', 'CD14+ Mono 144'],\n",
       "       ['CD8 T 57', 'T 60'],\n",
       "       ['T 691', 'T 231'],\n",
       "       ['Platelet 2', 'CD14+ Mono 255'],\n",
       "       ['Platelet 2', 'FCGR3A+ Mono 149'],\n",
       "       ['Platelet 12', 'T 170'],\n",
       "       ['T 466', 'T 1080'],\n",
       "       ['NK 112', 'T 959'],\n",
       "       ['NK 50', 'CD8 T 262'],\n",
       "       ['Platelet 6', 'T 400'],\n",
       "       ['T 691', 'T 1157'],\n",
       "       ['Platelet 7', 'T 666'],\n",
       "       ['Platelet 13', 'T 869'],\n",
       "       ['T 466', 'T 555'],\n",
       "       ['Platelet 12', 'T 817'],\n",
       "       ['Platelet 8', 'T 575'],\n",
       "       ['T 466', 'T 487'],\n",
       "       ['DC 13', 'DC 22'],\n",
       "       ['CD8 T 131', 'T 86'],\n",
       "       ['Platelet 6', 'T 666'],\n",
       "       ['DC 13', 'DC 31'],\n",
       "       ['Platelet 11', 'T 400'],\n",
       "       ['Platelet 1', 'CD14+ Mono 414'],\n",
       "       ['Platelet 4', 'CD8 T 57'],\n",
       "       ['CD8 T 57', 'T 884'],\n",
       "       ['CD8 T 57', 'CD8 T 97']], dtype='<U16')"
      ]
     },
     "execution_count": 93,
     "metadata": {},
     "output_type": "execute_result"
    }
   ],
   "source": [
    "edges_to_name"
   ]
  },
  {
   "cell_type": "code",
   "execution_count": 94,
   "id": "a0970cac-6dec-4a54-a101-0ef10c70df0a",
   "metadata": {},
   "outputs": [
    {
     "data": {
      "text/plain": [
       "array(['FCGR3A+ Mono 1', 'T 18', 'T 30', 'T 60', 'T 86', 'T 96', 'T 97',\n",
       "       'FCGR3A+ Mono 16', 'Platelet 0', 'Platelet 1', 'Platelet 2',\n",
       "       'T 170', 'T 225', 'T 231', 'CD8 T 57', 'Platelet 3',\n",
       "       'FCGR3A+ Mono 40', 'Platelet 4', 'T 287', 'T 295', 'CD8 T 68',\n",
       "       'Platelet 5', 'T 352', 'NK 50', 'T 369', 'CD14+ Mono 144', 'T 400',\n",
       "       'CD8 T 97', 'T 425', 'T 444', 'T 466', 'T 473', 'T 487', 'DC 13',\n",
       "       'CD8 T 131', 'T 555', 'T 575', 'T 623', 'CD14+ Mono 255',\n",
       "       'CD8 T 150', 'T 666', 'FCGR3A+ Mono 87', 'T 669', 'T 676', 'T 691',\n",
       "       'FCGR3A+ Mono 94', 'Platelet 6', 'FCGR3A+ Mono 96', 'T 712',\n",
       "       'Platelet 7', 'CD8 T 159', 'T 743', 'T 768', 'Platelet 8', 'T 808',\n",
       "       'T 817', 'Platelet 9', 'T 846', 'Platelet 10', 'T 865', 'T 869',\n",
       "       'T 879', 'T 881', 'T 884', 'FCGR3A+ Mono 112', 'NK 112',\n",
       "       'Platelet 11', 'T 914', 'Platelet 12', 'FCGR3A+ Mono 120', 'T 959',\n",
       "       'FCGR3A+ Mono 121', 'T 982', 'DC 22', 'CD8 T 223', 'CD8 T 235',\n",
       "       'T 1040', 'CD14+ Mono 414', 'CD8 T 241', 'T 1054', 'T 1059',\n",
       "       'T 1080', 'T 1099', 'FCGR3A+ Mono 149', 'CD8 T 262', 'Platelet 13',\n",
       "       'T 1155', 'T 1157', 'DC 31'], dtype=object)"
      ]
     },
     "execution_count": 94,
     "metadata": {},
     "output_type": "execute_result"
    }
   ],
   "source": [
    "df.columns[1:].values"
   ]
  },
  {
   "cell_type": "code",
   "execution_count": null,
   "id": "6aacae78-5551-49e9-8649-444f89b48ca6",
   "metadata": {},
   "outputs": [],
   "source": [
    "sorted_cell_names = sorted(selected_cells_names)"
   ]
  },
  {
   "cell_type": "code",
   "execution_count": 101,
   "id": "adcf3286-7eb0-4ebb-83df-b19b0b31229d",
   "metadata": {},
   "outputs": [],
   "source": [
    "dct_order = {k : df.columns[1:].values.tolist().index(k) for k in sorted_cell_names}"
   ]
  },
  {
   "cell_type": "code",
   "execution_count": 106,
   "id": "45823a8d-8def-42a6-94e6-6221c667bbfa",
   "metadata": {},
   "outputs": [],
   "source": [
    "edges_to_df_positions = np.array([(dct_order[edge_n[0]], dct_order[edge_n[1]]) for edge_n in edges_to_name])"
   ]
  },
  {
   "cell_type": "code",
   "execution_count": 124,
   "id": "f083d3c7-22c6-4695-afe4-2cf58f54ed3b",
   "metadata": {},
   "outputs": [],
   "source": [
    "zr = np.zeros(ed.shape)"
   ]
  },
  {
   "cell_type": "code",
   "execution_count": 140,
   "id": "f4295599-390d-4457-a846-cbcc13af6054",
   "metadata": {},
   "outputs": [],
   "source": [
    "for item in edges_to_df_positions:\n",
    "    zr[item[0]][item[1]] = ed[item[0]][item[1]]"
   ]
  },
  {
   "cell_type": "code",
   "execution_count": 142,
   "id": "f1077c00-b764-4b7b-bdaf-50c1e3fde3c0",
   "metadata": {},
   "outputs": [],
   "source": [
    "df_zr = pd.DataFrame(zr, columns=selected_cells_names)"
   ]
  },
  {
   "cell_type": "code",
   "execution_count": 143,
   "id": "bec2750b-7ba1-4ee3-a02d-4272bb722d6d",
   "metadata": {},
   "outputs": [],
   "source": [
    "df_zr.insert(0, 'Cell', selected_cells_names)"
   ]
  },
  {
   "cell_type": "code",
   "execution_count": 148,
   "id": "22442a18-77f4-4e42-8543-8f8f664a2ba6",
   "metadata": {},
   "outputs": [],
   "source": [
    "df_zr.to_csv('attn_euclidean_distance_top_edges.csv', index=False)"
   ]
  },
  {
   "cell_type": "code",
   "execution_count": 149,
   "id": "c321dae4-10be-459b-8c95-76b720f4acc4",
   "metadata": {},
   "outputs": [
    {
     "data": {
      "text/plain": [
       "(89, 90)"
      ]
     },
     "execution_count": 149,
     "metadata": {},
     "output_type": "execute_result"
    }
   ],
   "source": [
    "df_zr.shape"
   ]
  },
  {
   "cell_type": "code",
   "execution_count": 150,
   "id": "3606627f-f646-4437-b913-8c64526e8e4e",
   "metadata": {},
   "outputs": [],
   "source": [
    "df.to_csv('attn_euclidean_distance.csv', index=False)"
   ]
  },
  {
   "cell_type": "code",
   "execution_count": 152,
   "id": "74e66e7e-4d17-4b7c-b7f4-513c060b2ec8",
   "metadata": {},
   "outputs": [
    {
     "data": {
      "text/plain": [
       "(80,)"
      ]
     },
     "execution_count": 152,
     "metadata": {},
     "output_type": "execute_result"
    }
   ],
   "source": [
    "np.nonzero(zr)[0].shape"
   ]
  }
 ],
 "metadata": {
  "kernelspec": {
   "display_name": "pt1.9",
   "language": "python",
   "name": "pt1.9"
  },
  "language_info": {
   "codemirror_mode": {
    "name": "ipython",
    "version": 3
   },
   "file_extension": ".py",
   "mimetype": "text/x-python",
   "name": "python",
   "nbconvert_exporter": "python",
   "pygments_lexer": "ipython3",
   "version": "3.9.5"
  }
 },
 "nbformat": 4,
 "nbformat_minor": 5
}
