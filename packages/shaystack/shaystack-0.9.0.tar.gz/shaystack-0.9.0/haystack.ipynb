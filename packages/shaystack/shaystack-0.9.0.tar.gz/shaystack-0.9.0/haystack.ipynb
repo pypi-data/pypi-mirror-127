{
 "cells": [
  {
   "cell_type": "markdown",
   "metadata": {},
   "source": [
    "Install shaystack module from test.pypi.org"
   ]
  },
  {
   "cell_type": "code",
   "execution_count": null,
   "metadata": {},
   "outputs": [],
   "source": [
    "import sys\n",
    "!{sys.executable} -m pip install shaystack"
   ]
  },
  {
   "cell_type": "markdown",
   "metadata": {},
   "source": [
    "Import modules"
   ]
  },
  {
   "cell_type": "code",
   "execution_count": null,
   "metadata": {
    "lines_to_next_cell": 0
   },
   "outputs": [],
   "source": [
    "import shaystack\n",
    "import datetime"
   ]
  },
  {
   "cell_type": "markdown",
   "metadata": {},
   "source": [
    "# Create a grid with metadata and columns"
   ]
  },
  {
   "cell_type": "code",
   "execution_count": null,
   "metadata": {},
   "outputs": [],
   "source": [
    "g = shaystack.Grid()\n",
    "g.metadata['aMarker'] = shaystack.MARKER\n",
    "g.metadata['today'] = datetime.date.today()\n",
    "g.column['firstColumn'] = {'metaData':'in no particular order', 'abc': 123}\n",
    "g.column['secondColumn'] = {}"
   ]
  },
  {
   "cell_type": "markdown",
   "metadata": {},
   "source": [
    "# The same with the constructor"
   ]
  },
  {
   "cell_type": "code",
   "execution_count": null,
   "metadata": {},
   "outputs": [],
   "source": [
    "g = shaystack.Grid(metadata=\n",
    "                     {\n",
    "                         \"aMarker\":shaystack.MARKER,\n",
    "                         \"today\":datetime.date.today()\n",
    "                     },\n",
    "                    columns=\n",
    "                     {\n",
    "                         \"firstColumn\":{'metaData':'in no particular order', 'abc': 123},\n",
    "                         \"secondColumn\": {}\n",
    "                     }\n",
    "                    )"
   ]
  },
  {
   "cell_type": "markdown",
   "metadata": {},
   "source": [
    "# Add some entities"
   ]
  },
  {
   "cell_type": "code",
   "execution_count": null,
   "metadata": {},
   "outputs": [],
   "source": [
    "g.extend([\n",
    "    {'firstColumn': shaystack.Quantity(154, 'kg'), 'secondColumn': 'and counting'},\n",
    "    {'firstColumn': shaystack.MARKER, 'secondColumn': 'supported on Python 3.7+'},\n",
    "    {'firstColumn': shaystack.Coordinate(-27.4725,153.003),\n",
    "     'secondColumn': 'Made in Australia from local and imported ingredients'},\n",
    "])"
   ]
  },
  {
   "cell_type": "markdown",
   "metadata": {},
   "source": [
    "# Dump to zinc format"
   ]
  },
  {
   "cell_type": "code",
   "execution_count": null,
   "metadata": {},
   "outputs": [],
   "source": [
    "print(shaystack.dump(g))"
   ]
  },
  {
   "cell_type": "markdown",
   "metadata": {},
   "source": [
    "# Dump to JSON"
   ]
  },
  {
   "cell_type": "code",
   "execution_count": null,
   "metadata": {},
   "outputs": [],
   "source": [
    "import json\n",
    "json.loads(shaystack.dump(g,mode=shaystack.MODE_JSON))"
   ]
  },
  {
   "cell_type": "markdown",
   "metadata": {},
   "source": [
    "# Load haystack file from URL"
   ]
  },
  {
   "cell_type": "code",
   "execution_count": null,
   "metadata": {},
   "outputs": [],
   "source": [
    "import urllib\n",
    "base_url= \"https://shaystack.s3.eu-west-3.amazonaws.com/\"\n",
    "url = base_url + \"carytown.zinc\"\n",
    "with urllib.request.urlopen(url) as f:\n",
    "    g = shaystack.parse(f.read(),shaystack.MODE_ZINC)"
   ]
  },
  {
   "cell_type": "markdown",
   "metadata": {},
   "source": [
    "# Filter some entity"
   ]
  },
  {
   "cell_type": "code",
   "execution_count": null,
   "metadata": {},
   "outputs": [],
   "source": [
    "site = g.filter(\"site\")[0]\n",
    "site"
   ]
  },
  {
   "cell_type": "markdown",
   "metadata": {},
   "source": [
    "# Read time-series"
   ]
  },
  {
   "cell_type": "code",
   "execution_count": null,
   "metadata": {},
   "outputs": [],
   "source": [
    "with_his = g.filter(\"his\")[0]\n",
    "ts_uri = base_url + with_his[\"hisURI\"]\n",
    "with urllib.request.urlopen(ts_uri) as f:\n",
    "    ts = shaystack.parse(f.read(),shaystack.MODE_ZINC)\n",
    "    print(ts)  # Print associated time-series"
   ]
  },
  {
   "cell_type": "markdown",
   "metadata": {},
   "source": [
    "# Save grid"
   ]
  },
  {
   "cell_type": "code",
   "execution_count": null,
   "metadata": {},
   "outputs": [],
   "source": [
    "\n",
    "with open(\"ontology.csv\",\"w\") as f:\n",
    "    f.write(shaystack.dump(g,shaystack.MODE_CSV))\n",
    "with open(\"ontology.json\",\"w\") as f:\n",
    "    f.write(shaystack.dump(g,shaystack.MODE_JSON))"
   ]
  },
  {
   "cell_type": "code",
   "execution_count": null,
   "metadata": {},
   "outputs": [],
   "source": []
  }
 ],
 "metadata": {
  "jupytext": {
   "cell_metadata_filter": "-all",
   "main_language": "python",
   "notebook_metadata_filter": "-all"
  },
  "kernelspec": {
   "display_name": "Python 3",
   "language": "python",
   "name": "python3"
  },
  "language_info": {
   "codemirror_mode": {
    "name": "ipython",
    "version": 3
   },
   "file_extension": ".py",
   "mimetype": "text/x-python",
   "name": "python",
   "nbconvert_exporter": "python",
   "pygments_lexer": "ipython3",
   "version": "3.7.10"
  }
 },
 "nbformat": 4,
 "nbformat_minor": 2
}
