{
 "cells": [
  {
   "cell_type": "code",
   "execution_count": 1,
   "metadata": {},
   "outputs": [],
   "source": [
    "from recordclass import dataobject, make_dataclass, enable_gc, litelist"
   ]
  },
  {
   "cell_type": "code",
   "execution_count": 2,
   "metadata": {},
   "outputs": [],
   "source": [
    "from random import randint\n",
    "import tracemalloc\n",
    "class Tracer:\n",
    "    def __enter__(self):\n",
    "        if tracemalloc.is_tracing():\n",
    "            raise ValueError('nesting tracemalloc is not allowed')\n",
    "        self.allocated = None\n",
    "        tracemalloc.start()\n",
    "        return self\n",
    "    def __exit__(self, exc_type, exc_value, exc_traceback):\n",
    "        current, peak = tracemalloc.get_traced_memory()\n",
    "        tracemalloc.stop()\n",
    "        self.allocated = current"
   ]
  },
  {
   "cell_type": "code",
   "execution_count": 3,
   "metadata": {},
   "outputs": [
    {
     "name": "stdout",
     "output_type": "stream",
     "text": [
      "4.194304 млн.\n"
     ]
    }
   ],
   "source": [
    "N = 22\n",
    "print(2**N/1000000, \"млн.\")"
   ]
  },
  {
   "cell_type": "markdown",
   "metadata": {},
   "source": [
    "### Binary Tree"
   ]
  },
  {
   "cell_type": "code",
   "execution_count": 4,
   "metadata": {},
   "outputs": [],
   "source": [
    "class Tree(dataobject):\n",
    "    root: 'Node'\n",
    "\n",
    "class Node(dataobject): \n",
    "    left: 'Node'\n",
    "    right: 'Node'\n",
    "\n",
    "class Leaf(dataobject):\n",
    "    value: object"
   ]
  },
  {
   "cell_type": "code",
   "execution_count": 5,
   "metadata": {},
   "outputs": [],
   "source": [
    "def add_nodes(depth):\n",
    "    if depth == 0:\n",
    "        return Leaf(randint(0,10))\n",
    "    return Node(add_nodes(depth-1), add_nodes(depth-1))"
   ]
  },
  {
   "cell_type": "code",
   "execution_count": 7,
   "metadata": {},
   "outputs": [],
   "source": [
    "@enable_gc\n",
    "class TreeGC(dataobject):\n",
    "   __fields__ = 'root',\n",
    "\n",
    "@enable_gc\n",
    "class NodeGC(dataobject): \n",
    "    __fields__ = 'left', 'right'\n",
    "\n",
    "@enable_gc\n",
    "class LeafGC(dataobject):\n",
    "    __fields__ = 'value',"
   ]
  },
  {
   "cell_type": "code",
   "execution_count": 8,
   "metadata": {},
   "outputs": [],
   "source": [
    "def add_nodes_gc(depth):\n",
    "    if depth == 0:\n",
    "        return LeafGC(randint(0,10))\n",
    "    return NodeGC(add_nodes_gc(depth-1), add_nodes_gc(depth-1))"
   ]
  },
  {
   "cell_type": "code",
   "execution_count": 9,
   "metadata": {},
   "outputs": [],
   "source": [
    "class TreeSlots:\n",
    "    __slots__ = 'root',\n",
    "    def __init__(self, root):\n",
    "        self.root = root\n",
    "\n",
    "class NodeSlots:\n",
    "    __slots__ = 'left', 'right'\n",
    "    def __init__(self, left, right):\n",
    "        self.left = left\n",
    "        self.right = right\n",
    "    \n",
    "class LeafSlots:\n",
    "    __slots__ = 'value',\n",
    "    def __init__(self, value):\n",
    "        self.value = value"
   ]
  },
  {
   "cell_type": "code",
   "execution_count": 10,
   "metadata": {},
   "outputs": [],
   "source": [
    "def add_nodes_slots(depth):\n",
    "    if depth == 0:\n",
    "        return LeafSlots(randint(0,10))\n",
    "    return NodeSlots(add_nodes_slots(depth-1), add_nodes_slots(depth-1))"
   ]
  },
  {
   "cell_type": "code",
   "execution_count": 11,
   "metadata": {},
   "outputs": [
    {
     "name": "stdout",
     "output_type": "stream",
     "text": [
      "dataobject: 234 Mb\n"
     ]
    }
   ],
   "source": [
    "with Tracer() as t1:\n",
    "   tree = Tree(add_nodes(N))\n",
    "print(\"dataobject:\", t1.allocated // 1_000_000, 'Mb')\n",
    "del tree, t1"
   ]
  },
  {
   "cell_type": "code",
   "execution_count": 12,
   "metadata": {},
   "outputs": [
    {
     "name": "stdout",
     "output_type": "stream",
     "text": [
      "CPU times: user 5.48 s, sys: 59.7 ms, total: 5.54 s\n",
      "Wall time: 5.53 s\n",
      "CPU times: user 141 ms, sys: 19.9 ms, total: 160 ms\n",
      "Wall time: 160 ms\n"
     ]
    }
   ],
   "source": [
    "%time tree = Tree(add_nodes(N))\n",
    "%time del tree"
   ]
  },
  {
   "cell_type": "code",
   "execution_count": 13,
   "metadata": {},
   "outputs": [
    {
     "name": "stdout",
     "output_type": "stream",
     "text": [
      "__slots__: 503 Mb\n"
     ]
    }
   ],
   "source": [
    "with Tracer() as t2:\n",
    "   tree_slots = TreeSlots(add_nodes_slots(N))\n",
    "print(\"__slots__:\", t2.allocated // 1_000_000, 'Mb')\n",
    "del tree_slots, t2"
   ]
  },
  {
   "cell_type": "code",
   "execution_count": 14,
   "metadata": {},
   "outputs": [
    {
     "name": "stdout",
     "output_type": "stream",
     "text": [
      "CPU times: user 15.5 s, sys: 204 ms, total: 15.7 s\n",
      "Wall time: 15.7 s\n",
      "CPU times: user 208 ms, sys: 24 ms, total: 233 ms\n",
      "Wall time: 232 ms\n"
     ]
    }
   ],
   "source": [
    "%time tree_slots = TreeSlots(add_nodes_slots(N))\n",
    "%time del tree_slots"
   ]
  },
  {
   "cell_type": "code",
   "execution_count": 15,
   "metadata": {},
   "outputs": [
    {
     "name": "stdout",
     "output_type": "stream",
     "text": [
      "dataobject+gc: 503 Mb\n"
     ]
    }
   ],
   "source": [
    "with Tracer() as t3:\n",
    "   tree_gc = TreeGC(add_nodes_gc(N))\n",
    "print(\"dataobject+gc:\", t3.allocated // 1000000, 'Mb')\n",
    "del tree_gc, t3"
   ]
  },
  {
   "cell_type": "code",
   "execution_count": 16,
   "metadata": {},
   "outputs": [
    {
     "name": "stdout",
     "output_type": "stream",
     "text": [
      "CPU times: user 16.3 s, sys: 152 ms, total: 16.4 s\n",
      "Wall time: 16.4 s\n",
      "CPU times: user 155 ms, sys: 28 ms, total: 183 ms\n",
      "Wall time: 183 ms\n"
     ]
    }
   ],
   "source": [
    "%time tree_gc = TreeGC(add_nodes_gc(N))\n",
    "%time del tree_gc"
   ]
  },
  {
   "cell_type": "code",
   "execution_count": 17,
   "metadata": {},
   "outputs": [
    {
     "name": "stdout",
     "output_type": "stream",
     "text": [
      "Size per instance:\n",
      "   node: 32 64 64\n",
      "   leaf: 24 56 56\n"
     ]
    }
   ],
   "source": [
    "import sys\n",
    "print('Size per instance:')\n",
    "print('   node:', sys.getsizeof(Node(None,None)),\n",
    "                  sys.getsizeof(NodeSlots(None,None)), \n",
    "                  sys.getsizeof(NodeGC(None,None)))\n",
    "print('   leaf:', sys.getsizeof(Leaf(None)),\n",
    "                  sys.getsizeof(LeafSlots(None)),\n",
    "                  sys.getsizeof(LeafGC(None)))"
   ]
  },
  {
   "cell_type": "markdown",
   "metadata": {},
   "source": [
    "### General Tree"
   ]
  },
  {
   "cell_type": "code",
   "execution_count": null,
   "metadata": {},
   "outputs": [],
   "source": [
    "class GTree(dataobject):\n",
    "   __fields__ = 'root',\n",
    "\n",
    "class GNode(dataobject): \n",
    "    __fields__ = 'children',\n",
    "\n",
    "class GLeaf(dataobject):\n",
    "    __fields__ = 'value',"
   ]
  },
  {
   "cell_type": "code",
   "execution_count": null,
   "metadata": {},
   "outputs": [],
   "source": [
    "def add_gnodes(depth):\n",
    "    if depth == 0:\n",
    "        return GLeaf(randint(0,10))\n",
    "    children = litelist([])\n",
    "    gnode = GNode(children)\n",
    "    children.append(add_gnodes(depth-1))\n",
    "    children.append(add_gnodes(depth-1))\n",
    "    children.trim()\n",
    "    return gnode"
   ]
  },
  {
   "cell_type": "code",
   "execution_count": null,
   "metadata": {},
   "outputs": [],
   "source": [
    "with Tracer() as gt1:\n",
    "   gtree = GTree(add_gnodes(20))\n",
    "print(\"dataobject:\", gt1.allocated // 1000000, 'Mb')\n",
    "del gtree, gt1"
   ]
  },
  {
   "cell_type": "code",
   "execution_count": null,
   "metadata": {},
   "outputs": [],
   "source": [
    "%time gtree = GTree(add_gnodes(20))\n",
    "del gtree"
   ]
  },
  {
   "cell_type": "code",
   "execution_count": null,
   "metadata": {},
   "outputs": [],
   "source": [
    "class GTreeSlots:\n",
    "    __slots__ = 'root',\n",
    "    def __init__(self, root):\n",
    "        self.root = root\n",
    "\n",
    "class GNodeSlots:\n",
    "    __slots__ = 'children', \n",
    "    def __init__(self, children):\n",
    "        self.children = children\n",
    "    \n",
    "class GLeafSlots:\n",
    "    __slots__ = 'value',\n",
    "    def __init__(self, value):\n",
    "        self.value = value"
   ]
  },
  {
   "cell_type": "code",
   "execution_count": null,
   "metadata": {},
   "outputs": [],
   "source": [
    "def add_gnodes_slots(depth):\n",
    "    if depth == 0:\n",
    "        return GLeafSlots(randint(0,10))\n",
    "    children = []\n",
    "    gnode = GNodeSlots(children)\n",
    "    children.append(add_gnodes_slots(depth-1))\n",
    "    children.append(add_gnodes_slots(depth-1))\n",
    "    return gnode"
   ]
  },
  {
   "cell_type": "code",
   "execution_count": null,
   "metadata": {},
   "outputs": [],
   "source": [
    "with Tracer() as gt2:\n",
    "   gtree_slots = GTreeSlots(add_gnodes_slots(20))\n",
    "print(\"__slots__:\", gt2.allocated // 1000000, 'Mb')\n",
    "del gtree_slots, gt2"
   ]
  },
  {
   "cell_type": "code",
   "execution_count": null,
   "metadata": {},
   "outputs": [],
   "source": [
    "%time gtree_slots = GTreeSlots(add_gnodes_slots(20))\n",
    "del gtree_slots"
   ]
  },
  {
   "cell_type": "code",
   "execution_count": null,
   "metadata": {},
   "outputs": [],
   "source": []
  }
 ],
 "metadata": {
  "kernelspec": {
   "display_name": "Python 3",
   "language": "python",
   "name": "python3"
  },
  "language_info": {
   "codemirror_mode": {
    "name": "ipython",
    "version": 3
   },
   "file_extension": ".py",
   "mimetype": "text/x-python",
   "name": "python",
   "nbconvert_exporter": "python",
   "pygments_lexer": "ipython3",
   "version": "3.7.6"
  }
 },
 "nbformat": 4,
 "nbformat_minor": 4
}
