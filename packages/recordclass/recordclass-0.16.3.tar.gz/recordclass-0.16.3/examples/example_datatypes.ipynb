{
 "cells": [
  {
   "cell_type": "markdown",
   "metadata": {},
   "source": [
    "# Using dataobject-based classes for creating common datatypes"
   ]
  },
  {
   "cell_type": "code",
   "execution_count": 1,
   "metadata": {},
   "outputs": [],
   "source": [
    "from recordclass import dataobject, clsconfig\n",
    "from recordclass._linkedlist import linkedlist\n",
    "import sys"
   ]
  },
  {
   "cell_type": "markdown",
   "metadata": {},
   "source": [
    "## LinkedList"
   ]
  },
  {
   "cell_type": "code",
   "execution_count": 2,
   "metadata": {},
   "outputs": [],
   "source": [
    "class LinkedItem(dataobject, fast_new=True):\n",
    "    val: object\n",
    "    next: 'LinkedItem'\n",
    "\n",
    "@clsconfig(deep_dealloc=True)\n",
    "class LinkedList(dataobject):\n",
    "    start: LinkedItem = None\n",
    "    end: LinkedItem = None\n",
    "        \n",
    "    def append(self, val):\n",
    "        link = LinkedItem(val, None)\n",
    "        if self.start is None:\n",
    "            self.start = link\n",
    "        else:\n",
    "            self.end.next = link\n",
    "        self.end = link\n",
    "        \n",
    "#     def __del__(self):\n",
    "#         curr = self.start\n",
    "#         while curr is not None:\n",
    "#             next = curr.next\n",
    "#             curr.next = None\n",
    "#             curr = next\n",
    "\n",
    "    def __iter__(self):\n",
    "        return IterLinkedList(self)\n",
    "\n",
    "class IterLinkedList(dataobject, fast_new=True):\n",
    "    node: LinkedItem\n",
    "        \n",
    "    def __init__(self, ll):\n",
    "        self.node = ll.start\n",
    "    \n",
    "    def __next__(self):\n",
    "        node =  self.node\n",
    "        if node is None:\n",
    "            raise StopIteration\n",
    "        \n",
    "        val = node.val\n",
    "        self.node = node.next\n",
    "        return val\n"
   ]
  },
  {
   "cell_type": "code",
   "execution_count": 3,
   "metadata": {},
   "outputs": [],
   "source": [
    "def make_llist(N):\n",
    "    ll = LinkedList()\n",
    "    for i in range(N):\n",
    "        ll.append(i)\n",
    "    return ll"
   ]
  },
  {
   "cell_type": "code",
   "execution_count": 4,
   "metadata": {},
   "outputs": [],
   "source": [
    "class LinkedItem2:\n",
    "    __slots__ = 'val', 'next'\n",
    "\n",
    "    def __init__(self, val, next):\n",
    "        self.val = val\n",
    "        self.next = next\n",
    "    \n",
    "class LinkedList2:\n",
    "    __slots__ = 'start', 'end'\n",
    "        \n",
    "    def __init__(self, start=None, end=None):\n",
    "        self.start = start\n",
    "        self.end = end\n",
    "\n",
    "    def append(self, val):\n",
    "        link = LinkedItem2(val, None)\n",
    "        if self.start is None:\n",
    "            self.start = link\n",
    "        else:\n",
    "            self.end.next = link\n",
    "        self.end = link\n",
    "\n",
    "    def __iter__(self):\n",
    "        return IterLinkedList2(self)\n",
    "\n",
    "class IterLinkedList2:\n",
    "    __slots__ = 'node',\n",
    "    \n",
    "    def __init__(self, ll):\n",
    "        self.node = ll.start\n",
    "    \n",
    "    def __next__(self):\n",
    "        node =  self.node\n",
    "        if node is None:\n",
    "            raise StopIteration\n",
    "        \n",
    "        val = node.val\n",
    "        self.node = node.next\n",
    "        return val"
   ]
  },
  {
   "cell_type": "code",
   "execution_count": 5,
   "metadata": {},
   "outputs": [],
   "source": [
    "def make_llist2(N):\n",
    "    ll = LinkedList2()\n",
    "    for i in range(N):\n",
    "        ll.append(i)\n",
    "    return ll"
   ]
  },
  {
   "cell_type": "code",
   "execution_count": 6,
   "metadata": {},
   "outputs": [],
   "source": [
    "N = 1000000\n",
    "Mb = 1000000"
   ]
  },
  {
   "cell_type": "code",
   "execution_count": 29,
   "metadata": {
    "tags": []
   },
   "outputs": [
    {
     "name": "stdout",
     "output_type": "stream",
     "text": [
      "CPU times: user 231 ms, sys: 20 ms, total: 251 ms\n",
      "Wall time: 250 ms\n",
      "210 ms ± 5.13 ms per loop (mean ± std. dev. of 7 runs, 1 loop each)\n"
     ]
    }
   ],
   "source": [
    "%time ll1 = make_llist(N)\n",
    "%timeit make_llist(N)"
   ]
  },
  {
   "cell_type": "code",
   "execution_count": 8,
   "metadata": {},
   "outputs": [
    {
     "name": "stdout",
     "output_type": "stream",
     "text": [
      "CPU times: user 136 ms, sys: 0 ns, total: 136 ms\n",
      "Wall time: 135 ms\n",
      "118 ms ± 7.42 ms per loop (mean ± std. dev. of 7 runs, 10 loops each)\n",
      "499999500000\n"
     ]
    }
   ],
   "source": [
    "%time s1 = sum(ll1)\n",
    "%timeit sum(ll1)\n",
    "print(s1)"
   ]
  },
  {
   "cell_type": "code",
   "execution_count": 9,
   "metadata": {},
   "outputs": [
    {
     "name": "stdout",
     "output_type": "stream",
     "text": [
      "32 32\n",
      "Memory footprint: 32.00 Мб\n"
     ]
    }
   ],
   "source": [
    "print(sys.getsizeof(ll1.start), sys.getsizeof(ll1))\n",
    "M1 = sys.getsizeof(ll1) + N * sys.getsizeof(ll1.start)\n",
    "print('Memory footprint: %.2f Мб' % (M1/1000000))\n",
    "# del ll1"
   ]
  },
  {
   "cell_type": "code",
   "execution_count": 10,
   "metadata": {},
   "outputs": [
    {
     "name": "stdout",
     "output_type": "stream",
     "text": [
      "CPU times: user 691 ms, sys: 20.1 ms, total: 711 ms\n",
      "Wall time: 710 ms\n",
      "338 ms ± 3.02 ms per loop (mean ± std. dev. of 7 runs, 1 loop each)\n"
     ]
    }
   ],
   "source": [
    "%time ll2 = make_llist2(N)\n",
    "%timeit make_llist2(N)"
   ]
  },
  {
   "cell_type": "code",
   "execution_count": 11,
   "metadata": {},
   "outputs": [
    {
     "name": "stdout",
     "output_type": "stream",
     "text": [
      "CPU times: user 131 ms, sys: 3.88 ms, total: 135 ms\n",
      "Wall time: 133 ms\n",
      "124 ms ± 923 µs per loop (mean ± std. dev. of 7 runs, 10 loops each)\n",
      "499999500000\n"
     ]
    }
   ],
   "source": [
    "%time s2 = sum(ll2)\n",
    "%timeit sum(ll2)\n",
    "print(s2)"
   ]
  },
  {
   "cell_type": "code",
   "execution_count": 12,
   "metadata": {},
   "outputs": [
    {
     "name": "stdout",
     "output_type": "stream",
     "text": [
      "48 48\n",
      "Memory footprint: 48.00 Мб\n"
     ]
    }
   ],
   "source": [
    "print(sys.getsizeof(ll2.start), sys.getsizeof(ll2))\n",
    "M2 = sys.getsizeof(ll2) + N * sys.getsizeof(ll2.start)\n",
    "print('Memory footprint: %.2f Мб' % (M2/1000000))\n",
    "# del ll2"
   ]
  },
  {
   "cell_type": "code",
   "execution_count": 13,
   "metadata": {},
   "outputs": [
    {
     "name": "stdout",
     "output_type": "stream",
     "text": [
      "66.66666666666667\n"
     ]
    }
   ],
   "source": [
    "print(100*M1/M2)"
   ]
  },
  {
   "cell_type": "code",
   "execution_count": 14,
   "metadata": {},
   "outputs": [],
   "source": [
    "def make_llist3(N):\n",
    "    ll = linkedlist()\n",
    "    for i in range(N):\n",
    "        ll.append(i)\n",
    "    return ll"
   ]
  },
  {
   "cell_type": "code",
   "execution_count": 15,
   "metadata": {},
   "outputs": [
    {
     "name": "stdout",
     "output_type": "stream",
     "text": [
      "CPU times: user 82.7 ms, sys: 12 ms, total: 94.7 ms\n",
      "Wall time: 93.7 ms\n",
      "97.5 ms ± 5.1 ms per loop (mean ± std. dev. of 7 runs, 10 loops each)\n"
     ]
    }
   ],
   "source": [
    "%time ll3 = make_llist3(N)\n",
    "%timeit make_llist3(N)"
   ]
  },
  {
   "cell_type": "code",
   "execution_count": 16,
   "metadata": {},
   "outputs": [
    {
     "name": "stdout",
     "output_type": "stream",
     "text": [
      "CPU times: user 14.5 ms, sys: 143 µs, total: 14.6 ms\n",
      "Wall time: 14.5 ms\n",
      "11 ms ± 1.41 ms per loop (mean ± std. dev. of 7 runs, 100 loops each)\n",
      "499999500000\n"
     ]
    }
   ],
   "source": [
    "%time s3 = sum(ll3)\n",
    "%timeit sum(ll3)\n",
    "print(s3)"
   ]
  },
  {
   "cell_type": "code",
   "execution_count": 17,
   "metadata": {},
   "outputs": [
    {
     "name": "stdout",
     "output_type": "stream",
     "text": [
      "Memory footprint: 32.00 Мб\n"
     ]
    }
   ],
   "source": [
    "M3 = sys.getsizeof(ll3) + N * sys.getsizeof(ll3.start)\n",
    "print('Memory footprint: %.2f Мб' % (M3/1000000))\n",
    "# del ll3"
   ]
  },
  {
   "cell_type": "markdown",
   "metadata": {},
   "source": [
    "## Double Linked List"
   ]
  },
  {
   "cell_type": "code",
   "execution_count": 18,
   "metadata": {},
   "outputs": [],
   "source": [
    "class DLinkedItem(LinkedItem, fast_new=True):\n",
    "#     val: object\n",
    "#     next: 'DLinkedItem'\n",
    "    prev: 'DLinkedItem'\n",
    "\n",
    "@clsconfig(deep_dealloc=True)\n",
    "class DLinkedList(LinkedList):\n",
    "#     start: DLinkedItem = None\n",
    "#     end: DLinkedItem = None\n",
    "        \n",
    "    def append(self, val):\n",
    "        link = DLinkedItem(val, None, None)\n",
    "        if self.start is None:\n",
    "            self.start = link\n",
    "        else:\n",
    "            self.end.next = link\n",
    "        link.prev = self.end\n",
    "        self.end = link\n",
    "\n",
    "    def __iter__(self):\n",
    "        return IterLinkedList(self)\n",
    "\n",
    "class IterLinkedList(dataobject, fast_new=True):\n",
    "    node: DLinkedItem\n",
    "        \n",
    "    def __init__(self, ll):\n",
    "        self.node = ll.start\n",
    "    \n",
    "    def __next__(self):\n",
    "        node =  self.node\n",
    "        if node is None:\n",
    "            raise StopIteration\n",
    "        \n",
    "        val = node.val\n",
    "        self.node = node.next\n",
    "        return val\n"
   ]
  },
  {
   "cell_type": "code",
   "execution_count": 19,
   "metadata": {},
   "outputs": [],
   "source": [
    "def make_dllist(N):\n",
    "    ll = DLinkedList()\n",
    "    for i in range(N):\n",
    "        ll.append(i)\n",
    "    return ll"
   ]
  },
  {
   "cell_type": "code",
   "execution_count": 20,
   "metadata": {},
   "outputs": [],
   "source": [
    "class DLinkedItem2(LinkedItem2):\n",
    "    __slots__ = 'prev',\n",
    "\n",
    "    def __init__(self, val, next, prev):\n",
    "        self.val = val\n",
    "        self.next = next\n",
    "        self.prev = prev\n",
    "    \n",
    "class DLinkedList2:\n",
    "    __slots__ = 'start', 'end'\n",
    "        \n",
    "    def __init__(self, start=None, end=None):\n",
    "        self.start = start\n",
    "        self.end = end\n",
    "\n",
    "    def append(self, val):\n",
    "        link = DLinkedItem2(val, None, None)\n",
    "        if self.start is None:\n",
    "            self.start = link\n",
    "        else:\n",
    "            self.end.next = link\n",
    "        link.prev = self.end\n",
    "        self.end = link\n",
    "\n",
    "    def __iter__(self):\n",
    "        return IterLinkedList2(self)\n",
    "\n",
    "# class DIterLinkedList2:\n",
    "#     __slots__ = 'node',\n",
    "    \n",
    "#     def __init__(self, ll):\n",
    "#         self.node = ll.start\n",
    "    \n",
    "#     def __next__(self):\n",
    "#         node =  self.node\n",
    "#         if node is None:\n",
    "#             raise StopIteration\n",
    "        \n",
    "#         val = node.val\n",
    "#         self.node = node.next\n",
    "#         return val"
   ]
  },
  {
   "cell_type": "code",
   "execution_count": 21,
   "metadata": {},
   "outputs": [],
   "source": [
    "def make_dllist2(N):\n",
    "    ll = DLinkedList2()\n",
    "    for i in range(N):\n",
    "        ll.append(i)\n",
    "    return ll"
   ]
  },
  {
   "cell_type": "code",
   "execution_count": 22,
   "metadata": {
    "tags": []
   },
   "outputs": [
    {
     "name": "stdout",
     "output_type": "stream",
     "text": [
      "CPU times: user 269 ms, sys: 4.04 ms, total: 273 ms\n",
      "Wall time: 272 ms\n",
      "266 ms ± 21.9 ms per loop (mean ± std. dev. of 7 runs, 1 loop each)\n"
     ]
    }
   ],
   "source": [
    "%time dll1 = make_dllist(N)\n",
    "%timeit make_dllist(N)"
   ]
  },
  {
   "cell_type": "code",
   "execution_count": 23,
   "metadata": {},
   "outputs": [
    {
     "name": "stdout",
     "output_type": "stream",
     "text": [
      "CPU times: user 129 ms, sys: 22 µs, total: 129 ms\n",
      "Wall time: 127 ms\n",
      "117 ms ± 4.34 ms per loop (mean ± std. dev. of 7 runs, 10 loops each)\n",
      "499999500000\n"
     ]
    }
   ],
   "source": [
    "%time ds1 = sum(dll1)\n",
    "%timeit sum(dll1)\n",
    "print(ds1)"
   ]
  },
  {
   "cell_type": "code",
   "execution_count": 24,
   "metadata": {},
   "outputs": [
    {
     "name": "stdout",
     "output_type": "stream",
     "text": [
      "40 32\n",
      "Memory footprint: 40.00 Мб\n"
     ]
    }
   ],
   "source": [
    "print(sys.getsizeof(dll1.start), sys.getsizeof(dll1))\n",
    "M1 = sys.getsizeof(dll1) + N * sys.getsizeof(dll1.start)\n",
    "print('Memory footprint: %.2f Мб' % (M1/1000000))\n",
    "# del ll1"
   ]
  },
  {
   "cell_type": "code",
   "execution_count": 25,
   "metadata": {},
   "outputs": [
    {
     "name": "stdout",
     "output_type": "stream",
     "text": [
      "CPU times: user 905 ms, sys: 44.1 ms, total: 949 ms\n",
      "Wall time: 952 ms\n",
      "384 ms ± 7.03 ms per loop (mean ± std. dev. of 7 runs, 1 loop each)\n"
     ]
    }
   ],
   "source": [
    "%time dll2 = make_dllist2(N)\n",
    "%timeit make_dllist2(N)"
   ]
  },
  {
   "cell_type": "code",
   "execution_count": 26,
   "metadata": {},
   "outputs": [
    {
     "name": "stdout",
     "output_type": "stream",
     "text": [
      "CPU times: user 141 ms, sys: 26 µs, total: 141 ms\n",
      "Wall time: 139 ms\n",
      "132 ms ± 5.45 ms per loop (mean ± std. dev. of 7 runs, 10 loops each)\n",
      "499999500000\n"
     ]
    }
   ],
   "source": [
    "%time ds2 = sum(dll2)\n",
    "%timeit sum(dll2)\n",
    "print(ds2)"
   ]
  },
  {
   "cell_type": "code",
   "execution_count": 27,
   "metadata": {},
   "outputs": [
    {
     "name": "stdout",
     "output_type": "stream",
     "text": [
      "56 48\n",
      "Memory footprint: 56.00 Мб\n"
     ]
    }
   ],
   "source": [
    "print(sys.getsizeof(dll2.start), sys.getsizeof(dll2))\n",
    "M2 = sys.getsizeof(dll2) + N * sys.getsizeof(dll2.start)\n",
    "print('Memory footprint: %.2f Мб' % (M2/1000000))\n",
    "# del ll2"
   ]
  },
  {
   "cell_type": "code",
   "execution_count": 28,
   "metadata": {},
   "outputs": [
    {
     "name": "stdout",
     "output_type": "stream",
     "text": [
      "71.42856734694227\n"
     ]
    }
   ],
   "source": [
    "print(100*M1/M2)"
   ]
  },
  {
   "cell_type": "code",
   "execution_count": null,
   "metadata": {},
   "outputs": [],
   "source": []
  }
 ],
 "metadata": {
  "kernelspec": {
   "display_name": "Python 3",
   "language": "python",
   "name": "python3"
  },
  "language_info": {
   "codemirror_mode": {
    "name": "ipython",
    "version": 3
   },
   "file_extension": ".py",
   "mimetype": "text/x-python",
   "name": "python",
   "nbconvert_exporter": "python",
   "pygments_lexer": "ipython3",
   "version": "3.9.2"
  }
 },
 "nbformat": 4,
 "nbformat_minor": 4
}
