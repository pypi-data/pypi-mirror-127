{
 "cells": [
  {
   "cell_type": "markdown",
   "id": "identical-compact",
   "metadata": {},
   "source": [
    "To make this script run in cpython, install pyclesperanto_prototype:\n",
    "\n",
    "```\n",
    "pip install pyclesperanto_prototype\n",
    "```\n",
    "Read more: https://clesperanto.net\n",
    "\n",
    "To make this script run in Fiji, please activate the clij, clij2 and\n",
    "clijx-assistant update sites in your Fiji.\n",
    "\n",
    "Read more: https://clij.github.io/assistant\n",
    "\n",
    "Generator (P) version: 0.7.6\n"
   ]
  },
  {
   "cell_type": "code",
   "execution_count": null,
   "id": "dried-lunch",
   "metadata": {
    "lines_to_next_cell": 2
   },
   "outputs": [],
   "source": [
    "import pyclesperanto_prototype as cle"
   ]
  },
  {
   "cell_type": "markdown",
   "id": "revised-passion",
   "metadata": {},
   "source": [
    "## imread"
   ]
  },
  {
   "cell_type": "code",
   "execution_count": null,
   "id": "respiratory-netherlands",
   "metadata": {},
   "outputs": [],
   "source": [
    "image0 = cle.imread(w.value._source)\n",
    "cle.imshow(image0, 'Result of imread', False)"
   ]
  },
  {
   "cell_type": "markdown",
   "id": "realistic-allah",
   "metadata": {},
   "source": [
    "## threshold otsu"
   ]
  },
  {
   "cell_type": "code",
   "execution_count": null,
   "id": "innovative-deadline",
   "metadata": {},
   "outputs": [],
   "source": [
    "image1 = cle.threshold_otsu(image0, cle.create_like(image0))\n",
    "cle.imshow(image1, 'Result of threshold otsu', False)"
   ]
  },
  {
   "cell_type": "markdown",
   "id": "authorized-volleyball",
   "metadata": {},
   "source": [
    "## connected components labeling box"
   ]
  },
  {
   "cell_type": "code",
   "execution_count": null,
   "id": "recent-advance",
   "metadata": {},
   "outputs": [],
   "source": [
    "image2 = cle.connected_components_labeling_box(image1, cle.create_like(image1))\n",
    "cle.imshow(image2, 'Result of connected components labeling box', False)"
   ]
  }
 ],
 "metadata": {
  "jupytext": {
   "cell_metadata_filter": "-all",
   "main_language": "python",
   "notebook_metadata_filter": "-all"
  }
 },
 "nbformat": 4,
 "nbformat_minor": 5
}