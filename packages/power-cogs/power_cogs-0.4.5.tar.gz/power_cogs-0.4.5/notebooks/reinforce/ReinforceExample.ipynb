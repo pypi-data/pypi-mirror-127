{
 "cells": [
  {
   "cell_type": "code",
   "execution_count": 1,
   "metadata": {},
   "outputs": [],
   "source": [
    "from power_cogs.callbacks.callback import *\n",
    "from power_cogs.callbacks.logger_callback import *\n",
    "from power_cogs.callbacks.class_method_callback import ClassMethodCallback\n",
    "from power_cogs.config.config import load_config\n",
    "from power_cogs.examples.reinforce.reinforce_trainer import ReinforceTrainer\n",
    "from typing import Dict, Any, Optional\n",
    "from omegaconf import OmegaConf\n",
    "from power_cogs.utils import *"
   ]
  },
  {
   "cell_type": "code",
   "execution_count": 2,
   "metadata": {},
   "outputs": [],
   "source": [
    "from pydantic.dataclasses import dataclass\n",
    "import typing\n",
    "from dataclasses import field\n",
    "import numpy as np"
   ]
  },
  {
   "cell_type": "code",
   "execution_count": 3,
   "metadata": {},
   "outputs": [
    {
     "name": "stdout",
     "output_type": "stream",
     "text": [
      "MLPAgent(\n",
      "  (net): Sequential(\n",
      "    (0): Sequential(\n",
      "      (0): Linear(in_features=4, out_features=64, bias=True)\n",
      "      (1): Tanh()\n",
      "    )\n",
      "    (1): Sequential(\n",
      "      (0): Linear(in_features=64, out_features=64, bias=True)\n",
      "      (1): Tanh()\n",
      "    )\n",
      "    (2): Sequential(\n",
      "      (0): Linear(in_features=64, out_features=64, bias=True)\n",
      "      (1): Tanh()\n",
      "    )\n",
      "    (3): Linear(in_features=64, out_features=2, bias=True)\n",
      "  )\n",
      ")\n"
     ]
    },
    {
     "name": "stderr",
     "output_type": "stream",
     "text": [
      "2021-11-04 17:21:16.729 | INFO     | power_cogs.logging.tensorboard_logger:__init__:23 - Follow tensorboard logs with: tensorboard --logdir /home/shyam/Code/power_cogs/notebooks/reinforce/checkpoints/2021-11-04-17:21:15_ReinforceTrainer/tensorboard_logs/default\n"
     ]
    }
   ],
   "source": [
    "rt = ReinforceTrainer.from_config_file(\"reinforce.yaml\",\n",
    "                                      overrides={\"logging_config\":{\"checkpoint_interval\":100}})"
   ]
  },
  {
   "cell_type": "code",
   "execution_count": 4,
   "metadata": {},
   "outputs": [],
   "source": [
    "from power_cogs.cluster.ray_cluster import RayCluster"
   ]
  },
  {
   "cell_type": "code",
   "execution_count": 5,
   "metadata": {},
   "outputs": [
    {
     "name": "stderr",
     "output_type": "stream",
     "text": [
      "2021-11-04 17:21:18,136\tINFO services.py:1267 -- View the Ray dashboard at \u001b[1m\u001b[32mhttp://127.0.0.1:8265\u001b[39m\u001b[22m\n"
     ]
    }
   ],
   "source": [
    "cluster = RayCluster()"
   ]
  },
  {
   "cell_type": "code",
   "execution_count": 6,
   "metadata": {},
   "outputs": [],
   "source": [
    "rt.attach_cluster(cluster)"
   ]
  },
  {
   "cell_type": "code",
   "execution_count": 7,
   "metadata": {},
   "outputs": [
    {
     "data": {
      "text/plain": [
       "<power_cogs.cluster.ray_cluster.RayCluster at 0x7fb56423c400>"
      ]
     },
     "execution_count": 7,
     "metadata": {},
     "output_type": "execute_result"
    }
   ],
   "source": [
    "rt.cluster"
   ]
  },
  {
   "cell_type": "code",
   "execution_count": 8,
   "metadata": {},
   "outputs": [
    {
     "name": "stderr",
     "output_type": "stream",
     "text": [
      "average_summed_rewards:17.25--max_summed_rewards:48.0--loss:-19.458140966191422--max_loss:9.496981620788574--sum_loss:-622.6605109181255--epoch:1511--net.0.0.weight_grad:49.33634948730469--net.0.0.bias_grad:-72.45538330078125--net.1.0.weight_grad:1.4802379608154297--net.1.0.bias_grad:-40.95456314086914--net.2.0.weight_grad:2.689936637878418--net.2.0.bias_grad:2.2855639457702637--net.3.weight_grad:1.1920928955078125e-07--net.3.bias_grad:0.0:  15%|█▌        | 1511/10000 [09:30<53:22,  2.65it/s]                                                \n",
      "ERROR:root:Internal Python error in the inspect module.\n",
      "Below is the traceback from this internal error.\n",
      "\n"
     ]
    },
    {
     "name": "stdout",
     "output_type": "stream",
     "text": [
      "Traceback (most recent call last):\n",
      "  File \"/home/shyam/anaconda3/envs/py38/lib/python3.8/site-packages/IPython/core/interactiveshell.py\", line 3343, in run_code\n",
      "    exec(code_obj, self.user_global_ns, self.user_ns)\n",
      "  File \"<ipython-input-8-78dd3c07ab45>\", line 1, in <module>\n",
      "    rt.train(epochs=10000)\n",
      "  File \"/home/shyam/anaconda3/envs/py38/lib/python3.8/site-packages/power_cogs-0.4.3-py3.8.egg/power_cogs/callbacks/callback.py\", line 122, in _inner\n",
      "    return wrapped(*args, **kwargs)\n",
      "  File \"/home/shyam/anaconda3/envs/py38/lib/python3.8/site-packages/power_cogs-0.4.3-py3.8.egg/power_cogs/callbacks/callback.py\", line 81, in _inner\n",
      "    return f(*args, **kwargs)\n",
      "  File \"/home/shyam/anaconda3/envs/py38/lib/python3.8/site-packages/power_cogs-0.4.3-py3.8.egg/power_cogs/callbacks/callback.py\", line 122, in _inner\n",
      "    return wrapped(*args, **kwargs)\n",
      "  File \"/home/shyam/anaconda3/envs/py38/lib/python3.8/site-packages/power_cogs-0.4.3-py3.8.egg/power_cogs/callbacks/callback.py\", line 91, in _inner\n",
      "    out = f(*args, **kwargs)\n",
      "  File \"/home/shyam/anaconda3/envs/py38/lib/python3.8/site-packages/power_cogs-0.4.3-py3.8.egg/power_cogs/base/torch/base_torch_trainer.py\", line 146, in train\n",
      "    output = self._train_iter(batch_size, self.current_iteration)\n",
      "  File \"/home/shyam/anaconda3/envs/py38/lib/python3.8/site-packages/power_cogs-0.4.3-py3.8.egg/power_cogs/callbacks/callback.py\", line 122, in _inner\n",
      "    return wrapped(*args, **kwargs)\n",
      "  File \"/home/shyam/anaconda3/envs/py38/lib/python3.8/site-packages/power_cogs-0.4.3-py3.8.egg/power_cogs/callbacks/callback.py\", line 61, in _inner\n",
      "    return self._run(f, *args, **kwargs)\n",
      "  File \"/home/shyam/anaconda3/envs/py38/lib/python3.8/site-packages/power_cogs-0.4.3-py3.8.egg/power_cogs/callbacks/callback.py\", line 47, in _run\n",
      "    out = f(*args, **kwargs)\n",
      "  File \"/home/shyam/anaconda3/envs/py38/lib/python3.8/site-packages/power_cogs-0.4.3-py3.8.egg/power_cogs/base/torch/base_torch_trainer.py\", line 125, in _train_iter\n",
      "    out = self.train_iter(batch_size, epoch)\n",
      "  File \"/home/shyam/anaconda3/envs/py38/lib/python3.8/site-packages/power_cogs-0.4.3-py3.8.egg/power_cogs/examples/reinforce/reinforce_trainer.py\", line 82, in train_iter\n",
      "    self.replay_buffer.rollout(self.cluster, self.model, num_rollouts=batch_size)\n",
      "  File \"/home/shyam/anaconda3/envs/py38/lib/python3.8/site-packages/power_cogs-0.4.3-py3.8.egg/power_cogs/rl/replay_buffer.py\", line 139, in rollout\n",
      "    rollouts = self.get_rollout(\n",
      "  File \"/home/shyam/anaconda3/envs/py38/lib/python3.8/site-packages/power_cogs-0.4.3-py3.8.egg/power_cogs/rl/replay_buffer.py\", line 127, in get_rollout\n",
      "    rollouts = RolloutSet(cluster.execute_list(self.rollout_workers, rollout_args))\n",
      "  File \"/home/shyam/anaconda3/envs/py38/lib/python3.8/site-packages/power_cogs-0.4.3-py3.8.egg/power_cogs/cluster/ray_cluster.py\", line 38, in execute_list\n",
      "    return list(pool.map(lambda a, i: a.execute.remote(**i), object_id_dicts))\n",
      "  File \"/home/shyam/anaconda3/envs/py38/lib/python3.8/site-packages/ray/util/actor_pool.py\", line 63, in map\n",
      "    yield self.get_next()\n",
      "  File \"/home/shyam/anaconda3/envs/py38/lib/python3.8/site-packages/ray/util/actor_pool.py\", line 172, in get_next\n",
      "    return ray.get(future)\n",
      "  File \"/home/shyam/anaconda3/envs/py38/lib/python3.8/site-packages/ray/_private/client_mode_hook.py\", line 47, in wrapper\n",
      "    return func(*args, **kwargs)\n",
      "  File \"/home/shyam/anaconda3/envs/py38/lib/python3.8/site-packages/ray/worker.py\", line 1473, in get\n",
      "    values, debugger_breakpoint = worker.get_objects(\n",
      "  File \"/home/shyam/anaconda3/envs/py38/lib/python3.8/site-packages/ray/worker.py\", line 311, in get_objects\n",
      "    return self.deserialize_objects(data_metadata_pairs,\n",
      "  File \"/home/shyam/anaconda3/envs/py38/lib/python3.8/site-packages/ray/worker.py\", line 274, in deserialize_objects\n",
      "    return context.deserialize_objects(data_metadata_pairs, object_refs)\n",
      "  File \"/home/shyam/anaconda3/envs/py38/lib/python3.8/site-packages/ray/serialization.py\", line 246, in deserialize_objects\n",
      "    obj = self._deserialize_object(data, metadata, object_ref)\n",
      "  File \"/home/shyam/anaconda3/envs/py38/lib/python3.8/site-packages/ray/serialization.py\", line 188, in _deserialize_object\n",
      "    return self._deserialize_msgpack_data(data, metadata_fields)\n",
      "  File \"/home/shyam/anaconda3/envs/py38/lib/python3.8/site-packages/ray/serialization.py\", line 175, in _deserialize_msgpack_data\n",
      "    obj = MessagePackSerializer.loads(msgpack_data,\n",
      "  File \"python/ray/includes/serialization.pxi\", line 179, in ray._raylet.MessagePackSerializer.loads\n",
      "  File \"msgpack/_unpacker.pyx\", line 195, in msgpack._cmsgpack.unpackb\n",
      "  File \"python/ray/includes/serialization.pxi\", line 175, in ray._raylet.MessagePackSerializer.loads._ext_hook\n",
      "  File \"/home/shyam/anaconda3/envs/py38/lib/python3.8/site-packages/ray/serialization.py\", line 172, in _python_deserializer\n",
      "    def _python_deserializer(index):\n",
      "KeyboardInterrupt\n",
      "\n",
      "During handling of the above exception, another exception occurred:\n",
      "\n",
      "Traceback (most recent call last):\n",
      "  File \"/home/shyam/anaconda3/envs/py38/lib/python3.8/site-packages/IPython/core/interactiveshell.py\", line 2044, in showtraceback\n",
      "    stb = value._render_traceback_()\n",
      "AttributeError: 'KeyboardInterrupt' object has no attribute '_render_traceback_'\n",
      "\n",
      "During handling of the above exception, another exception occurred:\n",
      "\n",
      "Traceback (most recent call last):\n",
      "  File \"/home/shyam/anaconda3/envs/py38/lib/python3.8/site-packages/IPython/core/ultratb.py\", line 1169, in get_records\n",
      "    return _fixed_getinnerframes(etb, number_of_lines_of_context, tb_offset)\n",
      "  File \"/home/shyam/anaconda3/envs/py38/lib/python3.8/site-packages/IPython/core/ultratb.py\", line 316, in wrapped\n",
      "    return f(*args, **kwargs)\n",
      "  File \"/home/shyam/anaconda3/envs/py38/lib/python3.8/site-packages/IPython/core/ultratb.py\", line 350, in _fixed_getinnerframes\n",
      "    records = fix_frame_records_filenames(inspect.getinnerframes(etb, context))\n",
      "  File \"/home/shyam/anaconda3/envs/py38/lib/python3.8/inspect.py\", line 1503, in getinnerframes\n",
      "    frameinfo = (tb.tb_frame,) + getframeinfo(tb, context)\n",
      "  File \"/home/shyam/anaconda3/envs/py38/lib/python3.8/inspect.py\", line 1461, in getframeinfo\n",
      "    filename = getsourcefile(frame) or getfile(frame)\n",
      "  File \"/home/shyam/anaconda3/envs/py38/lib/python3.8/inspect.py\", line 708, in getsourcefile\n",
      "    if getattr(getmodule(object, filename), '__loader__', None) is not None:\n",
      "  File \"/home/shyam/anaconda3/envs/py38/lib/python3.8/inspect.py\", line 751, in getmodule\n",
      "    f = getabsfile(module)\n",
      "  File \"/home/shyam/anaconda3/envs/py38/lib/python3.8/inspect.py\", line 720, in getabsfile\n",
      "    _filename = getsourcefile(object) or getfile(object)\n",
      "  File \"/home/shyam/anaconda3/envs/py38/lib/python3.8/inspect.py\", line 705, in getsourcefile\n",
      "    if os.path.exists(filename):\n",
      "  File \"/home/shyam/anaconda3/envs/py38/lib/python3.8/genericpath.py\", line 19, in exists\n",
      "    os.stat(path)\n",
      "KeyboardInterrupt\n"
     ]
    },
    {
     "ename": "TypeError",
     "evalue": "object of type 'NoneType' has no len()",
     "output_type": "error",
     "traceback": [
      "\u001b[0;31m---------------------------------------------------------------------------\u001b[0m",
      "\u001b[0;31mKeyboardInterrupt\u001b[0m                         Traceback (most recent call last)",
      "    \u001b[0;31m[... skipping hidden 1 frame]\u001b[0m\n",
      "\u001b[0;32m<ipython-input-8-78dd3c07ab45>\u001b[0m in \u001b[0;36m<module>\u001b[0;34m\u001b[0m\n\u001b[0;32m----> 1\u001b[0;31m \u001b[0mrt\u001b[0m\u001b[0;34m.\u001b[0m\u001b[0mtrain\u001b[0m\u001b[0;34m(\u001b[0m\u001b[0mepochs\u001b[0m\u001b[0;34m=\u001b[0m\u001b[0;36m10000\u001b[0m\u001b[0;34m)\u001b[0m\u001b[0;34m\u001b[0m\u001b[0;34m\u001b[0m\u001b[0m\n\u001b[0m",
      "\u001b[0;32m~/anaconda3/envs/py38/lib/python3.8/site-packages/power_cogs-0.4.3-py3.8.egg/power_cogs/callbacks/callback.py\u001b[0m in \u001b[0;36m_inner\u001b[0;34m(*args, **kwargs)\u001b[0m\n\u001b[1;32m    121\u001b[0m                 \u001b[0mwrapped\u001b[0m \u001b[0;34m=\u001b[0m \u001b[0mcallback\u001b[0m\u001b[0;34m.\u001b[0m\u001b[0mwrap_setup\u001b[0m\u001b[0;34m(\u001b[0m\u001b[0mwrapped\u001b[0m\u001b[0;34m)\u001b[0m\u001b[0;34m\u001b[0m\u001b[0;34m\u001b[0m\u001b[0m\n\u001b[0;32m--> 122\u001b[0;31m         \u001b[0;32mreturn\u001b[0m \u001b[0mwrapped\u001b[0m\u001b[0;34m(\u001b[0m\u001b[0;34m*\u001b[0m\u001b[0margs\u001b[0m\u001b[0;34m,\u001b[0m \u001b[0;34m**\u001b[0m\u001b[0mkwargs\u001b[0m\u001b[0;34m)\u001b[0m\u001b[0;34m\u001b[0m\u001b[0;34m\u001b[0m\u001b[0m\n\u001b[0m\u001b[1;32m    123\u001b[0m \u001b[0;34m\u001b[0m\u001b[0m\n",
      "\u001b[0;32m~/anaconda3/envs/py38/lib/python3.8/site-packages/power_cogs-0.4.3-py3.8.egg/power_cogs/callbacks/callback.py\u001b[0m in \u001b[0;36m_inner\u001b[0;34m(*args, **kwargs)\u001b[0m\n\u001b[1;32m     80\u001b[0m             \u001b[0mself\u001b[0m\u001b[0;34m.\u001b[0m\u001b[0mbefore\u001b[0m\u001b[0;34m(\u001b[0m\u001b[0mwrapped_class\u001b[0m\u001b[0;34m,\u001b[0m \u001b[0mf\u001b[0m\u001b[0;34m,\u001b[0m \u001b[0;34m*\u001b[0m\u001b[0margs\u001b[0m\u001b[0;34m,\u001b[0m \u001b[0;34m**\u001b[0m\u001b[0mkwargs\u001b[0m\u001b[0;34m)\u001b[0m\u001b[0;34m\u001b[0m\u001b[0;34m\u001b[0m\u001b[0m\n\u001b[0;32m---> 81\u001b[0;31m             \u001b[0;32mreturn\u001b[0m \u001b[0mf\u001b[0m\u001b[0;34m(\u001b[0m\u001b[0;34m*\u001b[0m\u001b[0margs\u001b[0m\u001b[0;34m,\u001b[0m \u001b[0;34m**\u001b[0m\u001b[0mkwargs\u001b[0m\u001b[0;34m)\u001b[0m\u001b[0;34m\u001b[0m\u001b[0;34m\u001b[0m\u001b[0m\n\u001b[0m\u001b[1;32m     82\u001b[0m \u001b[0;34m\u001b[0m\u001b[0m\n",
      "\u001b[0;32m~/anaconda3/envs/py38/lib/python3.8/site-packages/power_cogs-0.4.3-py3.8.egg/power_cogs/callbacks/callback.py\u001b[0m in \u001b[0;36m_inner\u001b[0;34m(*args, **kwargs)\u001b[0m\n\u001b[1;32m    121\u001b[0m                 \u001b[0mwrapped\u001b[0m \u001b[0;34m=\u001b[0m \u001b[0mcallback\u001b[0m\u001b[0;34m.\u001b[0m\u001b[0mwrap_setup\u001b[0m\u001b[0;34m(\u001b[0m\u001b[0mwrapped\u001b[0m\u001b[0;34m)\u001b[0m\u001b[0;34m\u001b[0m\u001b[0;34m\u001b[0m\u001b[0m\n\u001b[0;32m--> 122\u001b[0;31m         \u001b[0;32mreturn\u001b[0m \u001b[0mwrapped\u001b[0m\u001b[0;34m(\u001b[0m\u001b[0;34m*\u001b[0m\u001b[0margs\u001b[0m\u001b[0;34m,\u001b[0m \u001b[0;34m**\u001b[0m\u001b[0mkwargs\u001b[0m\u001b[0;34m)\u001b[0m\u001b[0;34m\u001b[0m\u001b[0;34m\u001b[0m\u001b[0m\n\u001b[0m\u001b[1;32m    123\u001b[0m \u001b[0;34m\u001b[0m\u001b[0m\n",
      "\u001b[0;32m~/anaconda3/envs/py38/lib/python3.8/site-packages/power_cogs-0.4.3-py3.8.egg/power_cogs/callbacks/callback.py\u001b[0m in \u001b[0;36m_inner\u001b[0;34m(*args, **kwargs)\u001b[0m\n\u001b[1;32m     90\u001b[0m             \u001b[0;32mtry\u001b[0m\u001b[0;34m:\u001b[0m\u001b[0;34m\u001b[0m\u001b[0;34m\u001b[0m\u001b[0m\n\u001b[0;32m---> 91\u001b[0;31m                 \u001b[0mout\u001b[0m \u001b[0;34m=\u001b[0m \u001b[0mf\u001b[0m\u001b[0;34m(\u001b[0m\u001b[0;34m*\u001b[0m\u001b[0margs\u001b[0m\u001b[0;34m,\u001b[0m \u001b[0;34m**\u001b[0m\u001b[0mkwargs\u001b[0m\u001b[0;34m)\u001b[0m\u001b[0;34m\u001b[0m\u001b[0;34m\u001b[0m\u001b[0m\n\u001b[0m\u001b[1;32m     92\u001b[0m             \u001b[0;32mexcept\u001b[0m \u001b[0mException\u001b[0m \u001b[0;32mas\u001b[0m \u001b[0me\u001b[0m\u001b[0;34m:\u001b[0m\u001b[0;34m\u001b[0m\u001b[0;34m\u001b[0m\u001b[0m\n",
      "\u001b[0;32m~/anaconda3/envs/py38/lib/python3.8/site-packages/power_cogs-0.4.3-py3.8.egg/power_cogs/base/torch/base_torch_trainer.py\u001b[0m in \u001b[0;36mtrain\u001b[0;34m(self, batch_size, epochs, visualize)\u001b[0m\n\u001b[1;32m    145\u001b[0m             \u001b[0mself\u001b[0m\u001b[0;34m.\u001b[0m\u001b[0mcurrent_iteration\u001b[0m \u001b[0;34m+=\u001b[0m \u001b[0;36m1\u001b[0m\u001b[0;34m\u001b[0m\u001b[0;34m\u001b[0m\u001b[0m\n\u001b[0;32m--> 146\u001b[0;31m             \u001b[0moutput\u001b[0m \u001b[0;34m=\u001b[0m \u001b[0mself\u001b[0m\u001b[0;34m.\u001b[0m\u001b[0m_train_iter\u001b[0m\u001b[0;34m(\u001b[0m\u001b[0mbatch_size\u001b[0m\u001b[0;34m,\u001b[0m \u001b[0mself\u001b[0m\u001b[0;34m.\u001b[0m\u001b[0mcurrent_iteration\u001b[0m\u001b[0;34m)\u001b[0m\u001b[0;34m\u001b[0m\u001b[0;34m\u001b[0m\u001b[0m\n\u001b[0m\u001b[1;32m    147\u001b[0m             \u001b[0mmetrics\u001b[0m \u001b[0;34m=\u001b[0m \u001b[0moutput\u001b[0m\u001b[0;34m.\u001b[0m\u001b[0mget\u001b[0m\u001b[0;34m(\u001b[0m\u001b[0;34m\"metrics\"\u001b[0m\u001b[0;34m,\u001b[0m \u001b[0;34m{\u001b[0m\u001b[0;34m}\u001b[0m\u001b[0;34m)\u001b[0m\u001b[0;34m\u001b[0m\u001b[0;34m\u001b[0m\u001b[0m\n",
      "\u001b[0;32m~/anaconda3/envs/py38/lib/python3.8/site-packages/power_cogs-0.4.3-py3.8.egg/power_cogs/callbacks/callback.py\u001b[0m in \u001b[0;36m_inner\u001b[0;34m(*args, **kwargs)\u001b[0m\n\u001b[1;32m    121\u001b[0m                 \u001b[0mwrapped\u001b[0m \u001b[0;34m=\u001b[0m \u001b[0mcallback\u001b[0m\u001b[0;34m.\u001b[0m\u001b[0mwrap_setup\u001b[0m\u001b[0;34m(\u001b[0m\u001b[0mwrapped\u001b[0m\u001b[0;34m)\u001b[0m\u001b[0;34m\u001b[0m\u001b[0;34m\u001b[0m\u001b[0m\n\u001b[0;32m--> 122\u001b[0;31m         \u001b[0;32mreturn\u001b[0m \u001b[0mwrapped\u001b[0m\u001b[0;34m(\u001b[0m\u001b[0;34m*\u001b[0m\u001b[0margs\u001b[0m\u001b[0;34m,\u001b[0m \u001b[0;34m**\u001b[0m\u001b[0mkwargs\u001b[0m\u001b[0;34m)\u001b[0m\u001b[0;34m\u001b[0m\u001b[0;34m\u001b[0m\u001b[0m\n\u001b[0m\u001b[1;32m    123\u001b[0m \u001b[0;34m\u001b[0m\u001b[0m\n",
      "\u001b[0;32m~/anaconda3/envs/py38/lib/python3.8/site-packages/power_cogs-0.4.3-py3.8.egg/power_cogs/callbacks/callback.py\u001b[0m in \u001b[0;36m_inner\u001b[0;34m(*args, **kwargs)\u001b[0m\n\u001b[1;32m     60\u001b[0m         \u001b[0;32mdef\u001b[0m \u001b[0m_inner\u001b[0m\u001b[0;34m(\u001b[0m\u001b[0;34m*\u001b[0m\u001b[0margs\u001b[0m\u001b[0;34m,\u001b[0m \u001b[0;34m**\u001b[0m\u001b[0mkwargs\u001b[0m\u001b[0;34m)\u001b[0m\u001b[0;34m:\u001b[0m\u001b[0;34m\u001b[0m\u001b[0;34m\u001b[0m\u001b[0m\n\u001b[0;32m---> 61\u001b[0;31m             \u001b[0;32mreturn\u001b[0m \u001b[0mself\u001b[0m\u001b[0;34m.\u001b[0m\u001b[0m_run\u001b[0m\u001b[0;34m(\u001b[0m\u001b[0mf\u001b[0m\u001b[0;34m,\u001b[0m \u001b[0;34m*\u001b[0m\u001b[0margs\u001b[0m\u001b[0;34m,\u001b[0m \u001b[0;34m**\u001b[0m\u001b[0mkwargs\u001b[0m\u001b[0;34m)\u001b[0m\u001b[0;34m\u001b[0m\u001b[0;34m\u001b[0m\u001b[0m\n\u001b[0m\u001b[1;32m     62\u001b[0m \u001b[0;34m\u001b[0m\u001b[0m\n",
      "\u001b[0;32m~/anaconda3/envs/py38/lib/python3.8/site-packages/power_cogs-0.4.3-py3.8.egg/power_cogs/callbacks/callback.py\u001b[0m in \u001b[0;36m_run\u001b[0;34m(self, f, *args, **kwargs)\u001b[0m\n\u001b[1;32m     46\u001b[0m         \u001b[0;32mtry\u001b[0m\u001b[0;34m:\u001b[0m\u001b[0;34m\u001b[0m\u001b[0;34m\u001b[0m\u001b[0m\n\u001b[0;32m---> 47\u001b[0;31m             \u001b[0mout\u001b[0m \u001b[0;34m=\u001b[0m \u001b[0mf\u001b[0m\u001b[0;34m(\u001b[0m\u001b[0;34m*\u001b[0m\u001b[0margs\u001b[0m\u001b[0;34m,\u001b[0m \u001b[0;34m**\u001b[0m\u001b[0mkwargs\u001b[0m\u001b[0;34m)\u001b[0m\u001b[0;34m\u001b[0m\u001b[0;34m\u001b[0m\u001b[0m\n\u001b[0m\u001b[1;32m     48\u001b[0m         \u001b[0;32mexcept\u001b[0m \u001b[0mException\u001b[0m \u001b[0;32mas\u001b[0m \u001b[0me\u001b[0m\u001b[0;34m:\u001b[0m\u001b[0;34m\u001b[0m\u001b[0;34m\u001b[0m\u001b[0m\n",
      "\u001b[0;32m~/anaconda3/envs/py38/lib/python3.8/site-packages/power_cogs-0.4.3-py3.8.egg/power_cogs/base/torch/base_torch_trainer.py\u001b[0m in \u001b[0;36m_train_iter\u001b[0;34m(self, batch_size, epoch)\u001b[0m\n\u001b[1;32m    124\u001b[0m     \u001b[0;32mdef\u001b[0m \u001b[0m_train_iter\u001b[0m\u001b[0;34m(\u001b[0m\u001b[0mself\u001b[0m\u001b[0;34m,\u001b[0m \u001b[0mbatch_size\u001b[0m\u001b[0;34m:\u001b[0m \u001b[0mint\u001b[0m \u001b[0;34m=\u001b[0m \u001b[0;36m32\u001b[0m\u001b[0;34m,\u001b[0m \u001b[0mepoch\u001b[0m\u001b[0;34m:\u001b[0m \u001b[0mint\u001b[0m \u001b[0;34m=\u001b[0m \u001b[0;36m0\u001b[0m\u001b[0;34m)\u001b[0m\u001b[0;34m:\u001b[0m\u001b[0;34m\u001b[0m\u001b[0;34m\u001b[0m\u001b[0m\n\u001b[0;32m--> 125\u001b[0;31m         \u001b[0mout\u001b[0m \u001b[0;34m=\u001b[0m \u001b[0mself\u001b[0m\u001b[0;34m.\u001b[0m\u001b[0mtrain_iter\u001b[0m\u001b[0;34m(\u001b[0m\u001b[0mbatch_size\u001b[0m\u001b[0;34m,\u001b[0m \u001b[0mepoch\u001b[0m\u001b[0;34m)\u001b[0m\u001b[0;34m\u001b[0m\u001b[0;34m\u001b[0m\u001b[0m\n\u001b[0m\u001b[1;32m    126\u001b[0m         \u001b[0mout\u001b[0m\u001b[0;34m[\u001b[0m\u001b[0;34m\"epoch\"\u001b[0m\u001b[0;34m]\u001b[0m \u001b[0;34m=\u001b[0m \u001b[0mepoch\u001b[0m\u001b[0;34m\u001b[0m\u001b[0;34m\u001b[0m\u001b[0m\n",
      "\u001b[0;32m~/anaconda3/envs/py38/lib/python3.8/site-packages/power_cogs-0.4.3-py3.8.egg/power_cogs/examples/reinforce/reinforce_trainer.py\u001b[0m in \u001b[0;36mtrain_iter\u001b[0;34m(self, batch_size, epoch)\u001b[0m\n\u001b[1;32m     81\u001b[0m         \u001b[0mlosses\u001b[0m \u001b[0;34m=\u001b[0m \u001b[0;34m[\u001b[0m\u001b[0;34m]\u001b[0m\u001b[0;34m\u001b[0m\u001b[0;34m\u001b[0m\u001b[0m\n\u001b[0;32m---> 82\u001b[0;31m         \u001b[0mself\u001b[0m\u001b[0;34m.\u001b[0m\u001b[0mreplay_buffer\u001b[0m\u001b[0;34m.\u001b[0m\u001b[0mrollout\u001b[0m\u001b[0;34m(\u001b[0m\u001b[0mself\u001b[0m\u001b[0;34m.\u001b[0m\u001b[0mcluster\u001b[0m\u001b[0;34m,\u001b[0m \u001b[0mself\u001b[0m\u001b[0;34m.\u001b[0m\u001b[0mmodel\u001b[0m\u001b[0;34m,\u001b[0m \u001b[0mnum_rollouts\u001b[0m\u001b[0;34m=\u001b[0m\u001b[0mbatch_size\u001b[0m\u001b[0;34m)\u001b[0m\u001b[0;34m\u001b[0m\u001b[0;34m\u001b[0m\u001b[0m\n\u001b[0m\u001b[1;32m     83\u001b[0m         \u001b[0mrollout_set\u001b[0m \u001b[0;34m=\u001b[0m \u001b[0mself\u001b[0m\u001b[0;34m.\u001b[0m\u001b[0mreplay_buffer\u001b[0m\u001b[0;34m.\u001b[0m\u001b[0msample\u001b[0m\u001b[0;34m(\u001b[0m\u001b[0mbatch_size\u001b[0m\u001b[0;34m)\u001b[0m\u001b[0;34m\u001b[0m\u001b[0;34m\u001b[0m\u001b[0m\n",
      "\u001b[0;32m~/anaconda3/envs/py38/lib/python3.8/site-packages/power_cogs-0.4.3-py3.8.egg/power_cogs/rl/replay_buffer.py\u001b[0m in \u001b[0;36mrollout\u001b[0;34m(self, cluster, agent, observation_wrapper, action_wrapper, num_rollouts, render)\u001b[0m\n\u001b[1;32m    138\u001b[0m     ) -> RolloutSet:\n\u001b[0;32m--> 139\u001b[0;31m         rollouts = self.get_rollout(\n\u001b[0m\u001b[1;32m    140\u001b[0m             \u001b[0mcluster\u001b[0m\u001b[0;34m,\u001b[0m \u001b[0magent\u001b[0m\u001b[0;34m,\u001b[0m \u001b[0mobservation_wrapper\u001b[0m\u001b[0;34m,\u001b[0m \u001b[0maction_wrapper\u001b[0m\u001b[0;34m,\u001b[0m \u001b[0mnum_rollouts\u001b[0m\u001b[0;34m,\u001b[0m \u001b[0mrender\u001b[0m\u001b[0;34m\u001b[0m\u001b[0;34m\u001b[0m\u001b[0m\n",
      "\u001b[0;32m~/anaconda3/envs/py38/lib/python3.8/site-packages/power_cogs-0.4.3-py3.8.egg/power_cogs/rl/replay_buffer.py\u001b[0m in \u001b[0;36mget_rollout\u001b[0;34m(self, cluster, agent, observation_wrapper, action_wrapper, num_rollouts, render)\u001b[0m\n\u001b[1;32m    126\u001b[0m         \u001b[0mrollout_args\u001b[0m \u001b[0;34m=\u001b[0m \u001b[0;34m[\u001b[0m\u001b[0;34m{\u001b[0m\u001b[0;34m\"agent\"\u001b[0m\u001b[0;34m:\u001b[0m \u001b[0magent\u001b[0m\u001b[0;34m,\u001b[0m \u001b[0;34m\"render\"\u001b[0m\u001b[0;34m:\u001b[0m \u001b[0mrender\u001b[0m\u001b[0;34m}\u001b[0m \u001b[0;32mfor\u001b[0m \u001b[0mi\u001b[0m \u001b[0;32min\u001b[0m \u001b[0mrange\u001b[0m\u001b[0;34m(\u001b[0m\u001b[0mnum_rollouts\u001b[0m\u001b[0;34m)\u001b[0m\u001b[0;34m]\u001b[0m\u001b[0;34m\u001b[0m\u001b[0;34m\u001b[0m\u001b[0m\n\u001b[0;32m--> 127\u001b[0;31m         \u001b[0mrollouts\u001b[0m \u001b[0;34m=\u001b[0m \u001b[0mRolloutSet\u001b[0m\u001b[0;34m(\u001b[0m\u001b[0mcluster\u001b[0m\u001b[0;34m.\u001b[0m\u001b[0mexecute_list\u001b[0m\u001b[0;34m(\u001b[0m\u001b[0mself\u001b[0m\u001b[0;34m.\u001b[0m\u001b[0mrollout_workers\u001b[0m\u001b[0;34m,\u001b[0m \u001b[0mrollout_args\u001b[0m\u001b[0;34m)\u001b[0m\u001b[0;34m)\u001b[0m\u001b[0;34m\u001b[0m\u001b[0;34m\u001b[0m\u001b[0m\n\u001b[0m\u001b[1;32m    128\u001b[0m         \u001b[0;32mreturn\u001b[0m \u001b[0mrollouts\u001b[0m\u001b[0;34m\u001b[0m\u001b[0;34m\u001b[0m\u001b[0m\n",
      "\u001b[0;32m~/anaconda3/envs/py38/lib/python3.8/site-packages/power_cogs-0.4.3-py3.8.egg/power_cogs/cluster/ray_cluster.py\u001b[0m in \u001b[0;36mexecute_list\u001b[0;34m(self, executions, object_id_dicts)\u001b[0m\n\u001b[1;32m     37\u001b[0m         \u001b[0mpool\u001b[0m \u001b[0;34m=\u001b[0m \u001b[0mActorPool\u001b[0m\u001b[0;34m(\u001b[0m\u001b[0mexecutions\u001b[0m\u001b[0;34m)\u001b[0m\u001b[0;34m\u001b[0m\u001b[0;34m\u001b[0m\u001b[0m\n\u001b[0;32m---> 38\u001b[0;31m         \u001b[0;32mreturn\u001b[0m \u001b[0mlist\u001b[0m\u001b[0;34m(\u001b[0m\u001b[0mpool\u001b[0m\u001b[0;34m.\u001b[0m\u001b[0mmap\u001b[0m\u001b[0;34m(\u001b[0m\u001b[0;32mlambda\u001b[0m \u001b[0ma\u001b[0m\u001b[0;34m,\u001b[0m \u001b[0mi\u001b[0m\u001b[0;34m:\u001b[0m \u001b[0ma\u001b[0m\u001b[0;34m.\u001b[0m\u001b[0mexecute\u001b[0m\u001b[0;34m.\u001b[0m\u001b[0mremote\u001b[0m\u001b[0;34m(\u001b[0m\u001b[0;34m**\u001b[0m\u001b[0mi\u001b[0m\u001b[0;34m)\u001b[0m\u001b[0;34m,\u001b[0m \u001b[0mobject_id_dicts\u001b[0m\u001b[0;34m)\u001b[0m\u001b[0;34m)\u001b[0m\u001b[0;34m\u001b[0m\u001b[0;34m\u001b[0m\u001b[0m\n\u001b[0m\u001b[1;32m     39\u001b[0m \u001b[0;34m\u001b[0m\u001b[0m\n",
      "\u001b[0;32m~/anaconda3/envs/py38/lib/python3.8/site-packages/ray/util/actor_pool.py\u001b[0m in \u001b[0;36mmap\u001b[0;34m(self, fn, values)\u001b[0m\n\u001b[1;32m     62\u001b[0m         \u001b[0;32mwhile\u001b[0m \u001b[0mself\u001b[0m\u001b[0;34m.\u001b[0m\u001b[0mhas_next\u001b[0m\u001b[0;34m(\u001b[0m\u001b[0;34m)\u001b[0m\u001b[0;34m:\u001b[0m\u001b[0;34m\u001b[0m\u001b[0;34m\u001b[0m\u001b[0m\n\u001b[0;32m---> 63\u001b[0;31m             \u001b[0;32myield\u001b[0m \u001b[0mself\u001b[0m\u001b[0;34m.\u001b[0m\u001b[0mget_next\u001b[0m\u001b[0;34m(\u001b[0m\u001b[0;34m)\u001b[0m\u001b[0;34m\u001b[0m\u001b[0;34m\u001b[0m\u001b[0m\n\u001b[0m\u001b[1;32m     64\u001b[0m \u001b[0;34m\u001b[0m\u001b[0m\n",
      "\u001b[0;32m~/anaconda3/envs/py38/lib/python3.8/site-packages/ray/util/actor_pool.py\u001b[0m in \u001b[0;36mget_next\u001b[0;34m(self, timeout)\u001b[0m\n\u001b[1;32m    171\u001b[0m         \u001b[0mself\u001b[0m\u001b[0;34m.\u001b[0m\u001b[0m_return_actor\u001b[0m\u001b[0;34m(\u001b[0m\u001b[0ma\u001b[0m\u001b[0;34m)\u001b[0m\u001b[0;34m\u001b[0m\u001b[0;34m\u001b[0m\u001b[0m\n\u001b[0;32m--> 172\u001b[0;31m         \u001b[0;32mreturn\u001b[0m \u001b[0mray\u001b[0m\u001b[0;34m.\u001b[0m\u001b[0mget\u001b[0m\u001b[0;34m(\u001b[0m\u001b[0mfuture\u001b[0m\u001b[0;34m)\u001b[0m\u001b[0;34m\u001b[0m\u001b[0;34m\u001b[0m\u001b[0m\n\u001b[0m\u001b[1;32m    173\u001b[0m \u001b[0;34m\u001b[0m\u001b[0m\n",
      "\u001b[0;32m~/anaconda3/envs/py38/lib/python3.8/site-packages/ray/_private/client_mode_hook.py\u001b[0m in \u001b[0;36mwrapper\u001b[0;34m(*args, **kwargs)\u001b[0m\n\u001b[1;32m     46\u001b[0m             \u001b[0;32mreturn\u001b[0m \u001b[0mgetattr\u001b[0m\u001b[0;34m(\u001b[0m\u001b[0mray\u001b[0m\u001b[0;34m,\u001b[0m \u001b[0mfunc\u001b[0m\u001b[0;34m.\u001b[0m\u001b[0m__name__\u001b[0m\u001b[0;34m)\u001b[0m\u001b[0;34m(\u001b[0m\u001b[0;34m*\u001b[0m\u001b[0margs\u001b[0m\u001b[0;34m,\u001b[0m \u001b[0;34m**\u001b[0m\u001b[0mkwargs\u001b[0m\u001b[0;34m)\u001b[0m\u001b[0;34m\u001b[0m\u001b[0;34m\u001b[0m\u001b[0m\n\u001b[0;32m---> 47\u001b[0;31m         \u001b[0;32mreturn\u001b[0m \u001b[0mfunc\u001b[0m\u001b[0;34m(\u001b[0m\u001b[0;34m*\u001b[0m\u001b[0margs\u001b[0m\u001b[0;34m,\u001b[0m \u001b[0;34m**\u001b[0m\u001b[0mkwargs\u001b[0m\u001b[0;34m)\u001b[0m\u001b[0;34m\u001b[0m\u001b[0;34m\u001b[0m\u001b[0m\n\u001b[0m\u001b[1;32m     48\u001b[0m \u001b[0;34m\u001b[0m\u001b[0m\n",
      "\u001b[0;32m~/anaconda3/envs/py38/lib/python3.8/site-packages/ray/worker.py\u001b[0m in \u001b[0;36mget\u001b[0;34m(object_refs, timeout)\u001b[0m\n\u001b[1;32m   1472\u001b[0m         \u001b[0;31m# TODO(ujvl): Consider how to allow user to retrieve the ready objects.\u001b[0m\u001b[0;34m\u001b[0m\u001b[0;34m\u001b[0m\u001b[0;34m\u001b[0m\u001b[0m\n\u001b[0;32m-> 1473\u001b[0;31m         values, debugger_breakpoint = worker.get_objects(\n\u001b[0m\u001b[1;32m   1474\u001b[0m             object_refs, timeout=timeout)\n",
      "\u001b[0;32m~/anaconda3/envs/py38/lib/python3.8/site-packages/ray/worker.py\u001b[0m in \u001b[0;36mget_objects\u001b[0;34m(self, object_refs, timeout)\u001b[0m\n\u001b[1;32m    310\u001b[0m                         ray_constants.OBJECT_METADATA_DEBUG_PREFIX):]\n\u001b[0;32m--> 311\u001b[0;31m         return self.deserialize_objects(data_metadata_pairs,\n\u001b[0m\u001b[1;32m    312\u001b[0m                                         object_refs), debugger_breakpoint\n",
      "\u001b[0;32m~/anaconda3/envs/py38/lib/python3.8/site-packages/ray/worker.py\u001b[0m in \u001b[0;36mdeserialize_objects\u001b[0;34m(self, data_metadata_pairs, object_refs)\u001b[0m\n\u001b[1;32m    273\u001b[0m         \u001b[0mcontext\u001b[0m \u001b[0;34m=\u001b[0m \u001b[0mself\u001b[0m\u001b[0;34m.\u001b[0m\u001b[0mget_serialization_context\u001b[0m\u001b[0;34m(\u001b[0m\u001b[0;34m)\u001b[0m\u001b[0;34m\u001b[0m\u001b[0;34m\u001b[0m\u001b[0m\n\u001b[0;32m--> 274\u001b[0;31m         \u001b[0;32mreturn\u001b[0m \u001b[0mcontext\u001b[0m\u001b[0;34m.\u001b[0m\u001b[0mdeserialize_objects\u001b[0m\u001b[0;34m(\u001b[0m\u001b[0mdata_metadata_pairs\u001b[0m\u001b[0;34m,\u001b[0m \u001b[0mobject_refs\u001b[0m\u001b[0;34m)\u001b[0m\u001b[0;34m\u001b[0m\u001b[0;34m\u001b[0m\u001b[0m\n\u001b[0m\u001b[1;32m    275\u001b[0m \u001b[0;34m\u001b[0m\u001b[0m\n",
      "\u001b[0;32m~/anaconda3/envs/py38/lib/python3.8/site-packages/ray/serialization.py\u001b[0m in \u001b[0;36mdeserialize_objects\u001b[0;34m(self, data_metadata_pairs, object_refs)\u001b[0m\n\u001b[1;32m    245\u001b[0m             \u001b[0;32mtry\u001b[0m\u001b[0;34m:\u001b[0m\u001b[0;34m\u001b[0m\u001b[0;34m\u001b[0m\u001b[0m\n\u001b[0;32m--> 246\u001b[0;31m                 \u001b[0mobj\u001b[0m \u001b[0;34m=\u001b[0m \u001b[0mself\u001b[0m\u001b[0;34m.\u001b[0m\u001b[0m_deserialize_object\u001b[0m\u001b[0;34m(\u001b[0m\u001b[0mdata\u001b[0m\u001b[0;34m,\u001b[0m \u001b[0mmetadata\u001b[0m\u001b[0;34m,\u001b[0m \u001b[0mobject_ref\u001b[0m\u001b[0;34m)\u001b[0m\u001b[0;34m\u001b[0m\u001b[0;34m\u001b[0m\u001b[0m\n\u001b[0m\u001b[1;32m    247\u001b[0m             \u001b[0;32mexcept\u001b[0m \u001b[0mException\u001b[0m \u001b[0;32mas\u001b[0m \u001b[0me\u001b[0m\u001b[0;34m:\u001b[0m\u001b[0;34m\u001b[0m\u001b[0;34m\u001b[0m\u001b[0m\n",
      "\u001b[0;32m~/anaconda3/envs/py38/lib/python3.8/site-packages/ray/serialization.py\u001b[0m in \u001b[0;36m_deserialize_object\u001b[0;34m(self, data, metadata, object_ref)\u001b[0m\n\u001b[1;32m    187\u001b[0m             ]:\n\u001b[0;32m--> 188\u001b[0;31m                 \u001b[0;32mreturn\u001b[0m \u001b[0mself\u001b[0m\u001b[0;34m.\u001b[0m\u001b[0m_deserialize_msgpack_data\u001b[0m\u001b[0;34m(\u001b[0m\u001b[0mdata\u001b[0m\u001b[0;34m,\u001b[0m \u001b[0mmetadata_fields\u001b[0m\u001b[0;34m)\u001b[0m\u001b[0;34m\u001b[0m\u001b[0;34m\u001b[0m\u001b[0m\n\u001b[0m\u001b[1;32m    189\u001b[0m             \u001b[0;31m# Check if the object should be returned as raw bytes.\u001b[0m\u001b[0;34m\u001b[0m\u001b[0;34m\u001b[0m\u001b[0;34m\u001b[0m\u001b[0m\n",
      "\u001b[0;32m~/anaconda3/envs/py38/lib/python3.8/site-packages/ray/serialization.py\u001b[0m in \u001b[0;36m_deserialize_msgpack_data\u001b[0;34m(self, data, metadata_fields)\u001b[0m\n\u001b[1;32m    174\u001b[0m \u001b[0;34m\u001b[0m\u001b[0m\n\u001b[0;32m--> 175\u001b[0;31m             obj = MessagePackSerializer.loads(msgpack_data,\n\u001b[0m\u001b[1;32m    176\u001b[0m                                               _python_deserializer)\n",
      "\u001b[0;32mpython/ray/includes/serialization.pxi\u001b[0m in \u001b[0;36mray._raylet.MessagePackSerializer.loads\u001b[0;34m()\u001b[0m\n",
      "\u001b[0;32mmsgpack/_unpacker.pyx\u001b[0m in \u001b[0;36mmsgpack._cmsgpack.unpackb\u001b[0;34m()\u001b[0m\n",
      "\u001b[0;32mpython/ray/includes/serialization.pxi\u001b[0m in \u001b[0;36mray._raylet.MessagePackSerializer.loads._ext_hook\u001b[0;34m()\u001b[0m\n",
      "\u001b[0;32m~/anaconda3/envs/py38/lib/python3.8/site-packages/ray/serialization.py\u001b[0m in \u001b[0;36m_python_deserializer\u001b[0;34m(index)\u001b[0m\n\u001b[1;32m    171\u001b[0m \u001b[0;34m\u001b[0m\u001b[0m\n\u001b[0;32m--> 172\u001b[0;31m             \u001b[0;32mdef\u001b[0m \u001b[0m_python_deserializer\u001b[0m\u001b[0;34m(\u001b[0m\u001b[0mindex\u001b[0m\u001b[0;34m)\u001b[0m\u001b[0;34m:\u001b[0m\u001b[0;34m\u001b[0m\u001b[0;34m\u001b[0m\u001b[0m\n\u001b[0m\u001b[1;32m    173\u001b[0m                 \u001b[0;32mreturn\u001b[0m \u001b[0mpython_objects\u001b[0m\u001b[0;34m[\u001b[0m\u001b[0mindex\u001b[0m\u001b[0;34m]\u001b[0m\u001b[0;34m\u001b[0m\u001b[0;34m\u001b[0m\u001b[0m\n",
      "\u001b[0;31mKeyboardInterrupt\u001b[0m: ",
      "\nDuring handling of the above exception, another exception occurred:\n",
      "\u001b[0;31mAttributeError\u001b[0m                            Traceback (most recent call last)",
      "\u001b[0;32m~/anaconda3/envs/py38/lib/python3.8/site-packages/IPython/core/interactiveshell.py\u001b[0m in \u001b[0;36mshowtraceback\u001b[0;34m(self, exc_tuple, filename, tb_offset, exception_only, running_compiled_code)\u001b[0m\n\u001b[1;32m   2043\u001b[0m                         \u001b[0;31m# in the engines. This should return a list of strings.\u001b[0m\u001b[0;34m\u001b[0m\u001b[0;34m\u001b[0m\u001b[0;34m\u001b[0m\u001b[0m\n\u001b[0;32m-> 2044\u001b[0;31m                         \u001b[0mstb\u001b[0m \u001b[0;34m=\u001b[0m \u001b[0mvalue\u001b[0m\u001b[0;34m.\u001b[0m\u001b[0m_render_traceback_\u001b[0m\u001b[0;34m(\u001b[0m\u001b[0;34m)\u001b[0m\u001b[0;34m\u001b[0m\u001b[0;34m\u001b[0m\u001b[0m\n\u001b[0m\u001b[1;32m   2045\u001b[0m                     \u001b[0;32mexcept\u001b[0m \u001b[0mException\u001b[0m\u001b[0;34m:\u001b[0m\u001b[0;34m\u001b[0m\u001b[0;34m\u001b[0m\u001b[0m\n",
      "\u001b[0;31mAttributeError\u001b[0m: 'KeyboardInterrupt' object has no attribute '_render_traceback_'",
      "\nDuring handling of the above exception, another exception occurred:\n",
      "\u001b[0;31mTypeError\u001b[0m                                 Traceback (most recent call last)",
      "    \u001b[0;31m[... skipping hidden 1 frame]\u001b[0m\n",
      "\u001b[0;32m~/anaconda3/envs/py38/lib/python3.8/site-packages/IPython/core/interactiveshell.py\u001b[0m in \u001b[0;36mshowtraceback\u001b[0;34m(self, exc_tuple, filename, tb_offset, exception_only, running_compiled_code)\u001b[0m\n\u001b[1;32m   2044\u001b[0m                         \u001b[0mstb\u001b[0m \u001b[0;34m=\u001b[0m \u001b[0mvalue\u001b[0m\u001b[0;34m.\u001b[0m\u001b[0m_render_traceback_\u001b[0m\u001b[0;34m(\u001b[0m\u001b[0;34m)\u001b[0m\u001b[0;34m\u001b[0m\u001b[0;34m\u001b[0m\u001b[0m\n\u001b[1;32m   2045\u001b[0m                     \u001b[0;32mexcept\u001b[0m \u001b[0mException\u001b[0m\u001b[0;34m:\u001b[0m\u001b[0;34m\u001b[0m\u001b[0;34m\u001b[0m\u001b[0m\n\u001b[0;32m-> 2046\u001b[0;31m                         stb = self.InteractiveTB.structured_traceback(etype,\n\u001b[0m\u001b[1;32m   2047\u001b[0m                                             value, tb, tb_offset=tb_offset)\n\u001b[1;32m   2048\u001b[0m \u001b[0;34m\u001b[0m\u001b[0m\n",
      "\u001b[0;32m~/anaconda3/envs/py38/lib/python3.8/site-packages/IPython/core/ultratb.py\u001b[0m in \u001b[0;36mstructured_traceback\u001b[0;34m(self, etype, value, tb, tb_offset, number_of_lines_of_context)\u001b[0m\n\u001b[1;32m   1433\u001b[0m         \u001b[0;32melse\u001b[0m\u001b[0;34m:\u001b[0m\u001b[0;34m\u001b[0m\u001b[0;34m\u001b[0m\u001b[0m\n\u001b[1;32m   1434\u001b[0m             \u001b[0mself\u001b[0m\u001b[0;34m.\u001b[0m\u001b[0mtb\u001b[0m \u001b[0;34m=\u001b[0m \u001b[0mtb\u001b[0m\u001b[0;34m\u001b[0m\u001b[0;34m\u001b[0m\u001b[0m\n\u001b[0;32m-> 1435\u001b[0;31m         return FormattedTB.structured_traceback(\n\u001b[0m\u001b[1;32m   1436\u001b[0m             self, etype, value, tb, tb_offset, number_of_lines_of_context)\n\u001b[1;32m   1437\u001b[0m \u001b[0;34m\u001b[0m\u001b[0m\n",
      "\u001b[0;32m~/anaconda3/envs/py38/lib/python3.8/site-packages/IPython/core/ultratb.py\u001b[0m in \u001b[0;36mstructured_traceback\u001b[0;34m(self, etype, value, tb, tb_offset, number_of_lines_of_context)\u001b[0m\n\u001b[1;32m   1333\u001b[0m         \u001b[0;32mif\u001b[0m \u001b[0mmode\u001b[0m \u001b[0;32min\u001b[0m \u001b[0mself\u001b[0m\u001b[0;34m.\u001b[0m\u001b[0mverbose_modes\u001b[0m\u001b[0;34m:\u001b[0m\u001b[0;34m\u001b[0m\u001b[0;34m\u001b[0m\u001b[0m\n\u001b[1;32m   1334\u001b[0m             \u001b[0;31m# Verbose modes need a full traceback\u001b[0m\u001b[0;34m\u001b[0m\u001b[0;34m\u001b[0m\u001b[0;34m\u001b[0m\u001b[0m\n\u001b[0;32m-> 1335\u001b[0;31m             return VerboseTB.structured_traceback(\n\u001b[0m\u001b[1;32m   1336\u001b[0m                 \u001b[0mself\u001b[0m\u001b[0;34m,\u001b[0m \u001b[0metype\u001b[0m\u001b[0;34m,\u001b[0m \u001b[0mvalue\u001b[0m\u001b[0;34m,\u001b[0m \u001b[0mtb\u001b[0m\u001b[0;34m,\u001b[0m \u001b[0mtb_offset\u001b[0m\u001b[0;34m,\u001b[0m \u001b[0mnumber_of_lines_of_context\u001b[0m\u001b[0;34m\u001b[0m\u001b[0;34m\u001b[0m\u001b[0m\n\u001b[1;32m   1337\u001b[0m             )\n",
      "\u001b[0;32m~/anaconda3/envs/py38/lib/python3.8/site-packages/IPython/core/ultratb.py\u001b[0m in \u001b[0;36mstructured_traceback\u001b[0;34m(self, etype, evalue, etb, tb_offset, number_of_lines_of_context)\u001b[0m\n\u001b[1;32m   1190\u001b[0m         \u001b[0;34m\"\"\"Return a nice text document describing the traceback.\"\"\"\u001b[0m\u001b[0;34m\u001b[0m\u001b[0;34m\u001b[0m\u001b[0m\n\u001b[1;32m   1191\u001b[0m \u001b[0;34m\u001b[0m\u001b[0m\n\u001b[0;32m-> 1192\u001b[0;31m         formatted_exception = self.format_exception_as_a_whole(etype, evalue, etb, number_of_lines_of_context,\n\u001b[0m\u001b[1;32m   1193\u001b[0m                                                                tb_offset)\n\u001b[1;32m   1194\u001b[0m \u001b[0;34m\u001b[0m\u001b[0m\n",
      "\u001b[0;32m~/anaconda3/envs/py38/lib/python3.8/site-packages/IPython/core/ultratb.py\u001b[0m in \u001b[0;36mformat_exception_as_a_whole\u001b[0;34m(self, etype, evalue, etb, number_of_lines_of_context, tb_offset)\u001b[0m\n\u001b[1;32m   1148\u001b[0m \u001b[0;34m\u001b[0m\u001b[0m\n\u001b[1;32m   1149\u001b[0m \u001b[0;34m\u001b[0m\u001b[0m\n\u001b[0;32m-> 1150\u001b[0;31m         \u001b[0mlast_unique\u001b[0m\u001b[0;34m,\u001b[0m \u001b[0mrecursion_repeat\u001b[0m \u001b[0;34m=\u001b[0m \u001b[0mfind_recursion\u001b[0m\u001b[0;34m(\u001b[0m\u001b[0morig_etype\u001b[0m\u001b[0;34m,\u001b[0m \u001b[0mevalue\u001b[0m\u001b[0;34m,\u001b[0m \u001b[0mrecords\u001b[0m\u001b[0;34m)\u001b[0m\u001b[0;34m\u001b[0m\u001b[0;34m\u001b[0m\u001b[0m\n\u001b[0m\u001b[1;32m   1151\u001b[0m \u001b[0;34m\u001b[0m\u001b[0m\n\u001b[1;32m   1152\u001b[0m         \u001b[0mframes\u001b[0m \u001b[0;34m=\u001b[0m \u001b[0mself\u001b[0m\u001b[0;34m.\u001b[0m\u001b[0mformat_records\u001b[0m\u001b[0;34m(\u001b[0m\u001b[0mrecords\u001b[0m\u001b[0;34m,\u001b[0m \u001b[0mlast_unique\u001b[0m\u001b[0;34m,\u001b[0m \u001b[0mrecursion_repeat\u001b[0m\u001b[0;34m)\u001b[0m\u001b[0;34m\u001b[0m\u001b[0;34m\u001b[0m\u001b[0m\n",
      "\u001b[0;32m~/anaconda3/envs/py38/lib/python3.8/site-packages/IPython/core/ultratb.py\u001b[0m in \u001b[0;36mfind_recursion\u001b[0;34m(etype, value, records)\u001b[0m\n\u001b[1;32m    449\u001b[0m     \u001b[0;31m# first frame (from in to out) that looks different.\u001b[0m\u001b[0;34m\u001b[0m\u001b[0;34m\u001b[0m\u001b[0;34m\u001b[0m\u001b[0m\n\u001b[1;32m    450\u001b[0m     \u001b[0;32mif\u001b[0m \u001b[0;32mnot\u001b[0m \u001b[0mis_recursion_error\u001b[0m\u001b[0;34m(\u001b[0m\u001b[0metype\u001b[0m\u001b[0;34m,\u001b[0m \u001b[0mvalue\u001b[0m\u001b[0;34m,\u001b[0m \u001b[0mrecords\u001b[0m\u001b[0;34m)\u001b[0m\u001b[0;34m:\u001b[0m\u001b[0;34m\u001b[0m\u001b[0;34m\u001b[0m\u001b[0m\n\u001b[0;32m--> 451\u001b[0;31m         \u001b[0;32mreturn\u001b[0m \u001b[0mlen\u001b[0m\u001b[0;34m(\u001b[0m\u001b[0mrecords\u001b[0m\u001b[0;34m)\u001b[0m\u001b[0;34m,\u001b[0m \u001b[0;36m0\u001b[0m\u001b[0;34m\u001b[0m\u001b[0;34m\u001b[0m\u001b[0m\n\u001b[0m\u001b[1;32m    452\u001b[0m \u001b[0;34m\u001b[0m\u001b[0m\n\u001b[1;32m    453\u001b[0m     \u001b[0;31m# Select filename, lineno, func_name to track frames with\u001b[0m\u001b[0;34m\u001b[0m\u001b[0;34m\u001b[0m\u001b[0;34m\u001b[0m\u001b[0m\n",
      "\u001b[0;31mTypeError\u001b[0m: object of type 'NoneType' has no len()"
     ]
    }
   ],
   "source": [
    "rt.train(epochs=10000)"
   ]
  },
  {
   "cell_type": "code",
   "execution_count": 9,
   "metadata": {},
   "outputs": [],
   "source": [
    "import numpy as np"
   ]
  },
  {
   "cell_type": "code",
   "execution_count": 40,
   "metadata": {},
   "outputs": [],
   "source": [
    "img = np.random.rand(*(1,64,3,64,64))*255"
   ]
  },
  {
   "cell_type": "code",
   "execution_count": 41,
   "metadata": {},
   "outputs": [],
   "source": [
    "rt.loggers[0].tensorboard_writer.add_video(\"test1000\", img, global_step=100)"
   ]
  },
  {
   "cell_type": "code",
   "execution_count": 12,
   "metadata": {},
   "outputs": [],
   "source": [
    "rt.loggers[0].tensorboard_writer.add_image(\"test\", np.zeros((3,64,64)), 1)"
   ]
  },
  {
   "cell_type": "code",
   "execution_count": 4,
   "metadata": {},
   "outputs": [],
   "source": [
    "from power_cogs.wrappers.tune_wrapper import TuneWrapper"
   ]
  },
  {
   "cell_type": "code",
   "execution_count": 5,
   "metadata": {},
   "outputs": [],
   "source": [
    "wrapper = TuneWrapper(rt)"
   ]
  },
  {
   "cell_type": "code",
   "execution_count": 6,
   "metadata": {},
   "outputs": [
    {
     "name": "stderr",
     "output_type": "stream",
     "text": [
      "2021-09-19 13:03:28,514\tINFO services.py:1267 -- View the Ray dashboard at \u001b[1m\u001b[32mhttp://127.0.0.1:8265\u001b[39m\u001b[22m\n",
      "2021-09-19 13:03:30,445\tWARNING tune.py:494 -- Tune detects GPUs, but no trials are using GPUs. To enable trials to use GPUs, set tune.run(resources_per_trial={'gpu': 1}...) which allows Tune to expose 1 GPU to each trial. You can also override `Trainable.default_resource_request` if using the Trainable API.\n"
     ]
    },
    {
     "data": {
      "text/html": [
       "== Status ==<br>Memory usage on this node: 6.8/7.4 GiB: ***LOW MEMORY*** less than 10% of the memory on this node is available for use. This can cause unexpected crashes. Consider reducing the memory used by your application or reducing the Ray object store size by setting `object_store_memory` when calling `ray.init`.<br>Using FIFO scheduling algorithm.<br>Resources requested: 0/8 CPUs, 0/1 GPUs, 0.0/0.96 GiB heap, 0.0/0.48 GiB objects (0.0/1.0 accelerator_type:T1000)<br>Result logdir: /home/shyam/ray_results/TuneTrainer_2021-09-19_13-03-30<br>Number of trials: 1/1 (1 PENDING)<br><table>\n",
       "<thead>\n",
       "<tr><th>Trial name             </th><th>status  </th><th>loc  </th></tr>\n",
       "</thead>\n",
       "<tbody>\n",
       "<tr><td>TuneTrainer_a905c_00000</td><td>PENDING </td><td>     </td></tr>\n",
       "</tbody>\n",
       "</table><br><br>"
      ],
      "text/plain": [
       "<IPython.core.display.HTML object>"
      ]
     },
     "metadata": {},
     "output_type": "display_data"
    },
    {
     "name": "stderr",
     "output_type": "stream",
     "text": [
      "/home/shyam/anaconda3/envs/py38/lib/python3.8/site-packages/ray/tune/syncer.py:234: DeprecationWarning: ray.services.get_node_ip_address has been moved to ray.util.get_node_ip_address. 'ray.services' will be removed after Ray 1.4.\n",
      "  self.local_ip = services.get_node_ip_address()\n",
      "\u001b[34m\u001b[1mwandb\u001b[0m: Wandb version 0.12.2 is available!  To upgrade, please run:\n",
      "\u001b[34m\u001b[1mwandb\u001b[0m:  $ pip install wandb --upgrade\n",
      "\u001b[2m\u001b[36m(pid=63872)\u001b[0m 2021-09-19 13:03:32.582125: W tensorflow/stream_executor/platform/default/dso_loader.cc:64] Could not load dynamic library 'libcudart.so.11.0'; dlerror: libcudart.so.11.0: cannot open shared object file: No such file or directory\n",
      "\u001b[2m\u001b[36m(pid=63872)\u001b[0m 2021-09-19 13:03:32.582239: I tensorflow/stream_executor/cuda/cudart_stub.cc:29] Ignore above cudart dlerror if you do not have a GPU set up on your machine.\n",
      "\u001b[2m\u001b[36m(pid=63872)\u001b[0m 2021-09-19 13:03:33.939 | INFO     | power_cogs.logging.tensorboard_logger:__init__:23 - Follow tensorboard logs with: tensorboard --logdir /home/shyam/ray_results/TuneTrainer_2021-09-19_13-03-30/TuneTrainer_a905c_00000_0_2021-09-19_13-03-30/checkpoints/2021-09-19-13:03:32_ReinforceTrainer/tensorboard_logs/default\n"
     ]
    },
    {
     "name": "stdout",
     "output_type": "stream",
     "text": [
      "Result for TuneTrainer_a905c_00000:\n",
      "  average_summed_rewards: -194.17291296829214\n",
      "  date: 2021-09-19_13-03-34\n",
      "  done: false\n",
      "  epoch: 0\n",
      "  experiment_id: c27824e56aa94c43901f577b59d2da16\n",
      "  hostname: shyam-ThinkPad-P53\n",
      "  iterations_since_restore: 1\n",
      "  loss: 0.0032904137755394914\n",
      "  max_loss: 0.014742410741746426\n",
      "  max_summed_rewards: -30.358790012378392\n",
      "  net.0.0.bias_grad: 9.580489859217778e-07\n",
      "  net.0.0.weight_grad: -1.698840787867084e-05\n",
      "  net.1.0.bias_grad: 0.00011072505731135607\n",
      "  net.1.0.weight_grad: 8.420216181548312e-05\n",
      "  net.2.0.bias_grad: 0.03497147932648659\n",
      "  net.2.0.weight_grad: 0.0014940256951376796\n",
      "  net.3.bias_grad: 0.0\n",
      "  net.3.weight_grad: 7.676135282963514e-10\n",
      "  node_ip: 192.168.1.248\n",
      "  pid: 63872\n",
      "  sum_loss: 0.06580827551078983\n",
      "  time_since_restore: 0.8693780899047852\n",
      "  time_this_iter_s: 0.8693780899047852\n",
      "  time_total_s: 0.8693780899047852\n",
      "  timestamp: 1632081814\n",
      "  timesteps_since_restore: 0\n",
      "  training_iteration: 1\n",
      "  trial_id: a905c_00000\n",
      "  \n"
     ]
    },
    {
     "data": {
      "text/html": [
       "== Status ==<br>Memory usage on this node: 6.9/7.4 GiB: ***LOW MEMORY*** less than 10% of the memory on this node is available for use. This can cause unexpected crashes. Consider reducing the memory used by your application or reducing the Ray object store size by setting `object_store_memory` when calling `ray.init`.<br>Using FIFO scheduling algorithm.<br>Resources requested: 1.0/8 CPUs, 0/1 GPUs, 0.0/0.96 GiB heap, 0.0/0.48 GiB objects (0.0/1.0 accelerator_type:T1000)<br>Current best trial: a905c_00000 with loss=-0.0007651936811271298 and parameters={'trainer_class': <class 'power_cogs.examples.reinforce.reinforce_trainer.ReinforceTrainer'>, 'trainer_config': {'name': 'ReinforceTrainer', 'visualize': False, 'batch_size': 32, 'epochs': 1000, 'early_stoppage': False, 'logging_config': {'checkpoint_path': 'checkpoints', 'tensorboard_log_path': None, 'checkpoint_interval': 5}, 'stoppage_config': {'batch_size': 32, 'epochs': 1000, 'early_stoppage': False, 'loss_threshold': -inf, 'stop': None, 'callbacks': []}, 'tune_config': {'tune_config': {'metric': 'loss', 'mode': 'min', 'num_samples': 1, 'name': '', 'checkpoint_freq': 100, 'checkpoint_at_end': True, 'callbacks': [], 'additional_config': {}}, 'wandb': {'project': None, 'log_config': False, 'reinit': False, 'wandb_api_key_file': '~/wandb.txt'}, 'mlflow': {'experiment_name': None, 'save_artifact': False}, 'checkpoint_freq': 5}, 'optimizer_config': {'_target_': 'torch.optim.adam.Adam', 'params': '???', 'lr': 0.002, 'betas': [0.9, 0.999], 'eps': 1e-08, 'weight_decay': 0, 'amsgrad': False}, 'scheduler_config': {'_target_': 'torch.optim.lr_scheduler.ExponentialLR', 'optimizer': '???', 'gamma': 0.9999, 'last_epoch': -1}, 'dataloader_config': {'_target_': 'torch.utils.data.dataloader.DataLoader', 'dataset': '???', 'batch_size': 1, 'shuffle': False, 'sampler': None, 'batch_sampler': None, 'num_workers': 0, 'collate_fn': None, 'pin_memory': False, 'drop_last': False, 'timeout': 0, 'worker_init_fn': None, 'multiprocessing_context': None, 'generator': None}, 'cluster_config': {'name': '', 'cluster_config_path': None, 'join_cluster': False, 'cluster_type': <ClusterType.LOCAL: 'LOCAL'>}, 'dataset_config': {'env_name': 'LunarLander-v2', 'max_env_steps': 10000, 'gamma': 0.99, 'discount_rewards': True, 'normalize_rewards': True, 'random_policy': False, 'num_rollouts': 20, 'num_workers': 5}, 'model_config': {'input_dims': 8, 'hidden_dims': [64, 64], 'output_dims': 4, 'output_activation': None, 'use_normal_init': True, 'normal_std': 0.01, 'zero_bias': False}}}<br>Result logdir: /home/shyam/ray_results/TuneTrainer_2021-09-19_13-03-30<br>Number of trials: 1/1 (1 RUNNING)<br><table>\n",
       "<thead>\n",
       "<tr><th>Trial name             </th><th>status  </th><th>loc                </th><th style=\"text-align: right;\">  iter</th><th style=\"text-align: right;\">  total time (s)</th><th style=\"text-align: right;\">  average_summed_rewards</th><th style=\"text-align: right;\">  max_summed_rewards</th><th style=\"text-align: right;\">        loss</th></tr>\n",
       "</thead>\n",
       "<tbody>\n",
       "<tr><td>TuneTrainer_a905c_00000</td><td>RUNNING </td><td>192.168.1.248:63872</td><td style=\"text-align: right;\">     2</td><td style=\"text-align: right;\">         1.60058</td><td style=\"text-align: right;\">                -169.251</td><td style=\"text-align: right;\">             38.6732</td><td style=\"text-align: right;\">-0.000765194</td></tr>\n",
       "</tbody>\n",
       "</table><br><br>"
      ],
      "text/plain": [
       "<IPython.core.display.HTML object>"
      ]
     },
     "metadata": {},
     "output_type": "display_data"
    },
    {
     "name": "stdout",
     "output_type": "stream",
     "text": [
      "Result for TuneTrainer_a905c_00000:\n",
      "  average_summed_rewards: -198.1352224641294\n",
      "  date: 2021-09-19_13-03-39\n",
      "  done: false\n",
      "  epoch: 6\n",
      "  experiment_id: c27824e56aa94c43901f577b59d2da16\n",
      "  hostname: shyam-ThinkPad-P53\n",
      "  iterations_since_restore: 7\n",
      "  loss: -0.010064529912779108\n",
      "  max_loss: 0.0237614456564188\n",
      "  max_summed_rewards: -78.11852207431454\n",
      "  net.0.0.bias_grad: -0.05877898633480072\n",
      "  net.0.0.weight_grad: -0.08561111241579056\n",
      "  net.1.0.bias_grad: -0.041854068636894226\n",
      "  net.1.0.weight_grad: -0.18538224697113037\n",
      "  net.2.0.bias_grad: -0.09931671619415283\n",
      "  net.2.0.weight_grad: -0.1830442100763321\n",
      "  net.3.bias_grad: 1.4901161193847656e-08\n",
      "  net.3.weight_grad: -1.6880221664905548e-09\n",
      "  node_ip: 192.168.1.248\n",
      "  pid: 63872\n",
      "  sum_loss: -0.20129059825558215\n",
      "  time_since_restore: 5.722940683364868\n",
      "  time_this_iter_s: 0.8532285690307617\n",
      "  time_total_s: 5.722940683364868\n",
      "  timestamp: 1632081819\n",
      "  timesteps_since_restore: 0\n",
      "  training_iteration: 7\n",
      "  trial_id: a905c_00000\n",
      "  \n"
     ]
    },
    {
     "data": {
      "text/html": [
       "== Status ==<br>Memory usage on this node: 6.9/7.4 GiB: ***LOW MEMORY*** less than 10% of the memory on this node is available for use. This can cause unexpected crashes. Consider reducing the memory used by your application or reducing the Ray object store size by setting `object_store_memory` when calling `ray.init`.<br>Using FIFO scheduling algorithm.<br>Resources requested: 1.0/8 CPUs, 0/1 GPUs, 0.0/0.96 GiB heap, 0.0/0.48 GiB objects (0.0/1.0 accelerator_type:T1000)<br>Current best trial: a905c_00000 with loss=-0.03374589141458273 and parameters={'trainer_class': <class 'power_cogs.examples.reinforce.reinforce_trainer.ReinforceTrainer'>, 'trainer_config': {'name': 'ReinforceTrainer', 'visualize': False, 'batch_size': 32, 'epochs': 1000, 'early_stoppage': False, 'logging_config': {'checkpoint_path': 'checkpoints', 'tensorboard_log_path': None, 'checkpoint_interval': 5}, 'stoppage_config': {'batch_size': 32, 'epochs': 1000, 'early_stoppage': False, 'loss_threshold': -inf, 'stop': None, 'callbacks': []}, 'tune_config': {'tune_config': {'metric': 'loss', 'mode': 'min', 'num_samples': 1, 'name': '', 'checkpoint_freq': 100, 'checkpoint_at_end': True, 'callbacks': [], 'additional_config': {}}, 'wandb': {'project': None, 'log_config': False, 'reinit': False, 'wandb_api_key_file': '~/wandb.txt'}, 'mlflow': {'experiment_name': None, 'save_artifact': False}, 'checkpoint_freq': 5}, 'optimizer_config': {'_target_': 'torch.optim.adam.Adam', 'params': '???', 'lr': 0.002, 'betas': [0.9, 0.999], 'eps': 1e-08, 'weight_decay': 0, 'amsgrad': False}, 'scheduler_config': {'_target_': 'torch.optim.lr_scheduler.ExponentialLR', 'optimizer': '???', 'gamma': 0.9999, 'last_epoch': -1}, 'dataloader_config': {'_target_': 'torch.utils.data.dataloader.DataLoader', 'dataset': '???', 'batch_size': 1, 'shuffle': False, 'sampler': None, 'batch_sampler': None, 'num_workers': 0, 'collate_fn': None, 'pin_memory': False, 'drop_last': False, 'timeout': 0, 'worker_init_fn': None, 'multiprocessing_context': None, 'generator': None}, 'cluster_config': {'name': '', 'cluster_config_path': None, 'join_cluster': False, 'cluster_type': <ClusterType.LOCAL: 'LOCAL'>}, 'dataset_config': {'env_name': 'LunarLander-v2', 'max_env_steps': 10000, 'gamma': 0.99, 'discount_rewards': True, 'normalize_rewards': True, 'random_policy': False, 'num_rollouts': 20, 'num_workers': 5}, 'model_config': {'input_dims': 8, 'hidden_dims': [64, 64], 'output_dims': 4, 'output_activation': None, 'use_normal_init': True, 'normal_std': 0.01, 'zero_bias': False}}}<br>Result logdir: /home/shyam/ray_results/TuneTrainer_2021-09-19_13-03-30<br>Number of trials: 1/1 (1 RUNNING)<br><table>\n",
       "<thead>\n",
       "<tr><th>Trial name             </th><th>status  </th><th>loc                </th><th style=\"text-align: right;\">  iter</th><th style=\"text-align: right;\">  total time (s)</th><th style=\"text-align: right;\">  average_summed_rewards</th><th style=\"text-align: right;\">  max_summed_rewards</th><th style=\"text-align: right;\">      loss</th></tr>\n",
       "</thead>\n",
       "<tbody>\n",
       "<tr><td>TuneTrainer_a905c_00000</td><td>RUNNING </td><td>192.168.1.248:63872</td><td style=\"text-align: right;\">     8</td><td style=\"text-align: right;\">          6.5175</td><td style=\"text-align: right;\">                 -191.57</td><td style=\"text-align: right;\">            -60.1579</td><td style=\"text-align: right;\">-0.0337459</td></tr>\n",
       "</tbody>\n",
       "</table><br><br>"
      ],
      "text/plain": [
       "<IPython.core.display.HTML object>"
      ]
     },
     "metadata": {},
     "output_type": "display_data"
    },
    {
     "name": "stdout",
     "output_type": "stream",
     "text": [
      "Result for TuneTrainer_a905c_00000:\n",
      "  average_summed_rewards: -98.96000284943563\n",
      "  date: 2021-09-19_13-03-45\n",
      "  done: false\n",
      "  epoch: 11\n",
      "  experiment_id: c27824e56aa94c43901f577b59d2da16\n",
      "  hostname: shyam-ThinkPad-P53\n",
      "  iterations_since_restore: 12\n",
      "  loss: -0.1410571730695665\n",
      "  max_loss: 0.010827893391251564\n",
      "  max_summed_rewards: -42.01701712133318\n",
      "  net.0.0.bias_grad: -0.006908643990755081\n",
      "  net.0.0.weight_grad: -0.4121205806732178\n",
      "  net.1.0.bias_grad: 0.06419992446899414\n",
      "  net.1.0.weight_grad: 0.8296232223510742\n",
      "  net.2.0.bias_grad: 0.039346206933259964\n",
      "  net.2.0.weight_grad: 0.8974865674972534\n",
      "  net.3.bias_grad: -2.9802322387695312e-08\n",
      "  net.3.weight_grad: -5.390029400587082e-08\n",
      "  node_ip: 192.168.1.248\n",
      "  pid: 63872\n",
      "  sum_loss: -2.8211434613913298\n",
      "  time_since_restore: 11.213386058807373\n",
      "  time_this_iter_s: 0.8657937049865723\n",
      "  time_total_s: 11.213386058807373\n",
      "  timestamp: 1632081825\n",
      "  timesteps_since_restore: 0\n",
      "  training_iteration: 12\n",
      "  trial_id: a905c_00000\n",
      "  \n"
     ]
    },
    {
     "data": {
      "text/html": [
       "== Status ==<br>Memory usage on this node: 6.9/7.4 GiB: ***LOW MEMORY*** less than 10% of the memory on this node is available for use. This can cause unexpected crashes. Consider reducing the memory used by your application or reducing the Ray object store size by setting `object_store_memory` when calling `ray.init`.<br>Using FIFO scheduling algorithm.<br>Resources requested: 1.0/8 CPUs, 0/1 GPUs, 0.0/0.96 GiB heap, 0.0/0.48 GiB objects (0.0/1.0 accelerator_type:T1000)<br>Current best trial: a905c_00000 with loss=-0.06581692099571228 and parameters={'trainer_class': <class 'power_cogs.examples.reinforce.reinforce_trainer.ReinforceTrainer'>, 'trainer_config': {'name': 'ReinforceTrainer', 'visualize': False, 'batch_size': 32, 'epochs': 1000, 'early_stoppage': False, 'logging_config': {'checkpoint_path': 'checkpoints', 'tensorboard_log_path': None, 'checkpoint_interval': 5}, 'stoppage_config': {'batch_size': 32, 'epochs': 1000, 'early_stoppage': False, 'loss_threshold': -inf, 'stop': None, 'callbacks': []}, 'tune_config': {'tune_config': {'metric': 'loss', 'mode': 'min', 'num_samples': 1, 'name': '', 'checkpoint_freq': 100, 'checkpoint_at_end': True, 'callbacks': [], 'additional_config': {}}, 'wandb': {'project': None, 'log_config': False, 'reinit': False, 'wandb_api_key_file': '~/wandb.txt'}, 'mlflow': {'experiment_name': None, 'save_artifact': False}, 'checkpoint_freq': 5}, 'optimizer_config': {'_target_': 'torch.optim.adam.Adam', 'params': '???', 'lr': 0.002, 'betas': [0.9, 0.999], 'eps': 1e-08, 'weight_decay': 0, 'amsgrad': False}, 'scheduler_config': {'_target_': 'torch.optim.lr_scheduler.ExponentialLR', 'optimizer': '???', 'gamma': 0.9999, 'last_epoch': -1}, 'dataloader_config': {'_target_': 'torch.utils.data.dataloader.DataLoader', 'dataset': '???', 'batch_size': 1, 'shuffle': False, 'sampler': None, 'batch_sampler': None, 'num_workers': 0, 'collate_fn': None, 'pin_memory': False, 'drop_last': False, 'timeout': 0, 'worker_init_fn': None, 'multiprocessing_context': None, 'generator': None}, 'cluster_config': {'name': '', 'cluster_config_path': None, 'join_cluster': False, 'cluster_type': <ClusterType.LOCAL: 'LOCAL'>}, 'dataset_config': {'env_name': 'LunarLander-v2', 'max_env_steps': 10000, 'gamma': 0.99, 'discount_rewards': True, 'normalize_rewards': True, 'random_policy': False, 'num_rollouts': 20, 'num_workers': 5}, 'model_config': {'input_dims': 8, 'hidden_dims': [64, 64], 'output_dims': 4, 'output_activation': None, 'use_normal_init': True, 'normal_std': 0.01, 'zero_bias': False}}}<br>Result logdir: /home/shyam/ray_results/TuneTrainer_2021-09-19_13-03-30<br>Number of trials: 1/1 (1 RUNNING)<br><table>\n",
       "<thead>\n",
       "<tr><th>Trial name             </th><th>status  </th><th>loc                </th><th style=\"text-align: right;\">  iter</th><th style=\"text-align: right;\">  total time (s)</th><th style=\"text-align: right;\">  average_summed_rewards</th><th style=\"text-align: right;\">  max_summed_rewards</th><th style=\"text-align: right;\">      loss</th></tr>\n",
       "</thead>\n",
       "<tbody>\n",
       "<tr><td>TuneTrainer_a905c_00000</td><td>RUNNING </td><td>192.168.1.248:63872</td><td style=\"text-align: right;\">    13</td><td style=\"text-align: right;\">         12.0815</td><td style=\"text-align: right;\">                -107.441</td><td style=\"text-align: right;\">             48.5915</td><td style=\"text-align: right;\">-0.0658169</td></tr>\n",
       "</tbody>\n",
       "</table><br><br>"
      ],
      "text/plain": [
       "<IPython.core.display.HTML object>"
      ]
     },
     "metadata": {},
     "output_type": "display_data"
    },
    {
     "name": "stderr",
     "output_type": "stream",
     "text": [
      "2021-09-19 13:03:46,698\tWARNING tune.py:506 -- SIGINT received (e.g. via Ctrl+C), ending Ray Tune run. This will try to checkpoint the experiment state one last time. Press CTRL+C one more time (or send SIGINT/SIGKILL/SIGTERM) to skip. \n",
      "Process _WandbLoggingProcess-1:\n",
      "Traceback (most recent call last):\n",
      "  File \"/home/shyam/anaconda3/envs/py38/lib/python3.8/multiprocessing/process.py\", line 315, in _bootstrap\n",
      "    self.run()\n",
      "  File \"/home/shyam/anaconda3/envs/py38/lib/python3.8/site-packages/power_cogs-0.4.1-py3.8.egg/power_cogs/wrappers/tune_wrapper.py\", line 54, in run\n",
      "    result = self.queue.get()\n",
      "  File \"/home/shyam/anaconda3/envs/py38/lib/python3.8/multiprocessing/queues.py\", line 97, in get\n",
      "    res = self._recv_bytes()\n",
      "  File \"/home/shyam/anaconda3/envs/py38/lib/python3.8/multiprocessing/connection.py\", line 216, in recv_bytes\n",
      "    buf = self._recv_bytes(maxlength)\n",
      "  File \"/home/shyam/anaconda3/envs/py38/lib/python3.8/multiprocessing/connection.py\", line 414, in _recv_bytes\n",
      "    buf = self._recv(4)\n",
      "  File \"/home/shyam/anaconda3/envs/py38/lib/python3.8/multiprocessing/connection.py\", line 379, in _recv\n",
      "    chunk = read(handle, remaining)\n",
      "KeyboardInterrupt\n",
      "2021-09-19 13:03:47,588\tWARNING tune.py:506 -- SIGINT received (e.g. via Ctrl+C), ending Ray Tune run. This will try to checkpoint the experiment state one last time. Press CTRL+C one more time (or send SIGINT/SIGKILL/SIGTERM) to skip. \n"
     ]
    },
    {
     "data": {
      "text/html": [
       "== Status ==<br>Memory usage on this node: 6.9/7.4 GiB: ***LOW MEMORY*** less than 10% of the memory on this node is available for use. This can cause unexpected crashes. Consider reducing the memory used by your application or reducing the Ray object store size by setting `object_store_memory` when calling `ray.init`.<br>Using FIFO scheduling algorithm.<br>Resources requested: 1.0/8 CPUs, 0/1 GPUs, 0.0/0.96 GiB heap, 0.0/0.48 GiB objects (0.0/1.0 accelerator_type:T1000)<br>Current best trial: a905c_00000 with loss=-0.032094264301122166 and parameters={'trainer_class': <class 'power_cogs.examples.reinforce.reinforce_trainer.ReinforceTrainer'>, 'trainer_config': {'name': 'ReinforceTrainer', 'visualize': False, 'batch_size': 32, 'epochs': 1000, 'early_stoppage': False, 'logging_config': {'checkpoint_path': 'checkpoints', 'tensorboard_log_path': None, 'checkpoint_interval': 5}, 'stoppage_config': {'batch_size': 32, 'epochs': 1000, 'early_stoppage': False, 'loss_threshold': -inf, 'stop': None, 'callbacks': []}, 'tune_config': {'tune_config': {'metric': 'loss', 'mode': 'min', 'num_samples': 1, 'name': '', 'checkpoint_freq': 100, 'checkpoint_at_end': True, 'callbacks': [], 'additional_config': {}}, 'wandb': {'project': None, 'log_config': False, 'reinit': False, 'wandb_api_key_file': '~/wandb.txt'}, 'mlflow': {'experiment_name': None, 'save_artifact': False}, 'checkpoint_freq': 5}, 'optimizer_config': {'_target_': 'torch.optim.adam.Adam', 'params': '???', 'lr': 0.002, 'betas': [0.9, 0.999], 'eps': 1e-08, 'weight_decay': 0, 'amsgrad': False}, 'scheduler_config': {'_target_': 'torch.optim.lr_scheduler.ExponentialLR', 'optimizer': '???', 'gamma': 0.9999, 'last_epoch': -1}, 'dataloader_config': {'_target_': 'torch.utils.data.dataloader.DataLoader', 'dataset': '???', 'batch_size': 1, 'shuffle': False, 'sampler': None, 'batch_sampler': None, 'num_workers': 0, 'collate_fn': None, 'pin_memory': False, 'drop_last': False, 'timeout': 0, 'worker_init_fn': None, 'multiprocessing_context': None, 'generator': None}, 'cluster_config': {'name': '', 'cluster_config_path': None, 'join_cluster': False, 'cluster_type': <ClusterType.LOCAL: 'LOCAL'>}, 'dataset_config': {'env_name': 'LunarLander-v2', 'max_env_steps': 10000, 'gamma': 0.99, 'discount_rewards': True, 'normalize_rewards': True, 'random_policy': False, 'num_rollouts': 20, 'num_workers': 5}, 'model_config': {'input_dims': 8, 'hidden_dims': [64, 64], 'output_dims': 4, 'output_activation': None, 'use_normal_init': True, 'normal_std': 0.01, 'zero_bias': False}}}<br>Result logdir: /home/shyam/ray_results/TuneTrainer_2021-09-19_13-03-30<br>Number of trials: 1/1 (1 RUNNING)<br><table>\n",
       "<thead>\n",
       "<tr><th>Trial name             </th><th>status  </th><th>loc                </th><th style=\"text-align: right;\">  iter</th><th style=\"text-align: right;\">  total time (s)</th><th style=\"text-align: right;\">  average_summed_rewards</th><th style=\"text-align: right;\">  max_summed_rewards</th><th style=\"text-align: right;\">      loss</th></tr>\n",
       "</thead>\n",
       "<tbody>\n",
       "<tr><td>TuneTrainer_a905c_00000</td><td>RUNNING </td><td>192.168.1.248:63872</td><td style=\"text-align: right;\">    14</td><td style=\"text-align: right;\">         12.9891</td><td style=\"text-align: right;\">                -111.755</td><td style=\"text-align: right;\">            -54.1369</td><td style=\"text-align: right;\">-0.0320943</td></tr>\n",
       "</tbody>\n",
       "</table><br><br>"
      ],
      "text/plain": [
       "<IPython.core.display.HTML object>"
      ]
     },
     "metadata": {},
     "output_type": "display_data"
    },
    {
     "name": "stderr",
     "output_type": "stream",
     "text": [
      "\u001b[2m\u001b[36m(pid=63872)\u001b[0m 2021-09-19 13:03:47,652\tERROR worker.py:382 -- SystemExit was raised from the worker\n",
      "\u001b[2m\u001b[36m(pid=63872)\u001b[0m Traceback (most recent call last):\n",
      "\u001b[2m\u001b[36m(pid=63872)\u001b[0m   File \"python/ray/_raylet.pyx\", line 599, in ray._raylet.task_execution_handler\n",
      "\u001b[2m\u001b[36m(pid=63872)\u001b[0m   File \"python/ray/_raylet.pyx\", line 451, in ray._raylet.execute_task\n",
      "\u001b[2m\u001b[36m(pid=63872)\u001b[0m   File \"python/ray/_raylet.pyx\", line 488, in ray._raylet.execute_task\n",
      "\u001b[2m\u001b[36m(pid=63872)\u001b[0m   File \"python/ray/_raylet.pyx\", line 495, in ray._raylet.execute_task\n",
      "\u001b[2m\u001b[36m(pid=63872)\u001b[0m   File \"python/ray/_raylet.pyx\", line 505, in ray._raylet.execute_task\n",
      "\u001b[2m\u001b[36m(pid=63872)\u001b[0m   File \"python/ray/_raylet.pyx\", line 449, in ray._raylet.execute_task.function_executor\n",
      "\u001b[2m\u001b[36m(pid=63872)\u001b[0m   File \"/home/shyam/anaconda3/envs/py38/lib/python3.8/site-packages/ray/_private/function_manager.py\", line 556, in actor_method_executor\n",
      "\u001b[2m\u001b[36m(pid=63872)\u001b[0m     return method(__ray_actor, *args, **kwargs)\n",
      "\u001b[2m\u001b[36m(pid=63872)\u001b[0m   File \"/home/shyam/anaconda3/envs/py38/lib/python3.8/site-packages/ray/tune/trainable.py\", line 173, in train_buffered\n",
      "\u001b[2m\u001b[36m(pid=63872)\u001b[0m     result = self.train()\n",
      "\u001b[2m\u001b[36m(pid=63872)\u001b[0m   File \"/home/shyam/anaconda3/envs/py38/lib/python3.8/site-packages/ray/tune/trainable.py\", line 232, in train\n",
      "\u001b[2m\u001b[36m(pid=63872)\u001b[0m     result = self.step()\n",
      "\u001b[2m\u001b[36m(pid=63872)\u001b[0m   File \"/home/shyam/anaconda3/envs/py38/lib/python3.8/site-packages/power_cogs-0.4.1-py3.8.egg/power_cogs/wrappers/tune_wrapper.py\", line 154, in step\n",
      "\u001b[2m\u001b[36m(pid=63872)\u001b[0m     out = self.trainer.train_iter(\n",
      "\u001b[2m\u001b[36m(pid=63872)\u001b[0m   File \"/home/shyam/anaconda3/envs/py38/lib/python3.8/site-packages/power_cogs-0.4.1-py3.8.egg/power_cogs/examples/reinforce/reinforce_trainer.py\", line 55, in train_iter\n",
      "\u001b[2m\u001b[36m(pid=63872)\u001b[0m     rollouts = self.dataset.get_rollouts(self.cluster, self.model)\n",
      "\u001b[2m\u001b[36m(pid=63872)\u001b[0m   File \"/home/shyam/anaconda3/envs/py38/lib/python3.8/site-packages/power_cogs-0.4.1-py3.8.egg/power_cogs/examples/reinforce/rollout_dataset.py\", line 71, in get_rollouts\n",
      "\u001b[2m\u001b[36m(pid=63872)\u001b[0m     return cluster.execute_list(rollout_workers, rollout_args)\n",
      "\u001b[2m\u001b[36m(pid=63872)\u001b[0m   File \"/home/shyam/anaconda3/envs/py38/lib/python3.8/site-packages/power_cogs-0.4.1-py3.8.egg/power_cogs/cluster/cluster.py\", line 70, in execute_list\n",
      "\u001b[2m\u001b[36m(pid=63872)\u001b[0m     out.append(self.execute(execution, **arg))\n",
      "\u001b[2m\u001b[36m(pid=63872)\u001b[0m   File \"/home/shyam/anaconda3/envs/py38/lib/python3.8/site-packages/power_cogs-0.4.1-py3.8.egg/power_cogs/cluster/local_cluster.py\", line 20, in execute\n",
      "\u001b[2m\u001b[36m(pid=63872)\u001b[0m     return [execution.execute(*args, **kwargs)]\n",
      "\u001b[2m\u001b[36m(pid=63872)\u001b[0m   File \"/home/shyam/anaconda3/envs/py38/lib/python3.8/site-packages/power_cogs-0.4.1-py3.8.egg/power_cogs/cluster/execution/rollout_execution.py\", line 143, in execute\n",
      "\u001b[2m\u001b[36m(pid=63872)\u001b[0m     return self.rollout(*args, **kwargs)\n",
      "\u001b[2m\u001b[36m(pid=63872)\u001b[0m   File \"/home/shyam/anaconda3/envs/py38/lib/python3.8/site-packages/power_cogs-0.4.1-py3.8.egg/power_cogs/cluster/execution/rollout_execution.py\", line 96, in rollout\n",
      "\u001b[2m\u001b[36m(pid=63872)\u001b[0m     action = dist.sample().item()\n",
      "\u001b[2m\u001b[36m(pid=63872)\u001b[0m   File \"/home/shyam/anaconda3/envs/py38/lib/python3.8/site-packages/torch/distributions/categorical.py\", line 106, in sample\n",
      "\u001b[2m\u001b[36m(pid=63872)\u001b[0m     probs_2d = self.probs.reshape(-1, self._num_events)\n",
      "\u001b[2m\u001b[36m(pid=63872)\u001b[0m   File \"/home/shyam/anaconda3/envs/py38/lib/python3.8/site-packages/torch/distributions/utils.py\", line 103, in __get__\n",
      "\u001b[2m\u001b[36m(pid=63872)\u001b[0m     value = self.wrapped(instance)\n",
      "\u001b[2m\u001b[36m(pid=63872)\u001b[0m   File \"/home/shyam/anaconda3/envs/py38/lib/python3.8/site-packages/torch/distributions/categorical.py\", line 89, in probs\n",
      "\u001b[2m\u001b[36m(pid=63872)\u001b[0m     return logits_to_probs(self.logits)\n",
      "\u001b[2m\u001b[36m(pid=63872)\u001b[0m   File \"/home/shyam/anaconda3/envs/py38/lib/python3.8/site-packages/torch/distributions/utils.py\", line 67, in logits_to_probs\n",
      "\u001b[2m\u001b[36m(pid=63872)\u001b[0m     return F.softmax(logits, dim=-1)\n",
      "\u001b[2m\u001b[36m(pid=63872)\u001b[0m   File \"/home/shyam/anaconda3/envs/py38/lib/python3.8/site-packages/torch/nn/functional.py\", line 1505, in softmax\n",
      "\u001b[2m\u001b[36m(pid=63872)\u001b[0m     if not torch.jit.is_scripting():\n",
      "\u001b[2m\u001b[36m(pid=63872)\u001b[0m   File \"/home/shyam/anaconda3/envs/py38/lib/python3.8/site-packages/ray/worker.py\", line 379, in sigterm_handler\n",
      "\u001b[2m\u001b[36m(pid=63872)\u001b[0m     sys.exit(1)\n",
      "\u001b[2m\u001b[36m(pid=63872)\u001b[0m SystemExit: 1\n"
     ]
    },
    {
     "ename": "KeyboardInterrupt",
     "evalue": "",
     "output_type": "error",
     "traceback": [
      "\u001b[0;31m---------------------------------------------------------------------------\u001b[0m",
      "\u001b[0;31mKeyboardInterrupt\u001b[0m                         Traceback (most recent call last)",
      "\u001b[0;32m<ipython-input-6-abc03024d3b1>\u001b[0m in \u001b[0;36m<module>\u001b[0;34m\u001b[0m\n\u001b[0;32m----> 1\u001b[0;31m \u001b[0mwrapper\u001b[0m\u001b[0;34m.\u001b[0m\u001b[0mtune\u001b[0m\u001b[0;34m(\u001b[0m\u001b[0;34m)\u001b[0m\u001b[0;34m\u001b[0m\u001b[0;34m\u001b[0m\u001b[0m\n\u001b[0m",
      "\u001b[0;32m~/anaconda3/envs/py38/lib/python3.8/site-packages/power_cogs-0.4.1-py3.8.egg/power_cogs/wrappers/tune_wrapper.py\u001b[0m in \u001b[0;36mtune\u001b[0;34m(self)\u001b[0m\n\u001b[1;32m    220\u001b[0m         \u001b[0;32mif\u001b[0m \u001b[0;34m\"stop\"\u001b[0m \u001b[0;32mnot\u001b[0m \u001b[0;32min\u001b[0m \u001b[0mstoppage_config\u001b[0m\u001b[0;34m:\u001b[0m\u001b[0;34m\u001b[0m\u001b[0;34m\u001b[0m\u001b[0m\n\u001b[1;32m    221\u001b[0m             \u001b[0mtune_config\u001b[0m\u001b[0;34m[\u001b[0m\u001b[0;34m\"stop\"\u001b[0m\u001b[0;34m]\u001b[0m \u001b[0;34m=\u001b[0m \u001b[0mcreate_stopper\u001b[0m\u001b[0;34m(\u001b[0m\u001b[0mstoppage_config\u001b[0m\u001b[0;34m)\u001b[0m\u001b[0;34m\u001b[0m\u001b[0;34m\u001b[0m\u001b[0m\n\u001b[0;32m--> 222\u001b[0;31m         return tune.run(\n\u001b[0m\u001b[1;32m    223\u001b[0m             \u001b[0mTuneTrainer\u001b[0m\u001b[0;34m,\u001b[0m\u001b[0;34m\u001b[0m\u001b[0;34m\u001b[0m\u001b[0m\n\u001b[1;32m    224\u001b[0m             config={\n",
      "\u001b[0;32m~/anaconda3/envs/py38/lib/python3.8/site-packages/ray/tune/tune.py\u001b[0m in \u001b[0;36mrun\u001b[0;34m(run_or_experiment, name, metric, mode, stop, time_budget_s, config, resources_per_trial, num_samples, local_dir, search_alg, scheduler, keep_checkpoints_num, checkpoint_score_attr, checkpoint_freq, checkpoint_at_end, verbose, progress_reporter, log_to_file, trial_name_creator, trial_dirname_creator, sync_config, export_formats, max_failures, fail_fast, restore, server_port, resume, queue_trials, reuse_actors, trial_executor, raise_on_failed_trial, callbacks, loggers, ray_auto_init, run_errored_only, global_checkpoint_period, with_server, upload_dir, sync_to_cloud, sync_to_driver, sync_on_checkpoint, _remote)\u001b[0m\n\u001b[1;32m    532\u001b[0m \u001b[0;34m\u001b[0m\u001b[0m\n\u001b[1;32m    533\u001b[0m     \u001b[0mwait_for_sync\u001b[0m\u001b[0;34m(\u001b[0m\u001b[0;34m)\u001b[0m\u001b[0;34m\u001b[0m\u001b[0;34m\u001b[0m\u001b[0m\n\u001b[0;32m--> 534\u001b[0;31m     \u001b[0mrunner\u001b[0m\u001b[0;34m.\u001b[0m\u001b[0mcleanup_trials\u001b[0m\u001b[0;34m(\u001b[0m\u001b[0;34m)\u001b[0m\u001b[0;34m\u001b[0m\u001b[0;34m\u001b[0m\u001b[0m\n\u001b[0m\u001b[1;32m    535\u001b[0m \u001b[0;34m\u001b[0m\u001b[0m\n\u001b[1;32m    536\u001b[0m     \u001b[0mincomplete_trials\u001b[0m \u001b[0;34m=\u001b[0m \u001b[0;34m[\u001b[0m\u001b[0;34m]\u001b[0m\u001b[0;34m\u001b[0m\u001b[0;34m\u001b[0m\u001b[0m\n",
      "\u001b[0;32m~/anaconda3/envs/py38/lib/python3.8/site-packages/ray/tune/trial_runner.py\u001b[0m in \u001b[0;36mcleanup_trials\u001b[0;34m(self)\u001b[0m\n\u001b[1;32m   1145\u001b[0m \u001b[0;34m\u001b[0m\u001b[0m\n\u001b[1;32m   1146\u001b[0m     \u001b[0;32mdef\u001b[0m \u001b[0mcleanup_trials\u001b[0m\u001b[0;34m(\u001b[0m\u001b[0mself\u001b[0m\u001b[0;34m)\u001b[0m\u001b[0;34m:\u001b[0m\u001b[0;34m\u001b[0m\u001b[0;34m\u001b[0m\u001b[0m\n\u001b[0;32m-> 1147\u001b[0;31m         \u001b[0mself\u001b[0m\u001b[0;34m.\u001b[0m\u001b[0mtrial_executor\u001b[0m\u001b[0;34m.\u001b[0m\u001b[0mcleanup\u001b[0m\u001b[0;34m(\u001b[0m\u001b[0mself\u001b[0m\u001b[0;34m)\u001b[0m\u001b[0;34m\u001b[0m\u001b[0;34m\u001b[0m\u001b[0m\n\u001b[0m\u001b[1;32m   1148\u001b[0m \u001b[0;34m\u001b[0m\u001b[0m\n\u001b[1;32m   1149\u001b[0m     \u001b[0;32mdef\u001b[0m \u001b[0m__getstate__\u001b[0m\u001b[0;34m(\u001b[0m\u001b[0mself\u001b[0m\u001b[0;34m)\u001b[0m\u001b[0;34m:\u001b[0m\u001b[0;34m\u001b[0m\u001b[0;34m\u001b[0m\u001b[0m\n",
      "\u001b[0;32m~/anaconda3/envs/py38/lib/python3.8/site-packages/ray/tune/ray_trial_executor.py\u001b[0m in \u001b[0;36mcleanup\u001b[0;34m(self, trial_runner)\u001b[0m\n\u001b[1;32m   1010\u001b[0m         \u001b[0mself\u001b[0m\u001b[0;34m.\u001b[0m\u001b[0m_pg_manager\u001b[0m\u001b[0;34m.\u001b[0m\u001b[0mreconcile_placement_groups\u001b[0m\u001b[0;34m(\u001b[0m\u001b[0mtrial_runner\u001b[0m\u001b[0;34m.\u001b[0m\u001b[0mget_trials\u001b[0m\u001b[0;34m(\u001b[0m\u001b[0;34m)\u001b[0m\u001b[0;34m)\u001b[0m\u001b[0;34m\u001b[0m\u001b[0;34m\u001b[0m\u001b[0m\n\u001b[1;32m   1011\u001b[0m         \u001b[0mself\u001b[0m\u001b[0;34m.\u001b[0m\u001b[0m_pg_manager\u001b[0m\u001b[0;34m.\u001b[0m\u001b[0mcleanup\u001b[0m\u001b[0;34m(\u001b[0m\u001b[0mforce\u001b[0m\u001b[0;34m=\u001b[0m\u001b[0;32mTrue\u001b[0m\u001b[0;34m)\u001b[0m\u001b[0;34m\u001b[0m\u001b[0;34m\u001b[0m\u001b[0m\n\u001b[0;32m-> 1012\u001b[0;31m         \u001b[0mself\u001b[0m\u001b[0;34m.\u001b[0m\u001b[0m_pg_manager\u001b[0m\u001b[0;34m.\u001b[0m\u001b[0mcleanup_existing_pg\u001b[0m\u001b[0;34m(\u001b[0m\u001b[0mblock\u001b[0m\u001b[0;34m=\u001b[0m\u001b[0;32mTrue\u001b[0m\u001b[0;34m)\u001b[0m\u001b[0;34m\u001b[0m\u001b[0;34m\u001b[0m\u001b[0m\n\u001b[0m\u001b[1;32m   1013\u001b[0m \u001b[0;34m\u001b[0m\u001b[0m\n\u001b[1;32m   1014\u001b[0m     \u001b[0;34m@\u001b[0m\u001b[0mcontextmanager\u001b[0m\u001b[0;34m\u001b[0m\u001b[0;34m\u001b[0m\u001b[0m\n",
      "\u001b[0;32m~/anaconda3/envs/py38/lib/python3.8/site-packages/ray/tune/utils/placement_groups.py\u001b[0m in \u001b[0;36mcleanup_existing_pg\u001b[0;34m(self, block)\u001b[0m\n\u001b[1;32m    315\u001b[0m                     \u001b[0mpg\u001b[0m \u001b[0;34m=\u001b[0m \u001b[0mget_placement_group\u001b[0m\u001b[0;34m(\u001b[0m\u001b[0minfo\u001b[0m\u001b[0;34m[\u001b[0m\u001b[0;34m\"name\"\u001b[0m\u001b[0;34m]\u001b[0m\u001b[0;34m)\u001b[0m\u001b[0;34m\u001b[0m\u001b[0;34m\u001b[0m\u001b[0m\n\u001b[1;32m    316\u001b[0m                     \u001b[0mremove_placement_group\u001b[0m\u001b[0;34m(\u001b[0m\u001b[0mpg\u001b[0m\u001b[0;34m)\u001b[0m\u001b[0;34m\u001b[0m\u001b[0;34m\u001b[0m\u001b[0m\n\u001b[0;32m--> 317\u001b[0;31m                 \u001b[0mtime\u001b[0m\u001b[0;34m.\u001b[0m\u001b[0msleep\u001b[0m\u001b[0;34m(\u001b[0m\u001b[0;36m0.1\u001b[0m\u001b[0;34m)\u001b[0m\u001b[0;34m\u001b[0m\u001b[0;34m\u001b[0m\u001b[0m\n\u001b[0m\u001b[1;32m    318\u001b[0m \u001b[0;34m\u001b[0m\u001b[0m\n\u001b[1;32m    319\u001b[0m     \u001b[0;32mdef\u001b[0m \u001b[0mstage_trial_pg\u001b[0m\u001b[0;34m(\u001b[0m\u001b[0mself\u001b[0m\u001b[0;34m,\u001b[0m \u001b[0mtrial\u001b[0m\u001b[0;34m:\u001b[0m \u001b[0;34m\"Trial\"\u001b[0m\u001b[0;34m)\u001b[0m\u001b[0;34m:\u001b[0m\u001b[0;34m\u001b[0m\u001b[0;34m\u001b[0m\u001b[0m\n",
      "\u001b[0;31mKeyboardInterrupt\u001b[0m: "
     ]
    }
   ],
   "source": [
    "wrapper.tune()"
   ]
  }
 ],
 "metadata": {
  "kernelspec": {
   "display_name": "Python [conda env:py38] *",
   "language": "python",
   "name": "conda-env-py38-py"
  },
  "language_info": {
   "codemirror_mode": {
    "name": "ipython",
    "version": 3
   },
   "file_extension": ".py",
   "mimetype": "text/x-python",
   "name": "python",
   "nbconvert_exporter": "python",
   "pygments_lexer": "ipython3",
   "version": "3.8.3"
  }
 },
 "nbformat": 4,
 "nbformat_minor": 4
}
