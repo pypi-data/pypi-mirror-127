{
 "cells": [
  {
   "cell_type": "markdown",
   "id": "16f84a63",
   "metadata": {},
   "source": [
    "Deconvolution Microscopy (Single Channel)\n",
    "=========================================\n",
    "\n",
    "This example partially replicates a [GlobalBioIm\n",
    "example](https://biomedical-imaging-group.github.io/GlobalBioIm/examples.html)\n",
    "using the [microscopy data](http://bigwww.epfl.ch/deconvolution/bio/)\n",
    "provided by the EPFL Biomedical Imaging Group.\n",
    "\n",
    "The deconvolution problem is solved using class\n",
    "[admm.ADMM](../_autosummary/scico.admm.rst#scico.admm.ADMM) to solve\n",
    "an image deconvolution problem with isotropic total variation (TV)\n",
    "regularization\n",
    "\n",
    "  $$\\mathrm{argmin}_{\\mathbf{x}} \\; \\| M (\\mathbf{y} - A \\mathbf{x})\n",
    "  \\|_2^2 + \\lambda \\| C \\mathbf{x} \\|_{2,1} +\n",
    "  \\iota_{\\mathrm{NN}}(\\mathbf{x}) \\;,$$\n",
    "\n",
    "where $M$ is a mask operator, $A$ is circular convolution,\n",
    "$\\mathbf{y}$ is the blurred image, $C$ is a convolutional gradient\n",
    "operator, $\\iota_{mathrm{NN}}$ is the indicator function of the\n",
    "non-negativity constraint, and $\\mathbf{x}$ is the desired image."
   ]
  },
  {
   "cell_type": "code",
   "execution_count": 1,
   "id": "0e619293",
   "metadata": {
    "execution": {
     "iopub.execute_input": "2021-11-02T22:01:12.645369Z",
     "iopub.status.busy": "2021-11-02T22:01:12.644695Z",
     "iopub.status.idle": "2021-11-02T22:01:13.468115Z",
     "shell.execute_reply": "2021-11-02T22:01:13.467711Z"
    }
   },
   "outputs": [],
   "source": [
    "import glob\n",
    "import os\n",
    "import tempfile\n",
    "import zipfile\n",
    "\n",
    "import numpy as np\n",
    "\n",
    "import imageio\n",
    "\n",
    "import scico.numpy as snp\n",
    "from scico import functional, linop, loss, plot, util\n",
    "from scico.admm import ADMM, CircularConvolveSolver\n",
    "plot.config_notebook_plotting()"
   ]
  },
  {
   "cell_type": "markdown",
   "id": "1a08eeab",
   "metadata": {},
   "source": [
    "Define helper functions."
   ]
  },
  {
   "cell_type": "code",
   "execution_count": 2,
   "id": "77597dfb",
   "metadata": {
    "execution": {
     "iopub.execute_input": "2021-11-02T22:01:13.475412Z",
     "iopub.status.busy": "2021-11-02T22:01:13.475078Z",
     "iopub.status.idle": "2021-11-02T22:01:13.478005Z",
     "shell.execute_reply": "2021-11-02T22:01:13.477678Z"
    }
   },
   "outputs": [],
   "source": [
    "def volume_read(path, ext=\"tif\"):\n",
    "    \"\"\"Read a 3D volume from a set of files in the specified directory.\"\"\"\n",
    "\n",
    "    slices = []\n",
    "    for file in sorted(glob.glob(os.path.join(path, \"*.\" + ext))):\n",
    "        image = imageio.imread(file)\n",
    "        slices.append(image)\n",
    "    return np.dstack(slices)\n",
    "\n",
    "\n",
    "def get_deconv_data(channel, cache_path=None):\n",
    "    \"\"\"Get deconvolution problem data from EPFL Biomedical Imaging Group.\"\"\"\n",
    "\n",
    "    # data source URL and filenames\n",
    "    data_base_url = \"http://bigwww.epfl.ch/deconvolution/bio/\"\n",
    "    data_zip_files = [\"CElegans-CY3.zip\", \"CElegans-DAPI.zip\", \"CElegans-FITC.zip\"]\n",
    "    psf_zip_files = [\"PSF-\" + data for data in data_zip_files]\n",
    "    # set default cache path if not specified\n",
    "    if cache_path is None:\n",
    "        cache_path = os.path.join(os.path.expanduser(\"~\"), \".cache\", \"scico\", \"epfl_big\")\n",
    "\n",
    "    # if cache path exists, data is assumed to aleady be downloaded\n",
    "    if not os.path.isdir(cache_path):\n",
    "        os.makedirs(cache_path)\n",
    "        # temporary directory for downloads\n",
    "        temp_dir = tempfile.TemporaryDirectory()\n",
    "        # download data and psf files for selected channel into temporary directory\n",
    "        for zip_file in (data_zip_files[channel], psf_zip_files[channel]):\n",
    "            data = util.url_get(data_base_url + zip_file)\n",
    "            f = open(os.path.join(temp_dir.name, zip_file), \"wb\")\n",
    "            f.write(data.read())\n",
    "            f.close()\n",
    "        # unzip downloaded data into cache path\n",
    "        for zip_file in (data_zip_files[channel], psf_zip_files[channel]):\n",
    "            with zipfile.ZipFile(os.path.join(temp_dir.name, zip_file), \"r\") as zip_ref:\n",
    "                zip_ref.extractall(cache_path)\n",
    "\n",
    "    # read unzipped data files into 3D arrays\n",
    "    zip_file = data_zip_files[channel]\n",
    "    y = volume_read(os.path.join(cache_path, zip_file[:-4])).astype(np.float32)\n",
    "    zip_file = psf_zip_files[channel]\n",
    "    psf = volume_read(os.path.join(cache_path, zip_file[:-4])).astype(np.float32)\n",
    "    return y, psf\n",
    "\n",
    "\n",
    "def block_avg(im, N):\n",
    "    \"\"\"Average distinct NxNxN blocks of im, return the resulting smaller image.\"\"\"\n",
    "\n",
    "    im = snp.mean(snp.reshape(im, (-1, N, im.shape[1], im.shape[2])), axis=1)\n",
    "    im = snp.mean(snp.reshape(im, (im.shape[0], -1, N, im.shape[2])), axis=2)\n",
    "    im = snp.mean(snp.reshape(im, (im.shape[0], im.shape[1], -1, N)), axis=3)\n",
    "\n",
    "    return im"
   ]
  },
  {
   "cell_type": "markdown",
   "id": "edb87c1c",
   "metadata": {},
   "source": [
    "Get and preprocess data. We downsample by a factor of 4 for purposes of\n",
    "the example. Reducing the downsampling rate will be slower and more\n",
    "memory-intensive. If your GPU does not have enough memory, you can try\n",
    "setting the environment variable `JAX_PLATFORM_NAME=cpu` to run on CPU."
   ]
  },
  {
   "cell_type": "code",
   "execution_count": 3,
   "id": "3d82baa2",
   "metadata": {
    "execution": {
     "iopub.execute_input": "2021-11-02T22:01:13.481162Z",
     "iopub.status.busy": "2021-11-02T22:01:13.480833Z",
     "iopub.status.idle": "2021-11-02T22:01:14.675285Z",
     "shell.execute_reply": "2021-11-02T22:01:14.675533Z"
    }
   },
   "outputs": [],
   "source": [
    "channel = 0\n",
    "downsampling_rate = 8\n",
    "\n",
    "y, psf = get_deconv_data(channel)\n",
    "y = block_avg(y, downsampling_rate)\n",
    "psf = block_avg(psf, downsampling_rate)\n",
    "\n",
    "y -= y.min()\n",
    "y /= y.max()\n",
    "\n",
    "psf /= psf.sum()"
   ]
  },
  {
   "cell_type": "markdown",
   "id": "c81e0b79",
   "metadata": {},
   "source": [
    "Pad data and create mask."
   ]
  },
  {
   "cell_type": "code",
   "execution_count": 4,
   "id": "1e0c87be",
   "metadata": {
    "execution": {
     "iopub.execute_input": "2021-11-02T22:01:14.679918Z",
     "iopub.status.busy": "2021-11-02T22:01:14.679281Z",
     "iopub.status.idle": "2021-11-02T22:01:14.787868Z",
     "shell.execute_reply": "2021-11-02T22:01:14.787528Z"
    }
   },
   "outputs": [],
   "source": [
    "padding = [[0, p] for p in snp.array(psf.shape) - 1]\n",
    "y_pad = snp.pad(y, padding)\n",
    "mask = snp.pad(snp.ones_like(y), padding)"
   ]
  },
  {
   "cell_type": "markdown",
   "id": "10a5d0de",
   "metadata": {},
   "source": [
    "Define problem and algorithm parameters."
   ]
  },
  {
   "cell_type": "code",
   "execution_count": 5,
   "id": "e1a222b5",
   "metadata": {
    "execution": {
     "iopub.execute_input": "2021-11-02T22:01:14.791087Z",
     "iopub.status.busy": "2021-11-02T22:01:14.790719Z",
     "iopub.status.idle": "2021-11-02T22:01:14.793208Z",
     "shell.execute_reply": "2021-11-02T22:01:14.792734Z"
    }
   },
   "outputs": [],
   "source": [
    "λ = 2e-6  # ℓ1 norm regularization parameter\n",
    "ρ0 = 1e-3  # ADMM penalty parameter for first auxiliary variable\n",
    "ρ1 = 1e-3  # ADMM penalty parameter for second auxiliary variable\n",
    "ρ2 = 1e-3  # ADMM penalty parameter for third auxiliary variable\n",
    "maxiter = 100  # number of ADMM iterations"
   ]
  },
  {
   "cell_type": "markdown",
   "id": "7ac13c4e",
   "metadata": {},
   "source": [
    "Create operators."
   ]
  },
  {
   "cell_type": "code",
   "execution_count": 6,
   "id": "9f2ad7c7",
   "metadata": {
    "execution": {
     "iopub.execute_input": "2021-11-02T22:01:14.798691Z",
     "iopub.status.busy": "2021-11-02T22:01:14.798190Z",
     "iopub.status.idle": "2021-11-02T22:01:15.336082Z",
     "shell.execute_reply": "2021-11-02T22:01:15.335690Z"
    }
   },
   "outputs": [],
   "source": [
    "M = linop.Diagonal(mask)\n",
    "C0 = linop.CircularConvolve(h=psf, input_shape=mask.shape, h_center=snp.array(psf.shape) / 2 - 0.5)\n",
    "C1 = linop.FiniteDifference(input_shape=mask.shape, circular=True)\n",
    "C2 = linop.Identity(mask.shape)"
   ]
  },
  {
   "cell_type": "markdown",
   "id": "d10d10b5",
   "metadata": {},
   "source": [
    "Create functionals."
   ]
  },
  {
   "cell_type": "code",
   "execution_count": 7,
   "id": "75682b0a",
   "metadata": {
    "execution": {
     "iopub.execute_input": "2021-11-02T22:01:15.339537Z",
     "iopub.status.busy": "2021-11-02T22:01:15.339163Z",
     "iopub.status.idle": "2021-11-02T22:01:15.341781Z",
     "shell.execute_reply": "2021-11-02T22:01:15.341153Z"
    }
   },
   "outputs": [],
   "source": [
    "g0 = loss.SquaredL2Loss(y=y_pad, A=M)  # loss function (forward model)\n",
    "g1 = λ * functional.L21Norm()  # TV penalty (when applied to gradient)\n",
    "g2 = functional.NonNegativeIndicator()  # non-negativity constraint"
   ]
  },
  {
   "cell_type": "markdown",
   "id": "25528556",
   "metadata": {},
   "source": [
    "Set up ADMM solver object and solve problem."
   ]
  },
  {
   "cell_type": "code",
   "execution_count": 8,
   "id": "f5fafa07",
   "metadata": {
    "execution": {
     "iopub.execute_input": "2021-11-02T22:01:15.346569Z",
     "iopub.status.busy": "2021-11-02T22:01:15.346198Z",
     "iopub.status.idle": "2021-11-02T22:01:46.699542Z",
     "shell.execute_reply": "2021-11-02T22:01:46.699155Z"
    }
   },
   "outputs": [
    {
     "name": "stdout",
     "output_type": "stream",
     "text": [
      "Solving on CPU\n",
      "\n",
      "Iter  Time      Objective  Primal Rsdl  Dual Rsdl\n",
      "-------------------------------------------------\n",
      "   0  1.28e+00  1.895e-02    4.332e+01  3.042e+01\n",
      "   1  1.81e+00  2.364e-02    2.301e+01  3.533e+01\n",
      "   2  2.10e+00  2.764e-02    2.063e+01  2.925e+01\n",
      "   3  2.38e+00  3.041e-02    2.536e+01  1.833e+01\n",
      "   4  2.67e+00  3.281e-02    2.367e+01  1.433e+01\n",
      "   5  2.96e+00  3.527e-02    1.728e+01  1.751e+01\n",
      "   6  3.24e+00  3.785e-02    1.163e+01  1.898e+01\n",
      "   7  3.53e+00  4.035e-02    9.702e+00  1.808e+01\n",
      "   8  3.81e+00  4.291e-02    9.614e+00  1.667e+01\n",
      "   9  4.10e+00  4.544e-02    8.818e+00  1.603e+01\n",
      "  10  4.38e+00  4.773e-02    7.726e+00  1.580e+01\n",
      "  11  4.66e+00  4.965e-02    7.889e+00  1.518e+01\n",
      "  12  4.95e+00  5.117e-02    9.299e+00  1.399e+01\n",
      "  13  5.23e+00  5.230e-02    1.086e+01  1.254e+01\n",
      "  14  5.52e+00  5.305e-02    1.208e+01  1.114e+01\n",
      "  15  5.80e+00  5.347e-02    1.294e+01  9.882e+00\n",
      "  16  6.09e+00  5.360e-02    1.351e+01  8.771e+00\n",
      "  17  6.37e+00  5.351e-02    1.380e+01  7.908e+00\n",
      "  18  6.66e+00  5.325e-02    1.378e+01  7.405e+00\n",
      "  19  6.93e+00  5.288e-02    1.349e+01  7.315e+00\n",
      "  20  7.22e+00  5.245e-02    1.296e+01  7.559e+00\n",
      "  21  7.51e+00  5.199e-02    1.224e+01  8.034e+00\n",
      "  22  7.79e+00  5.148e-02    1.134e+01  8.667e+00\n",
      "  23  8.09e+00  5.093e-02    1.029e+01  9.368e+00\n",
      "  24  8.37e+00  5.041e-02    9.137e+00  1.003e+01\n",
      "  25  8.65e+00  4.997e-02    7.954e+00  1.057e+01\n",
      "  26  8.94e+00  4.972e-02    6.844e+00  1.091e+01\n",
      "  27  9.22e+00  4.969e-02    5.926e+00  1.106e+01\n",
      "  28  9.50e+00  4.988e-02    5.335e+00  1.103e+01\n",
      "  29  9.78e+00  5.026e-02    5.181e+00  1.083e+01\n",
      "  30  1.01e+01  5.079e-02    5.455e+00  1.046e+01\n",
      "  31  1.04e+01  5.144e-02    6.029e+00  9.934e+00\n",
      "  32  1.06e+01  5.217e-02    6.769e+00  9.241e+00\n",
      "  33  1.09e+01  5.291e-02    7.561e+00  8.408e+00\n",
      "  34  1.12e+01  5.361e-02    8.153e+00  7.619e+00\n",
      "  35  1.15e+01  5.428e-02    8.529e+00  6.902e+00\n",
      "  36  1.18e+01  5.494e-02    8.789e+00  6.205e+00\n",
      "  37  1.21e+01  5.562e-02    8.934e+00  5.610e+00\n",
      "  38  1.23e+01  5.631e-02    8.947e+00  5.215e+00\n",
      "  39  1.26e+01  5.700e-02    8.838e+00  5.049e+00\n",
      "  40  1.29e+01  5.771e-02    8.616e+00  5.087e+00\n",
      "  41  1.32e+01  5.842e-02    8.274e+00  5.311e+00\n",
      "  42  1.35e+01  5.912e-02    7.803e+00  5.675e+00\n",
      "  43  1.38e+01  5.978e-02    7.213e+00  6.113e+00\n",
      "  44  1.40e+01  6.040e-02    6.525e+00  6.576e+00\n",
      "  45  1.43e+01  6.097e-02    5.779e+00  7.009e+00\n",
      "  46  1.46e+01  6.150e-02    5.033e+00  7.363e+00\n",
      "  47  1.49e+01  6.200e-02    4.365e+00  7.609e+00\n",
      "  48  1.52e+01  6.246e-02    3.872e+00  7.732e+00\n",
      "  49  1.55e+01  6.290e-02    3.655e+00  7.723e+00\n",
      "  50  1.57e+01  6.331e-02    3.746e+00  7.586e+00\n",
      "  51  1.60e+01  6.371e-02    4.089e+00  7.329e+00\n",
      "  52  1.63e+01  6.409e-02    4.576e+00  6.966e+00\n",
      "  53  1.66e+01  6.446e-02    5.111e+00  6.519e+00\n",
      "  54  1.69e+01  6.483e-02    5.625e+00  6.020e+00\n",
      "  55  1.72e+01  6.521e-02    6.073e+00  5.502e+00\n",
      "  56  1.75e+01  6.560e-02    6.427e+00  5.005e+00\n",
      "  57  1.78e+01  6.602e-02    6.666e+00  4.579e+00\n",
      "  58  1.81e+01  6.646e-02    6.783e+00  4.273e+00\n",
      "  59  1.83e+01  6.693e-02    6.775e+00  4.126e+00\n",
      "  60  1.86e+01  6.743e-02    6.643e+00  4.153e+00\n",
      "  61  1.89e+01  6.797e-02    6.396e+00  4.333e+00\n",
      "  62  1.92e+01  6.853e-02    6.046e+00  4.619e+00\n",
      "  63  1.95e+01  6.913e-02    5.613e+00  4.952e+00\n",
      "  64  1.98e+01  6.974e-02    5.124e+00  5.283e+00\n",
      "  65  2.00e+01  7.036e-02    4.620e+00  5.572e+00\n",
      "  66  2.03e+01  7.097e-02    4.143e+00  5.799e+00\n",
      "  67  2.06e+01  7.156e-02    3.730e+00  5.958e+00\n",
      "  68  2.09e+01  7.211e-02    3.427e+00  6.040e+00\n",
      "  69  2.12e+01  7.262e-02    3.286e+00  6.037e+00\n",
      "  70  2.15e+01  7.308e-02    3.310e+00  5.956e+00\n",
      "  71  2.17e+01  7.350e-02    3.454e+00  5.810e+00\n",
      "  72  2.20e+01  7.387e-02    3.677e+00  5.600e+00\n",
      "  73  2.23e+01  7.422e-02    3.948e+00  5.332e+00\n",
      "  74  2.26e+01  7.454e-02    4.214e+00  5.039e+00\n",
      "  75  2.29e+01  7.484e-02    4.442e+00  4.755e+00\n",
      "  76  2.32e+01  7.511e-02    4.619e+00  4.496e+00\n",
      "  77  2.35e+01  7.538e-02    4.738e+00  4.274e+00\n",
      "  78  2.38e+01  7.565e-02    4.799e+00  4.092e+00\n",
      "  79  2.40e+01  7.593e-02    4.802e+00  3.958e+00\n",
      "  80  2.43e+01  7.622e-02    4.747e+00  3.892e+00\n",
      "  81  2.46e+01  7.653e-02    4.635e+00  3.896e+00\n",
      "  82  2.49e+01  7.686e-02    4.466e+00  3.969e+00\n",
      "  83  2.52e+01  7.720e-02    4.249e+00  4.089e+00\n",
      "  84  2.55e+01  7.754e-02    3.996e+00  4.231e+00\n",
      "  85  2.58e+01  7.789e-02    3.720e+00  4.379e+00\n",
      "  86  2.60e+01  7.825e-02    3.439e+00  4.515e+00\n",
      "  87  2.63e+01  7.862e-02    3.175e+00  4.625e+00\n",
      "  88  2.66e+01  7.899e-02    2.952e+00  4.699e+00\n",
      "  89  2.69e+01  7.936e-02    2.794e+00  4.734e+00\n",
      "  90  2.72e+01  7.973e-02    2.717e+00  4.728e+00\n",
      "  91  2.75e+01  8.010e-02    2.723e+00  4.682e+00\n",
      "  92  2.77e+01  8.047e-02    2.802e+00  4.599e+00\n",
      "  93  2.80e+01  8.084e-02    2.935e+00  4.482e+00\n",
      "  94  2.83e+01  8.120e-02    3.096e+00  4.341e+00\n",
      "  95  2.86e+01  8.157e-02    3.261e+00  4.187e+00\n",
      "  96  2.89e+01  8.193e-02    3.411e+00  4.033e+00\n",
      "  97  2.92e+01  8.229e-02    3.535e+00  3.888e+00\n",
      "  98  2.95e+01  8.264e-02    3.621e+00  3.764e+00\n",
      "  99  2.98e+01  8.300e-02    3.664e+00  3.671e+00\n"
     ]
    }
   ],
   "source": [
    "solver = ADMM(\n",
    "    f=None,\n",
    "    g_list=[g0, g1, g2],\n",
    "    C_list=[C0, C1, C2],\n",
    "    rho_list=[ρ0, ρ1, ρ2],\n",
    "    maxiter=maxiter,\n",
    "    verbose=True,\n",
    "    x0=y_pad,\n",
    "    subproblem_solver=CircularConvolveSolver(),\n",
    ")\n",
    "\n",
    "print(\"Solving on %s\\n\" % util.device_info())\n",
    "solver.solve()\n",
    "solve_stats = solver.itstat_object.history(transpose=True)\n",
    "x_pad = solver.x\n",
    "x = x_pad[: y.shape[0], : y.shape[1], : y.shape[2]]"
   ]
  },
  {
   "cell_type": "markdown",
   "id": "ac135d9c",
   "metadata": {},
   "source": [
    "Show the recovered image."
   ]
  },
  {
   "cell_type": "code",
   "execution_count": 9,
   "id": "99d4872e",
   "metadata": {
    "execution": {
     "iopub.execute_input": "2021-11-02T22:01:46.717171Z",
     "iopub.status.busy": "2021-11-02T22:01:46.716777Z",
     "iopub.status.idle": "2021-11-02T22:01:47.101500Z",
     "shell.execute_reply": "2021-11-02T22:01:47.101175Z"
    }
   },
   "outputs": [
    {
     "data": {
      "image/png": "[encoded data removed]",
      "text/plain": [
       "<Figure size 1008x504 with 2 Axes>"
      ]
     },
     "metadata": {
      "needs_background": "light"
     },
     "output_type": "display_data"
    }
   ],
   "source": [
    "def make_slices(x, sep_width=10):\n",
    "    \"\"\"Make an image with xy, xz, and yz slices from an input volume.\"\"\"\n",
    "\n",
    "    fill_val = -1.0\n",
    "    out = snp.concatenate(\n",
    "        (\n",
    "            x[:, :, x.shape[2] // 2],\n",
    "            snp.full((x.shape[0], sep_width), fill_val),\n",
    "            x[:, x.shape[1] // 2, :],\n",
    "        ),\n",
    "        axis=1,\n",
    "    )\n",
    "\n",
    "    out = snp.concatenate(\n",
    "        (\n",
    "            out,\n",
    "            snp.full((sep_width, out.shape[1]), fill_val),\n",
    "            snp.concatenate(\n",
    "                (\n",
    "                    x[x.shape[0] // 2, :, :].T,\n",
    "                    snp.full((x.shape[2], x.shape[2] + sep_width), fill_val),\n",
    "                ),\n",
    "                axis=1,\n",
    "            ),\n",
    "        ),\n",
    "        axis=0,\n",
    "    )\n",
    "\n",
    "    out = snp.where(out == fill_val, out.max(), out)\n",
    "\n",
    "    return out\n",
    "\n",
    "\n",
    "fig, ax = plot.subplots(nrows=1, ncols=2, figsize=(14, 7))\n",
    "plot.imview(make_slices(y), title=\"Blurred measurements\", fig=fig, ax=ax[0])\n",
    "plot.imview(make_slices(x), title=\"Deconvolved image\", fig=fig, ax=ax[1])\n",
    "fig.show()"
   ]
  },
  {
   "cell_type": "markdown",
   "id": "31ae6cd1",
   "metadata": {},
   "source": [
    "Plot convergence statistics."
   ]
  },
  {
   "cell_type": "code",
   "execution_count": 10,
   "id": "1b1673ce",
   "metadata": {
    "execution": {
     "iopub.execute_input": "2021-11-02T22:01:47.114250Z",
     "iopub.status.busy": "2021-11-02T22:01:47.113947Z",
     "iopub.status.idle": "2021-11-02T22:01:47.627429Z",
     "shell.execute_reply": "2021-11-02T22:01:47.627072Z"
    }
   },
   "outputs": [
    {
     "data": {
      "image/png": "[encoded data removed]",
      "text/plain": [
       "<Figure size 864x360 with 2 Axes>"
      ]
     },
     "metadata": {
      "needs_background": "light"
     },
     "output_type": "display_data"
    }
   ],
   "source": [
    "fig, ax = plot.subplots(nrows=1, ncols=2, figsize=(12, 5))\n",
    "plot.plot(\n",
    "    solve_stats.Objective,\n",
    "    title=\"Objective function\",\n",
    "    xlbl=\"Iteration\",\n",
    "    ylbl=\"Functional value\",\n",
    "    fig=fig,\n",
    "    ax=ax[0],\n",
    ")\n",
    "plot.plot(\n",
    "    snp.vstack((solve_stats.Primal_Rsdl, solve_stats.Dual_Rsdl)).T,\n",
    "    ptyp=\"semilogy\",\n",
    "    title=\"Residuals\",\n",
    "    xlbl=\"Iteration\",\n",
    "    lgnd=(\"Primal\", \"Dual\"),\n",
    "    fig=fig,\n",
    "    ax=ax[1],\n",
    ")\n",
    "fig.show()"
   ]
  }
 ],
 "metadata": {
  "kernelspec": {
   "display_name": "Python 3 (ipykernel)",
   "language": "python",
   "name": "python3"
  },
  "language_info": {
   "codemirror_mode": {
    "name": "ipython",
    "version": 3
   },
   "file_extension": ".py",
   "mimetype": "text/x-python",
   "name": "python",
   "nbconvert_exporter": "python",
   "pygments_lexer": "ipython3",
   "version": "3.8.12"
  }
 },
 "nbformat": 4,
 "nbformat_minor": 5
}
