{
 "cells": [
  {
   "cell_type": "markdown",
   "id": "8c2457f6",
   "metadata": {},
   "source": [
    "# Usage Examples\n",
    "\n",
    "## Computed Tomography\n",
    "\n",
    "> -   admm_tv_ct.ipynb\n",
    "> -   admm_tv_ct_weighted.ipynb\n",
    "> -   pcg_ct.ipynb\n",
    "> -   admm_ppp_bm3d_svmbir_cg.ipynb\n",
    "> -   admm_ppp_bm3d_svmbir_prox.ipynb\n",
    "\n",
    "## Deconvolution\n",
    "\n",
    "> -   admm_ppp_bm3d_deconvolution.ipynb\n",
    "> -   admm_ppp_dncnn_deconvolution.ipynb\n",
    "> -   admm_tv_deconvolution.ipynb\n",
    "> -   admm_tv_circ_deconvolution.ipynb\n",
    "> -   pgm_ppp_bm3d_deconvolution.ipynb\n",
    "> -   deconv_microsc.ipynb.ipynb\n",
    "\n",
    "## Sparse Coding\n",
    "\n",
    "> -   admm_nonnegative_sparse_coding.ipynb\n",
    "> -   pgm_sparse_coding.ipynb\n",
    "\n",
    "## Miscellaneous\n",
    "\n",
    "> -   admm_ppp_bm3d_demosaicing.ipynb\n",
    "> -   admm_tv_isotropic.ipynb\n",
    "> -   pgm_stepsize_blockarray.ipynb\n",
    "> -   pgm_stepsize_poisson.ipynb\n",
    "> -   pgm_tv_isotropic.ipynb"
   ]
  }
 ],
 "metadata": {
  "kernelspec": {
   "display_name": "Python 3 (ipykernel)",
   "language": "python",
   "name": "python3"
  },
  "language_info": {
   "codemirror_mode": {
    "name": "ipython",
    "version": 3
   },
   "file_extension": ".py",
   "mimetype": "text/x-python",
   "name": "python",
   "nbconvert_exporter": "python",
   "pygments_lexer": "ipython3",
   "version": "3.8.12"
  }
 },
 "nbformat": 4,
 "nbformat_minor": 5
}
