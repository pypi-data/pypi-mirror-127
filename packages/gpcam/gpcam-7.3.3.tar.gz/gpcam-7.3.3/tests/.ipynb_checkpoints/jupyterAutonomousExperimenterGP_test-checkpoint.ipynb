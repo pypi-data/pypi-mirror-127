{
 "cells": [
  {
   "cell_type": "code",
   "execution_count": 1,
   "id": "blond-merchandise",
   "metadata": {},
   "outputs": [
    {
     "ename": "ModuleNotFoundError",
     "evalue": "No module named 'Config'",
     "output_type": "error",
     "traceback": [
      "\u001b[0;31m---------------------------------------------------------------------------\u001b[0m",
      "\u001b[0;31mModuleNotFoundError\u001b[0m                       Traceback (most recent call last)",
      "\u001b[0;32m<ipython-input-1-5440fcdb2eb7>\u001b[0m in \u001b[0;36m<module>\u001b[0;34m\u001b[0m\n\u001b[1;32m      2\u001b[0m \u001b[0;32mimport\u001b[0m \u001b[0mnumpy\u001b[0m \u001b[0;32mas\u001b[0m \u001b[0mnp\u001b[0m\u001b[0;34m\u001b[0m\u001b[0;34m\u001b[0m\u001b[0m\n\u001b[1;32m      3\u001b[0m \u001b[0;32mfrom\u001b[0m \u001b[0mgpcam\u001b[0m\u001b[0;34m.\u001b[0m\u001b[0mautonomous_experimenter\u001b[0m \u001b[0;32mimport\u001b[0m \u001b[0mAutonomousExperimenterGP\u001b[0m\u001b[0;34m\u001b[0m\u001b[0;34m\u001b[0m\u001b[0m\n\u001b[0;32m----> 4\u001b[0;31m \u001b[0;32mimport\u001b[0m \u001b[0mConfig\u001b[0m \u001b[0;32mas\u001b[0m \u001b[0mc\u001b[0m\u001b[0;34m\u001b[0m\u001b[0;34m\u001b[0m\u001b[0m\n\u001b[0m\u001b[1;32m      5\u001b[0m \u001b[0;34m\u001b[0m\u001b[0m\n\u001b[1;32m      6\u001b[0m \u001b[0;34m\u001b[0m\u001b[0m\n",
      "\u001b[0;31mModuleNotFoundError\u001b[0m: No module named 'Config'"
     ]
    }
   ],
   "source": [
    "#/usr/bin/env python\n",
    "import numpy as np\n",
    "from gpcam.autonomous_experimenter import AutonomousExperimenterGP\n",
    "import Config as c\n",
    "\n",
    "\n",
    "\n",
    "def run(init_data_files = None):\n",
    "    #initialize\n",
    "    my_ae = AutonomousExperimenterGP(\n",
    "            c.parameters,\n",
    "            c.synthetic_function,c.gp[\"hyperparameters\"], c.gp[\"hyperparameter bounds\"],\n",
    "            init_dataset_size = c.initial_dataset_size, dataset = init_data_files,\n",
    "            acq_func = c.gp[\"acquisition function\"], cost_func = c.gp[\"cost function\"],\n",
    "            cost_update_func = c.gp[\"cost update function\"], cost_func_params = c.gp[\"cost function parameters\"],\n",
    "            kernel_func = c.gp[\"kernel function\"], prior_mean_func = c.gp[\"mean function\"],\n",
    "            run_every_iteration = c.gp[\"run function in every iteration\"],\n",
    "            append_data = c.append_data, compute_device = c.compute_device,\n",
    "            sparse = c.sparse, \n",
    "            training_dask_client = c.training_dask_client,\n",
    "            acq_func_opt_dask_client = c.prediction_dask_client)\n",
    "    #train\n",
    "    my_ae.train()\n",
    "    #start the autonomous loop\n",
    "    my_ae.go(N = c.max_number_of_measurements, breaking_error = c.breaking_error,\n",
    "             retrain_globally_at = c.global_likelihood_optimization_at,\n",
    "             retrain_locally_at = c.local_likelihood_optimization_at,\n",
    "             retrain_async_at = c.hgdl_likelihood_optimization_at,\n",
    "            retrain_callable_at = [],\n",
    "            acq_func_opt_setting = lambda number: \"global\" if number % 2 == 0 else \"local\",\n",
    "            training_opt_callable = None,\n",
    "            training_opt_max_iter = c.likelihood_optimization_max_iter,\n",
    "            training_opt_pop_size = c.likelihood_optimization_population_size,\n",
    "            training_opt_tol      = c.likelihood_optimization_tolerance,\n",
    "            acq_func_opt_max_iter = c.acquisition_function_optimization_max_iter,\n",
    "            acq_func_opt_pop_size = c.acquisition_function_optimization_population_size,\n",
    "            acq_func_opt_tol      = c.gp[\"acquisition function optimization tolerance\"],\n",
    "            acq_func_opt_tol_adjust = c.gp[\"adjust optimization threshold\"],\n",
    "            number_of_suggested_measurements = c.number_of_suggested_measurements,\n",
    "            )\n"
   ]
  },
  {
   "cell_type": "code",
   "execution_count": null,
   "id": "minus-works",
   "metadata": {},
   "outputs": [],
   "source": []
  }
 ],
 "metadata": {
  "kernelspec": {
   "display_name": "Python 3",
   "language": "python",
   "name": "python3"
  },
  "language_info": {
   "codemirror_mode": {
    "name": "ipython",
    "version": 3
   },
   "file_extension": ".py",
   "mimetype": "text/x-python",
   "name": "python",
   "nbconvert_exporter": "python",
   "pygments_lexer": "ipython3",
   "version": "3.8.5"
  }
 },
 "nbformat": 4,
 "nbformat_minor": 5
}
