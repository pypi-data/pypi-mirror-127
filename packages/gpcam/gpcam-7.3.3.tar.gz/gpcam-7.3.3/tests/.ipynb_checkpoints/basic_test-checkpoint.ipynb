{
 "cells": [
  {
   "cell_type": "code",
   "execution_count": null,
   "id": "2e02bd44",
   "metadata": {},
   "outputs": [],
   "source": [
    "from gpcam.autonomous_experimenter import AutonomousExperimenterGP\n",
    "import numpy as np\n",
    "\n",
    "def instrument(data, instrument_dict = {}):\n",
    "    for entry in data:\n",
    "        entry[\"value\"] = np.sin(np.linalg.norm(entry[\"position\"]))\n",
    "    return data\n",
    "\n",
    "##set up your parameter space\n",
    "parameters = np.array([[3.0,45.8],\n",
    "                       [4.0,47.0]])\n",
    "\n",
    "##set up some hyperparameters, if you have no idea, set them to 1 and make the training bounds large\n",
    "init_hyperparameters = np.array([1,1,1])\n",
    "hyperparameter_bounds =  np.array([[0.01,100],[0.01,100.0],[0.01,100]])\n",
    "\n",
    "##let's initialize the autonomous experimenter ...\n",
    "my_ae = AutonomousExperimenterGP(parameters, instrument, init_hyperparameters,\n",
    "                                 hyperparameter_bounds,  init_dataset_size=10)\n",
    "#...train...\n",
    "my_ae.train()\n",
    "\n",
    "#...and run. That's it. You successfully executed an autonomous experiment.\n",
    "my_ae.go(N = 100)"
   ]
  }
 ],
 "metadata": {
  "kernelspec": {
   "display_name": "gpcam",
   "language": "python",
   "name": "gpcam"
  },
  "language_info": {
   "codemirror_mode": {
    "name": "ipython",
    "version": 3
   },
   "file_extension": ".py",
   "mimetype": "text/x-python",
   "name": "python",
   "nbconvert_exporter": "python",
   "pygments_lexer": "ipython3",
   "version": "3.8.10"
  }
 },
 "nbformat": 4,
 "nbformat_minor": 5
}
