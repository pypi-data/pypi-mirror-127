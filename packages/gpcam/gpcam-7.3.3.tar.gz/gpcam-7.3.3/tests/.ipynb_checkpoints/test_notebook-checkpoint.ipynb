{
 "cells": [
  {
   "cell_type": "markdown",
   "id": "57793ddf",
   "metadata": {},
   "source": [
    "# gpCAM Test Notebook\n",
    "In this notebook we will go through many features of gpCAM. Work through it \n",
    "and you are ready for your own autonomous experiment. "
   ]
  },
  {
   "cell_type": "code",
   "execution_count": null,
   "id": "21cc5f84",
   "metadata": {},
   "outputs": [],
   "source": [
    "####install gpcam here if you do not have already done so\n",
    "#!pip install gpcam"
   ]
  },
  {
   "cell_type": "markdown",
   "id": "c25f3a3f",
   "metadata": {},
   "source": [
    "## This first cell has nothing to do with gpCAM, it's just a function to plot some results later"
   ]
  },
  {
   "cell_type": "code",
   "execution_count": null,
   "id": "1fda198d",
   "metadata": {},
   "outputs": [],
   "source": [
    "import plotly.graph_objects as go\n",
    "import numpy as np\n",
    "def plot(x,y,z,data = None):\n",
    "    fig = go.Figure()\n",
    "    fig.add_trace(go.Surface(x = x, y = y,z=z))\n",
    "    if data is not None: \n",
    "        fig.add_trace(go.Scatter3d(x=data[:,0], y=data[:,1], z=data[:,2],\n",
    "                                   mode='markers'))\n",
    "\n",
    "    fig.update_layout(title='Posterior Mean', autosize=True,\n",
    "                  width=800, height=800,\n",
    "                  margin=dict(l=65, r=50, b=65, t=90))\n",
    "\n",
    "\n",
    "    fig.show()"
   ]
  },
  {
   "cell_type": "markdown",
   "id": "0ef57f21",
   "metadata": {},
   "source": [
    "## Here we want to define some points at which we will predict, still has nothing to do with gpCAM "
   ]
  },
  {
   "cell_type": "code",
   "execution_count": null,
   "id": "67d49309",
   "metadata": {},
   "outputs": [],
   "source": [
    "x_pred = np.zeros((10000,2))\n",
    "x = np.linspace(0,10,100)\n",
    "y = np.linspace(0,10,100)\n",
    "x,y = np.meshgrid(x,y)\n",
    "counter = 0\n",
    "for i in  range(100):\n",
    "    for j in range(100):\n",
    "        x_pred[counter] = np.array([x[i,j],y[i,j]])\n",
    "        counter += 1"
   ]
  },
  {
   "cell_type": "markdown",
   "id": "01a362a6",
   "metadata": {},
   "source": [
    "## Let's get after it by setting up a Single-Task GP Autonomous Data Acquisition Run\n",
    "### The following function are optional and already show you some advanced features"
   ]
  },
  {
   "cell_type": "code",
   "execution_count": null,
   "id": "21dafddb",
   "metadata": {},
   "outputs": [],
   "source": [
    "def optional_acq_func(x,obj):\n",
    "    #this acquisition function makes the autonomous experiment a Bayesian optimization\n",
    "    a = 3.0 #3.0 for 95 percent confidence interval\n",
    "    mean = obj.posterior_mean(x)[\"f(x)\"]\n",
    "    cov = obj.posterior_covariance(x)[\"v(x)\"]\n",
    "    return mean + a * cov\n",
    "\n",
    "def optional_mean_func(gp_obj,x,hyperparameters):\n",
    "    return ((x[:,0] ** 2 + x[:,1] - 11.0) ** 2 + (x[:,0] + x[:,1] ** 2 - 7.0) ** 2) * hyperparameters[-1]\n",
    "\n",
    "def optional_cost_function(origin,x,arguments = None):\n",
    "    #cost pf l1 motion in the input space\n",
    "    offset = arguments[\"offset\"]\n",
    "    slope = arguments[\"slope\"]\n",
    "    d = np.abs(np.subtract(origin,x))\n",
    "    c = (d * slope) + offset\n",
    "    n = np.sum(c)\n",
    "    return n\n",
    "def optional_cost_update_function(costs, parameters):\n",
    "    ###defining a cost update function might look tricky but just need a bit\n",
    "    ###of tenacity. And remember, this is optional, if you have a great guess for your costs you\n",
    "    ###don't need to update the costs. Also, if you don't account for costs, this funciton is not needed\n",
    "    from scipy.optimize import differential_evolution as devo\n",
    "    print(\"Cost adjustment in progress...\")\n",
    "    print(\"old cost parameters: \",parameters)\n",
    "    bounds = np.array([[0.001,10],[0.0001,10]])\n",
    "    ###remove outliers:\n",
    "    origins = []\n",
    "    points = []\n",
    "    motions = []\n",
    "    c   = []\n",
    "    cost_per_motion = []\n",
    "    for i in range(len(costs)):\n",
    "        origins.append(costs[i][0])\n",
    "        points.append(costs[i][1])\n",
    "        motions.append(abs(costs[i][0] - costs[i][1]))\n",
    "        c.append(costs[i][2])\n",
    "        cost_per_motion.append(costs[i][2]/optional_cost_function(costs[i][0],costs[i][1], parameters))\n",
    "    mean_costs_per_distance = np.mean(np.asarray(cost_per_motion))\n",
    "    sd = np.std(np.asarray(cost_per_motion))\n",
    "    for element in cost_per_motion:\n",
    "        if (\n",
    "            element >= mean_costs_per_distance - 2.0 * sd\n",
    "            and element <= mean_costs_per_distance + 2.0 * sd\n",
    "        ):\n",
    "            continue\n",
    "        else:\n",
    "            motions.pop(cost_per_motion.index(element))\n",
    "            c.pop(cost_per_motion.index(element))\n",
    "            origins.pop(cost_per_motion.index(element))\n",
    "            points.pop(cost_per_motion.index(element))\n",
    "            cost_per_motion.pop(cost_per_motion.index(element))\n",
    "    def compute_l1_cost_misfit(params, origins,points, costs):\n",
    "        parameters = {\"offset\": params[0], \"slope\": params[1]}\n",
    "        sum1 = 0.0\n",
    "        for idx in range(len(points)):\n",
    "            sum1 = sum1 + (\n",
    "                (optional_cost_function(origins[idx],points[idx],parameters) - costs[idx]) ** 2)\n",
    "        return sum1\n",
    "    res = devo(compute_l1_cost_misfit, bounds, args = (origins, points,c), tol=1e-6, disp=True, maxiter=300, popsize=20,polish=False)\n",
    "    arguments = {\"offset\": res[\"x\"][0],\"slope\": res[\"x\"][1:]}\n",
    "    print(\"New cost parameters: \", arguments)\n",
    "    return arguments"
   ]
  },
  {
   "cell_type": "code",
   "execution_count": null,
   "id": "8b9710d9",
   "metadata": {},
   "outputs": [],
   "source": [
    "import time\n",
    "from gpcam.autonomous_experimenter import AutonomousExperimenterGP\n",
    "\n",
    "def instrument(data, instrument_dict):\n",
    "    print(\"This is the current length of the data received by gpCAM: \", len(data))\n",
    "    print(instrument_dict)\n",
    "    for entry in data:\n",
    "        entry[\"value\"] = np.sin(np.linalg.norm(entry[\"position\"]))\n",
    "        #entry[\"cost\"]  = [np.array([0,0]),entry[\"position\"],np.sum(entry[\"position\"])]\n",
    "    return data\n",
    "\n",
    "#initialization\n",
    "#feel free to try different acquisition functions, e.g. optional_acq_func, \"covariance\", \"shannon_ig\"\n",
    "#note how costs are defined in for the autonomous experimenter\n",
    "my_ae = AutonomousExperimenterGP(np.array([[0,10],[0,10]]),instrument,\n",
    "                                 np.ones((3)),np.array([[0.001,100],[0.001,100],[0.001,100]]),\n",
    "                                 init_dataset_size= 20,\n",
    "                                 instrument_dict = {\"something\": 3},\n",
    "                                 acq_func = \"variance\", #optional_acq_func, \n",
    "                                 #cost_func = optional_cost_function, \n",
    "                                 #cost_update_func = optional_cost_update_function,\n",
    "                                 cost_func_params={\"offset\": 5.0,\"slope\":10.0},\n",
    "                                 kernel_func = None, use_inv = True,\n",
    "                                 communicate_full_dataset = False)#, prior_mean_func = optional_mean_func)\n",
    "\n",
    "\n",
    "print(\"length of the dataset: \",len(my_ae.x))\n",
    "\n",
    "\n",
    "#my_ae.train_async()                 #train asynchronously\n",
    "my_ae.train(method = \"global\")       #or not, or both, choose between \"global\",\"local\" and \"hgdl\""
   ]
  },
  {
   "cell_type": "code",
   "execution_count": null,
   "id": "166126d9",
   "metadata": {},
   "outputs": [],
   "source": [
    "#update hyperparameters in case they are optimized asynchronously\n",
    "my_ae.update_hps()"
   ]
  },
  {
   "cell_type": "code",
   "execution_count": null,
   "id": "f4045b36",
   "metadata": {},
   "outputs": [],
   "source": [
    "#training and client can be killed if desired and in case they are optimized asynchronously\n",
    "my_ae.kill_training()"
   ]
  },
  {
   "cell_type": "markdown",
   "id": "42ce914f",
   "metadata": {},
   "source": [
    "## Let's see what our initial model looks like"
   ]
  },
  {
   "cell_type": "code",
   "execution_count": null,
   "id": "903c1444",
   "metadata": {},
   "outputs": [],
   "source": [
    "f = my_ae.gp_optimizer.posterior_mean(x_pred)[\"f(x)\"]\n",
    "f_re = f.reshape(100,100)\n",
    "\n",
    "plot(x,y,f_re, data = np.column_stack([my_ae.x,my_ae.y]))"
   ]
  },
  {
   "cell_type": "markdown",
   "id": "18bc3dfc",
   "metadata": {},
   "source": [
    "## Let's run the autonomus loop to 100 points"
   ]
  },
  {
   "cell_type": "code",
   "execution_count": null,
   "id": "b48f40d8",
   "metadata": {},
   "outputs": [],
   "source": [
    "#here we see how python's help function is used to get info about a function\n",
    "help(my_ae.go)"
   ]
  },
  {
   "cell_type": "code",
   "execution_count": null,
   "id": "33fbc0dc",
   "metadata": {
    "scrolled": true
   },
   "outputs": [],
   "source": [
    "#run the autonomous loop\n",
    "my_ae.go(N = 100, \n",
    "            retrain_async_at=[25, 30,40],\n",
    "            retrain_globally_at = [],\n",
    "            retrain_locally_at = [],\n",
    "            acq_func_opt_setting = lambda number: \"global\" if number % 2 == 0 else \"local\",\n",
    "            training_opt_callable = None,\n",
    "            training_opt_max_iter = 20,\n",
    "            training_opt_pop_size = 10,\n",
    "            training_opt_tol      = 1e-6,\n",
    "            acq_func_opt_max_iter = 20,\n",
    "            acq_func_opt_pop_size = 20,\n",
    "            acq_func_opt_tol      = 1e-6,\n",
    "            number_of_suggested_measurements = 1,\n",
    "            acq_func_opt_tol_adjust = [True,0.1])"
   ]
  },
  {
   "cell_type": "markdown",
   "id": "1b5af393",
   "metadata": {},
   "source": [
    "\n",
    "\n",
    "\n",
    "\n",
    "\n",
    "## Now let's plot the posterior mean after the experiment has concluded"
   ]
  },
  {
   "cell_type": "code",
   "execution_count": null,
   "id": "97d5f102",
   "metadata": {
    "scrolled": false
   },
   "outputs": [],
   "source": [
    "res = my_ae.gp_optimizer.posterior_mean(x_pred)\n",
    "f = res[\"f(x)\"]\n",
    "f = f.reshape(100,100)\n",
    "\n",
    "plot(x,y,f, data = np.column_stack([my_ae.x,my_ae.y]))"
   ]
  },
  {
   "cell_type": "markdown",
   "id": "73a8e98c",
   "metadata": {},
   "source": [
    "## Running a Multi-Task GP Autonomous Data Acquisition\n",
    "This example uses 21 (!) dim robot data and 7 tasks, which you can all use or pick a subset of them"
   ]
  },
  {
   "cell_type": "code",
   "execution_count": null,
   "id": "eff8f4f6",
   "metadata": {},
   "outputs": [],
   "source": [
    "##prepare some data\n",
    "import numpy as np\n",
    "from scipy.interpolate import griddata\n",
    "data = np.load(\"sarcos.npy\")\n",
    "print(data.shape)\n",
    "x = data[:,0:21]\n",
    "y = data[:,21:23]"
   ]
  },
  {
   "cell_type": "code",
   "execution_count": null,
   "id": "d3a92640",
   "metadata": {
    "scrolled": true
   },
   "outputs": [],
   "source": [
    "from gpcam.autonomous_experimenter import AutonomousExperimenterFvGP\n",
    "\n",
    "\n",
    "def instrument(data, instrument_dict = {}):\n",
    "    for entry in data:\n",
    "        entry[\"values\"] = griddata(x,y,entry[\"position\"],method = \"nearest\", fill_value = 0)[0]\n",
    "        entry[\"value positions\"] = np.array([[0],[1]])\n",
    "    return data\n",
    "\n",
    "input_s = np.array([np.array([np.min(x[:,i]),np.max(x[:,i])]) for i in range(len(x[0]))])\n",
    "print(\"index set (input space) bounds:\")\n",
    "print(input_s)\n",
    "print(\"hps bounds:\")\n",
    "hps_bounds = np.empty((22,2))\n",
    "hps_bounds[:,0] = 0.0001\n",
    "hps_bounds[:,1] = 100.0\n",
    "hps_bounds[0] = np.array([0.0001, 10000])\n",
    "print(hps_bounds)\n",
    "print(\"shape of y: \")\n",
    "print(y.shape)\n",
    "\n",
    "my_fvae = AutonomousExperimenterFvGP(input_s,2,1,instrument,np.ones((22)),hps_bounds,\n",
    "                                     init_dataset_size= 10)\n",
    "my_fvae.train()\n",
    "my_fvae.go(N = 100)"
   ]
  },
  {
   "cell_type": "markdown",
   "id": "31db314f",
   "metadata": {},
   "source": [
    "## Plotting the 0th task in a 2d slice"
   ]
  },
  {
   "cell_type": "code",
   "execution_count": null,
   "id": "246ace77",
   "metadata": {},
   "outputs": [],
   "source": [
    "x_pred = np.zeros((10000,21))\n",
    "x = np.linspace(input_s[0,0],input_s[0,1],100)\n",
    "y = np.linspace(input_s[1,0],input_s[1,1],100)\n",
    "x,y = np.meshgrid(x,y)\n",
    "counter = 0\n",
    "for i in  range(100):\n",
    "    for j in range(100):\n",
    "        x_pred[counter] = np.zeros((21))\n",
    "        x_pred[counter,[0,1]] = np.array([x[i,j],y[i,j]])\n",
    "        counter += 1\n",
    "res = my_fvae.gp_optimizer.posterior_mean(x_pred)\n",
    "f = res[\"f(x)\"]\n",
    "f = f.reshape(100,100)\n",
    "\n",
    "plot(x,y,f)"
   ]
  },
  {
   "cell_type": "markdown",
   "id": "5f428f7f",
   "metadata": {},
   "source": [
    "## Back to a single task: using the GPOptimizer class directly gives you some more flexibility\n",
    "We will show more soon!"
   ]
  },
  {
   "cell_type": "code",
   "execution_count": null,
   "id": "7eaf4e0c",
   "metadata": {},
   "outputs": [],
   "source": [
    "#/usr/bin/env python\n",
    "import numpy as np\n",
    "from gpcam.gp_optimizer import GPOptimizer\n",
    "\n",
    "#initialize some data\n",
    "x_data = np.random.uniform(size = (100,1))\n",
    "y_data = np.sin(x_data)[:,0]\n",
    "\n",
    "\n",
    "#initialize the GPOptimizer\n",
    "my_gpo = GPOptimizer(1,np.array([[0,1]]))\n",
    "#tell() it some data\n",
    "my_gpo.tell(x_data,y_data)\n",
    "#initialize a GP ...\n",
    "my_gpo.init_gp(np.ones(2))\n",
    "#and train it\n",
    "my_gpo.train_gp(np.array([[0.001,100],[0.001,100]]))\n",
    "\n",
    "#let's make a prediction\n",
    "print(my_gpo.posterior_mean(np.array([0.44])))\n",
    "\n",
    "#now we can ask for a new point\n",
    "r = my_gpo.ask()\n",
    "print(r)\n",
    "#putting the ask() in a loop and updating the data will\n",
    "#give you all you need for your autonomous experiment"
   ]
  },
  {
   "cell_type": "code",
   "execution_count": null,
   "id": "a4f4d4f7",
   "metadata": {},
   "outputs": [],
   "source": []
  }
 ],
 "metadata": {
  "kernelspec": {
   "display_name": "gpcam",
   "language": "python",
   "name": "gpcam"
  },
  "language_info": {
   "codemirror_mode": {
    "name": "ipython",
    "version": 3
   },
   "file_extension": ".py",
   "mimetype": "text/x-python",
   "name": "python",
   "nbconvert_exporter": "python",
   "pygments_lexer": "ipython3",
   "version": "3.8.10"
  }
 },
 "nbformat": 4,
 "nbformat_minor": 5
}
