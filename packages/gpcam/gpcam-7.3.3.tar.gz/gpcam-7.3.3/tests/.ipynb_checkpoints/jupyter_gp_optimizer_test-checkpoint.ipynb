{
 "cells": [
  {
   "cell_type": "markdown",
   "id": "becoming-tackle",
   "metadata": {},
   "source": [
    "# Getting some data"
   ]
  },
  {
   "cell_type": "code",
   "execution_count": 1,
   "id": "plain-document",
   "metadata": {},
   "outputs": [
    {
     "ename": "ImportError",
     "evalue": "cannot import name 'FVGP' from 'fvgp.fvgp' (/home/marcus/Coding/Professional/fvGP/fvgp/fvgp.py)",
     "output_type": "error",
     "traceback": [
      "\u001b[0;31m---------------------------------------------------------------------------\u001b[0m",
      "\u001b[0;31mImportError\u001b[0m                               Traceback (most recent call last)",
      "\u001b[0;32m<ipython-input-1-b421294dbc83>\u001b[0m in \u001b[0;36m<module>\u001b[0;34m\u001b[0m\n\u001b[1;32m      1\u001b[0m \u001b[38;5;28;01mimport\u001b[39;00m \u001b[38;5;21;01mnumpy\u001b[39;00m \u001b[38;5;28;01mas\u001b[39;00m \u001b[38;5;21;01mnp\u001b[39;00m\n\u001b[0;32m----> 2\u001b[0m \u001b[38;5;28;01mfrom\u001b[39;00m \u001b[38;5;21;01mgpcam\u001b[39;00m\u001b[38;5;21;01m.\u001b[39;00m\u001b[38;5;21;01mgp_optimizer\u001b[39;00m \u001b[38;5;28;01mimport\u001b[39;00m GPOptimizer\n\u001b[1;32m      3\u001b[0m \u001b[38;5;28;01mfrom\u001b[39;00m \u001b[38;5;21;01mgpcam\u001b[39;00m\u001b[38;5;21;01m.\u001b[39;00m\u001b[38;5;21;01mfvgp_optimizer\u001b[39;00m \u001b[38;5;28;01mimport\u001b[39;00m fvGPOptimizer\n\u001b[1;32m      4\u001b[0m \u001b[38;5;28;01mimport\u001b[39;00m \u001b[38;5;21;01mmatplotlib\u001b[39;00m\u001b[38;5;21;01m.\u001b[39;00m\u001b[38;5;21;01mpyplot\u001b[39;00m \u001b[38;5;28;01mas\u001b[39;00m \u001b[38;5;21;01mplt\u001b[39;00m\n",
      "\u001b[0;32m~/.local/lib/python3.8/site-packages/gpcam/gp_optimizer.py\u001b[0m in \u001b[0;36m<module>\u001b[0;34m\u001b[0m\n\u001b[1;32m      1\u001b[0m \u001b[38;5;28;01mimport\u001b[39;00m \u001b[38;5;21;01mnumpy\u001b[39;00m \u001b[38;5;28;01mas\u001b[39;00m \u001b[38;5;21;01mnp\u001b[39;00m\n\u001b[0;32m----> 2\u001b[0m \u001b[38;5;28;01mfrom\u001b[39;00m \u001b[38;5;21;01mfvgp\u001b[39;00m\u001b[38;5;21;01m.\u001b[39;00m\u001b[38;5;21;01mfvgp\u001b[39;00m \u001b[38;5;28;01mimport\u001b[39;00m FVGP\n\u001b[1;32m      3\u001b[0m \u001b[38;5;28;01mfrom\u001b[39;00m \u001b[38;5;21;01m.\u001b[39;00m \u001b[38;5;28;01mimport\u001b[39;00m surrogate_model \u001b[38;5;28;01mas\u001b[39;00m sm\n\u001b[1;32m      4\u001b[0m \u001b[38;5;28;01mimport\u001b[39;00m \u001b[38;5;21;01mtime\u001b[39;00m\n",
      "\u001b[0;31mImportError\u001b[0m: cannot import name 'FVGP' from 'fvgp.fvgp' (/home/marcus/Coding/Professional/fvGP/fvgp/fvgp.py)"
     ]
    }
   ],
   "source": [
    "import numpy as np\n",
    "from gpcam.gp_optimizer import GPOptimizer\n",
    "from gpcam.fvgp_optimizer import fvGPOptimizer\n",
    "import matplotlib.pyplot as plt\n",
    "\n",
    "\n",
    "dim = 2\n",
    "tasks = 2\n",
    "x = np.random.rand(100,dim)\n",
    "y = np.empty((len(x),tasks))\n",
    "for i in range(tasks): y[:,i] = np.sin(x[:,0]) + np.sin(x[:,1]) + float(i) #vreating a few functions as tasks\n",
    "index_set_bounds = np.array([[0.,1.],[0.,1.]])  ###make sure you have anouth bounds given your dim\n",
    "hyperparameter_bounds = np.array([[0.001,1e9],[0.001,100],[0.001,100]]) ###give enough bounds \n",
    "                                                                        ###for your number of the hyperparameters\n",
    "hps_guess = np.ones((3)) ###give an inital guess for your hyperparameters\n",
    "###################################################################################\n",
    "gp   =   GPOptimizer(dim,index_set_bounds) ###for single task\n",
    "gp.tell(x,y[:,0])\n",
    "gp.init_gp(hps_guess)\n",
    "gp.train_gp_async(hyperparameter_bounds,max_iter = 10)\n",
    "##\n",
    "fvgp = fvGPOptimizer(dim,1,2,index_set_bounds) ###for multiple tasks\n",
    "fvgp.tell(x,y)\n",
    "fvgp.init_fvgp(hps_guess)\n",
    "fvgp.train_gp(hyperparameter_bounds,max_iter = 10)"
   ]
  },
  {
   "cell_type": "code",
   "execution_count": null,
   "id": "musical-terrain",
   "metadata": {},
   "outputs": [],
   "source": []
  }
 ],
 "metadata": {
  "kernelspec": {
   "display_name": "Python 3",
   "language": "python",
   "name": "python3"
  },
  "language_info": {
   "codemirror_mode": {
    "name": "ipython",
    "version": 3
   },
   "file_extension": ".py",
   "mimetype": "text/x-python",
   "name": "python",
   "nbconvert_exporter": "python",
   "pygments_lexer": "ipython3",
   "version": "3.8.5"
  }
 },
 "nbformat": 4,
 "nbformat_minor": 5
}
