{
 "cells": [
  {
   "cell_type": "code",
   "execution_count": 1,
   "outputs": [],
   "source": [
    "import numpy\n",
    "import torch\n",
    "\n",
    "import mobster as mb\n",
    "\n",
    "import numpy as np\n"
   ],
   "metadata": {
    "collapsed": false,
    "pycharm": {
     "name": "#%%\n"
    }
   }
  },
  {
   "cell_type": "code",
   "execution_count": 2,
   "outputs": [],
   "source": [
    "data = mb.load_example_data(\"./\")"
   ],
   "metadata": {
    "collapsed": false,
    "pycharm": {
     "name": "#%%\n"
    }
   }
  },
  {
   "cell_type": "code",
   "execution_count": 5,
   "outputs": [
    {
     "name": "stdout",
     "output_type": "stream",
     "text": [
      "Running MOBSTER on 1 karyotypes with 1 subclones.\n",
      "Fitting a model with tail\n"
     ]
    },
    {
     "name": "stderr",
     "output_type": "stream",
     "text": [
      "ELBO: 1891.113293444  :   6%|▌         | 59/1000 [00:00<00:09, 94.17it/s] \n"
     ]
    },
    {
     "name": "stdout",
     "output_type": "stream",
     "text": [
      "Computing cluster assignements.\n",
      "Computing information criteria.\n",
      "Done!\n",
      "\n"
     ]
    }
   ],
   "source": [
    "import pyro\n",
    "\n",
    "pyro.enable_validation(True)\n",
    "fitted = mb.fit_mobster(data,1,1,purity = 0.8,  truncated_pareto=False, max_it = 1000, lr = 0.01,  e = 0.01, lrd_gamma = 0.1,\n",
    "        number_of_trials_k= 1000, prior_lims_k=[100,100000], prior_lims_clonal=[100,100000.], number_of_trials_clonal_mean= 1000)\n"
   ],
   "metadata": {
    "collapsed": false,
    "pycharm": {
     "name": "#%%\n"
    }
   }
  },
  {
   "cell_type": "code",
   "execution_count": 6,
   "outputs": [],
   "source": [
    "\n",
    "\n",
    "mb.plot_results(data, fitted, output= \"cane.png\", drivers=None)"
   ],
   "metadata": {
    "collapsed": false,
    "pycharm": {
     "name": "#%%\n"
    }
   }
  },
  {
   "cell_type": "code",
   "execution_count": 10,
   "outputs": [
    {
     "data": {
      "text/plain": "{'cluster_probs': array([[0.03497262, 0.07140464, 0.03612739, ..., 0.03704995, 0.03174392,\n         0.03550312],\n        [0.80902725, 0.599062  , 0.8021555 , ..., 0.800182  , 0.82919   ,\n         0.80891657],\n        [0.10563455, 0.30697507, 0.11295464, ..., 0.1146294 , 0.08134615,\n         0.10511845],\n        [0.019469  , 0.00662082, 0.01864247, ..., 0.01829935, 0.02353621,\n         0.01952583],\n        [0.03089677, 0.01593747, 0.03011987, ..., 0.02983923, 0.03418358,\n         0.03093594]], dtype=float32),\n 'cluster_assignments': array(['C1', 'C1', 'C1', ..., 'C1', 'C1', 'C1'], dtype=object),\n 'cluster_types': array(['Tail', 'C1', 'C2', 'S1', 'S2'], dtype='<U4'),\n 'mixture_probs': array([0.04556274, 0.7288686 , 0.15989874, 0.03283497, 0.03283497],\n       dtype=float32),\n 'beta_concentration1': array([ 793.2617 , 1581.5739 ,  345.21948,  585.0272 ], dtype=float32),\n 'beta_concentration2': array([1809.1179, 1020.8057, 2257.1602, 2017.3524], dtype=float32),\n 'ccf_subclones': array([0.49745739, 0.84301764], dtype=float32),\n 'dispersion_noise': tensor([0.0530, 0.0551, 0.0485, 0.0473], grad_fn=<MulBackward0>),\n 'tail_shape': array(0.6459293, dtype=float32),\n 'tail_scale': 0.05,\n 'tail_noise': 0.017747394800188804}"
     },
     "execution_count": 10,
     "metadata": {},
     "output_type": "execute_result"
    }
   ],
   "source": [
    "fitted[\"model_parameters\"][\"2:1\"]"
   ],
   "metadata": {
    "collapsed": false,
    "pycharm": {
     "name": "#%%\n"
    }
   }
  },
  {
   "cell_type": "code",
   "execution_count": 10,
   "outputs": [],
   "source": [
    "import tkinter\n",
    "import matplotlib\n",
    "import matplotlib.pyplot as plt\n",
    "matplotlib.use('TkAgg')\n",
    "losses = fitted[\"loss\"]\n",
    "\n",
    "plt.plot(losses)\n",
    "plt.title(\"ELBO\")\n",
    "plt.xlabel(\"step\")\n",
    "plt.ylabel(\"loss\")\n",
    "plt.show()"
   ],
   "metadata": {
    "collapsed": false,
    "pycharm": {
     "name": "#%%\n"
    }
   }
  },
  {
   "cell_type": "code",
   "execution_count": 9,
   "outputs": [
    {
     "data": {
      "text/plain": "(array(['C1', 'S1', 'S2', 'Tail'], dtype=object),\n array([36110,   397,   333,   217]))"
     },
     "execution_count": 9,
     "metadata": {},
     "output_type": "execute_result"
    }
   ],
   "source": [
    "import numpy\n",
    "numpy.unique(fitted[\"model_parameters\"][\"1:1\"][\"cluster_assignments\"],return_counts=True)\n"
   ],
   "metadata": {
    "collapsed": false,
    "pycharm": {
     "name": "#%%\n"
    }
   }
  },
  {
   "cell_type": "code",
   "execution_count": 16,
   "outputs": [
    {
     "ename": "KeyError",
     "evalue": "'param_weights_2'",
     "output_type": "error",
     "traceback": [
      "\u001B[0;31m---------------------------------------------------------------------------\u001B[0m",
      "\u001B[0;31mKeyError\u001B[0m                                  Traceback (most recent call last)",
      "\u001B[0;32m/var/folders/36/hkmr20bj0b73djsjg63qpp4h0000gp/T/ipykernel_41390/1601396709.py\u001B[0m in \u001B[0;36m<module>\u001B[0;34m\u001B[0m\n\u001B[0;32m----> 1\u001B[0;31m \u001B[0mpyro\u001B[0m\u001B[0;34m.\u001B[0m\u001B[0mparam\u001B[0m\u001B[0;34m(\u001B[0m\u001B[0;34m\"param_weights_2\"\u001B[0m\u001B[0;34m)\u001B[0m\u001B[0;34m.\u001B[0m\u001B[0mdetach\u001B[0m\u001B[0;34m(\u001B[0m\u001B[0;34m)\u001B[0m\u001B[0;34m.\u001B[0m\u001B[0mtolist\u001B[0m\u001B[0;34m(\u001B[0m\u001B[0;34m)\u001B[0m\u001B[0;34m\u001B[0m\u001B[0;34m\u001B[0m\u001B[0m\n\u001B[0m\u001B[1;32m      2\u001B[0m \u001B[0;34m\u001B[0m\u001B[0m\n\u001B[1;32m      3\u001B[0m \u001B[0;34m\u001B[0m\u001B[0m\n",
      "\u001B[0;32m~/miniforge3/envs/HMOBSTER/lib/python3.9/site-packages/pyro/primitives.py\u001B[0m in \u001B[0;36mparam\u001B[0;34m(name, init_tensor, constraint, event_dim)\u001B[0m\n\u001B[1;32m     76\u001B[0m     \u001B[0;31m# Note effectful(-) requires the double passing of name below.\u001B[0m\u001B[0;34m\u001B[0m\u001B[0;34m\u001B[0m\u001B[0m\n\u001B[1;32m     77\u001B[0m     \u001B[0margs\u001B[0m \u001B[0;34m=\u001B[0m \u001B[0;34m(\u001B[0m\u001B[0mname\u001B[0m\u001B[0;34m,\u001B[0m\u001B[0;34m)\u001B[0m \u001B[0;32mif\u001B[0m \u001B[0minit_tensor\u001B[0m \u001B[0;32mis\u001B[0m \u001B[0;32mNone\u001B[0m \u001B[0;32melse\u001B[0m \u001B[0;34m(\u001B[0m\u001B[0mname\u001B[0m\u001B[0;34m,\u001B[0m \u001B[0minit_tensor\u001B[0m\u001B[0;34m)\u001B[0m\u001B[0;34m\u001B[0m\u001B[0;34m\u001B[0m\u001B[0m\n\u001B[0;32m---> 78\u001B[0;31m     \u001B[0;32mreturn\u001B[0m \u001B[0m_param\u001B[0m\u001B[0;34m(\u001B[0m\u001B[0;34m*\u001B[0m\u001B[0margs\u001B[0m\u001B[0;34m,\u001B[0m \u001B[0mconstraint\u001B[0m\u001B[0;34m=\u001B[0m\u001B[0mconstraint\u001B[0m\u001B[0;34m,\u001B[0m \u001B[0mevent_dim\u001B[0m\u001B[0;34m=\u001B[0m\u001B[0mevent_dim\u001B[0m\u001B[0;34m,\u001B[0m \u001B[0mname\u001B[0m\u001B[0;34m=\u001B[0m\u001B[0mname\u001B[0m\u001B[0;34m)\u001B[0m\u001B[0;34m\u001B[0m\u001B[0;34m\u001B[0m\u001B[0m\n\u001B[0m\u001B[1;32m     79\u001B[0m \u001B[0;34m\u001B[0m\u001B[0m\n\u001B[1;32m     80\u001B[0m \u001B[0;34m\u001B[0m\u001B[0m\n",
      "\u001B[0;32m~/miniforge3/envs/HMOBSTER/lib/python3.9/site-packages/pyro/poutine/runtime.py\u001B[0m in \u001B[0;36m_fn\u001B[0;34m(*args, **kwargs)\u001B[0m\n\u001B[1;32m    261\u001B[0m \u001B[0;34m\u001B[0m\u001B[0m\n\u001B[1;32m    262\u001B[0m         \u001B[0;32mif\u001B[0m \u001B[0;32mnot\u001B[0m \u001B[0mam_i_wrapped\u001B[0m\u001B[0;34m(\u001B[0m\u001B[0;34m)\u001B[0m\u001B[0;34m:\u001B[0m\u001B[0;34m\u001B[0m\u001B[0;34m\u001B[0m\u001B[0m\n\u001B[0;32m--> 263\u001B[0;31m             \u001B[0;32mreturn\u001B[0m \u001B[0mfn\u001B[0m\u001B[0;34m(\u001B[0m\u001B[0;34m*\u001B[0m\u001B[0margs\u001B[0m\u001B[0;34m,\u001B[0m \u001B[0;34m**\u001B[0m\u001B[0mkwargs\u001B[0m\u001B[0;34m)\u001B[0m\u001B[0;34m\u001B[0m\u001B[0;34m\u001B[0m\u001B[0m\n\u001B[0m\u001B[1;32m    264\u001B[0m         \u001B[0;32melse\u001B[0m\u001B[0;34m:\u001B[0m\u001B[0;34m\u001B[0m\u001B[0;34m\u001B[0m\u001B[0m\n\u001B[1;32m    265\u001B[0m             msg = {\n",
      "\u001B[0;32m~/miniforge3/envs/HMOBSTER/lib/python3.9/site-packages/pyro/params/param_store.py\u001B[0m in \u001B[0;36mget_param\u001B[0;34m(self, name, init_tensor, constraint, event_dim)\u001B[0m\n\u001B[1;32m    212\u001B[0m         \"\"\"\n\u001B[1;32m    213\u001B[0m         \u001B[0;32mif\u001B[0m \u001B[0minit_tensor\u001B[0m \u001B[0;32mis\u001B[0m \u001B[0;32mNone\u001B[0m\u001B[0;34m:\u001B[0m\u001B[0;34m\u001B[0m\u001B[0;34m\u001B[0m\u001B[0m\n\u001B[0;32m--> 214\u001B[0;31m             \u001B[0;32mreturn\u001B[0m \u001B[0mself\u001B[0m\u001B[0;34m[\u001B[0m\u001B[0mname\u001B[0m\u001B[0;34m]\u001B[0m\u001B[0;34m\u001B[0m\u001B[0;34m\u001B[0m\u001B[0m\n\u001B[0m\u001B[1;32m    215\u001B[0m         \u001B[0;32melse\u001B[0m\u001B[0;34m:\u001B[0m\u001B[0;34m\u001B[0m\u001B[0;34m\u001B[0m\u001B[0m\n\u001B[1;32m    216\u001B[0m             \u001B[0;32mreturn\u001B[0m \u001B[0mself\u001B[0m\u001B[0;34m.\u001B[0m\u001B[0msetdefault\u001B[0m\u001B[0;34m(\u001B[0m\u001B[0mname\u001B[0m\u001B[0;34m,\u001B[0m \u001B[0minit_tensor\u001B[0m\u001B[0;34m,\u001B[0m \u001B[0mconstraint\u001B[0m\u001B[0;34m)\u001B[0m\u001B[0;34m\u001B[0m\u001B[0;34m\u001B[0m\u001B[0m\n",
      "\u001B[0;32m~/miniforge3/envs/HMOBSTER/lib/python3.9/site-packages/pyro/params/param_store.py\u001B[0m in \u001B[0;36m__getitem__\u001B[0;34m(self, name)\u001B[0m\n\u001B[1;32m    103\u001B[0m         \u001B[0mGet\u001B[0m \u001B[0mthe\u001B[0m \u001B[0;34m*\u001B[0m\u001B[0mconstrained\u001B[0m\u001B[0;34m*\u001B[0m \u001B[0mvalue\u001B[0m \u001B[0mof\u001B[0m \u001B[0ma\u001B[0m \u001B[0mnamed\u001B[0m \u001B[0mparameter\u001B[0m\u001B[0;34m.\u001B[0m\u001B[0;34m\u001B[0m\u001B[0;34m\u001B[0m\u001B[0m\n\u001B[1;32m    104\u001B[0m         \"\"\"\n\u001B[0;32m--> 105\u001B[0;31m         \u001B[0munconstrained_value\u001B[0m \u001B[0;34m=\u001B[0m \u001B[0mself\u001B[0m\u001B[0;34m.\u001B[0m\u001B[0m_params\u001B[0m\u001B[0;34m[\u001B[0m\u001B[0mname\u001B[0m\u001B[0;34m]\u001B[0m\u001B[0;34m\u001B[0m\u001B[0;34m\u001B[0m\u001B[0m\n\u001B[0m\u001B[1;32m    106\u001B[0m \u001B[0;34m\u001B[0m\u001B[0m\n\u001B[1;32m    107\u001B[0m         \u001B[0;31m# compute the constrained value\u001B[0m\u001B[0;34m\u001B[0m\u001B[0;34m\u001B[0m\u001B[0m\n",
      "\u001B[0;31mKeyError\u001B[0m: 'param_weights_2'"
     ]
    }
   ],
   "source": [
    "pyro.param(\"param_weights_2\").detach().tolist()\n"
   ],
   "metadata": {
    "collapsed": false,
    "pycharm": {
     "name": "#%%\n"
    }
   }
  },
  {
   "cell_type": "code",
   "execution_count": 46,
   "outputs": [],
   "source": [
    "pars = retrieve_params()\n",
    "\n",
    "pars = list(flatten([value.detach().tolist() for key, value in pars.items() if key.find(\"weights\") >= 0]))"
   ],
   "metadata": {
    "collapsed": false,
    "pycharm": {
     "name": "#%%\n"
    }
   }
  },
  {
   "cell_type": "code",
   "execution_count": 44,
   "outputs": [],
   "source": [
    "\n",
    "def retrieve_params():\n",
    "    param_names = pyro.get_param_store()\n",
    "    res = {nms: pyro.param(nms) for nms in param_names}\n",
    "    return res"
   ],
   "metadata": {
    "collapsed": false,
    "pycharm": {
     "name": "#%%\n"
    }
   }
  },
  {
   "cell_type": "code",
   "execution_count": 47,
   "outputs": [
    {
     "data": {
      "text/plain": "[0.480760395526886, 0.5192395448684692, 1.0]"
     },
     "execution_count": 47,
     "metadata": {},
     "output_type": "execute_result"
    }
   ],
   "source": [
    "pars"
   ],
   "metadata": {
    "collapsed": false,
    "pycharm": {
     "name": "#%%\n"
    }
   }
  },
  {
   "cell_type": "code",
   "execution_count": 42,
   "outputs": [],
   "source": [],
   "metadata": {
    "collapsed": false,
    "pycharm": {
     "name": "#%%\n"
    }
   }
  },
  {
   "cell_type": "code",
   "execution_count": null,
   "outputs": [],
   "source": [],
   "metadata": {
    "collapsed": false,
    "pycharm": {
     "name": "#%%\n"
    }
   }
  }
 ],
 "metadata": {
  "kernelspec": {
   "name": "python3",
   "language": "python",
   "display_name": "Python 3"
  },
  "language_info": {
   "codemirror_mode": {
    "name": "ipython",
    "version": 3
   },
   "file_extension": ".py",
   "mimetype": "text/x-python",
   "name": "python",
   "nbconvert_exporter": "python",
   "pygments_lexer": "ipython3",
   "version": "3.8.5"
  }
 },
 "nbformat": 4,
 "nbformat_minor": 5
}