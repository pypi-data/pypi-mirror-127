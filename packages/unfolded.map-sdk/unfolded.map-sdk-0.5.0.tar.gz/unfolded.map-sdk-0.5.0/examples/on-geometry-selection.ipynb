{
 "cells": [
  {
   "cell_type": "code",
   "execution_count": 1,
   "id": "b7d9b803-3f15-4361-b987-cce1215a6bff",
   "metadata": {},
   "outputs": [],
   "source": [
    "from unfolded.map_sdk import UnfoldedMap, models"
   ]
  },
  {
   "cell_type": "code",
   "execution_count": 2,
   "id": "0c7bef2d-8be0-4ffb-a04e-3ffd0d2b8e1a",
   "metadata": {
    "tags": []
   },
   "outputs": [
    {
     "data": {
      "application/vnd.jupyter.widget-view+json": {
       "model_id": "8e16205f241d4565941a94220378c1ed",
       "version_major": 2,
       "version_minor": 0
      },
      "text/plain": [
       "UnfoldedMap(mapUrl='http://localhost:8080/incognito/')"
      ]
     },
     "metadata": {},
     "output_type": "display_data"
    }
   ],
   "source": [
    "my_map=UnfoldedMap(mapUrl='http://localhost:8080/incognito/')\n",
    "my_map"
   ]
  },
  {
   "cell_type": "code",
   "execution_count": 3,
   "id": "7212c376-5c81-41c9-8db8-8782f2264470",
   "metadata": {},
   "outputs": [
    {
     "data": {
      "application/vnd.jupyter.widget-view+json": {
       "model_id": "afe8b5902ff94a9ea7ebdafc66795676",
       "version_major": 2,
       "version_minor": 0
      },
      "text/plain": [
       "Output()"
      ]
     },
     "metadata": {},
     "output_type": "display_data"
    }
   ],
   "source": [
    "import ipywidgets as widgets\n",
    "output = widgets.Output()\n",
    "@output.capture(clear_output=True)\n",
    "def on_geometry_selection_output(info):\n",
    "    print('Geometry selection event')\n",
    "    print(info)\n",
    "output"
   ]
  },
  {
   "cell_type": "code",
   "execution_count": 4,
   "id": "5283c60b-6ece-4ca3-8a4f-ff46ea816ded",
   "metadata": {},
   "outputs": [],
   "source": [
    "my_map.set_map_event_handlers({\n",
    "    'on_geometry_selection': on_geometry_selection_output\n",
    "})"
   ]
  },
  {
   "cell_type": "code",
   "execution_count": null,
   "id": "dd35fd59-eea2-47c4-8b80-872976d26632",
   "metadata": {},
   "outputs": [],
   "source": []
  }
 ],
 "metadata": {
  "kernelspec": {
   "display_name": "Python 3",
   "language": "python",
   "name": "python3"
  },
  "language_info": {
   "codemirror_mode": {
    "name": "ipython",
    "version": 3
   },
   "file_extension": ".py",
   "mimetype": "text/x-python",
   "name": "python",
   "nbconvert_exporter": "python",
   "pygments_lexer": "ipython3",
   "version": "3.8.5"
  }
 },
 "nbformat": 4,
 "nbformat_minor": 5
}
