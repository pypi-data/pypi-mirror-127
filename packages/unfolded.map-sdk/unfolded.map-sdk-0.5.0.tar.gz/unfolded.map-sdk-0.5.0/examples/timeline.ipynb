{
 "cells": [
  {
   "cell_type": "code",
   "execution_count": 1,
   "id": "bc0cda0b",
   "metadata": {},
   "outputs": [],
   "source": [
    "from unfolded.map_sdk import UnfoldedMap, models"
   ]
  },
  {
   "cell_type": "code",
   "execution_count": 2,
   "id": "3d7fdaed",
   "metadata": {
    "tags": []
   },
   "outputs": [
    {
     "data": {
      "application/vnd.jupyter.widget-view+json": {
       "model_id": "268e48854e88405d89ad638d61318e74",
       "version_major": 2,
       "version_minor": 0
      },
      "text/plain": [
       "UnfoldedMap(mapUrl='https://studio.unfolded.ai/public/4883beab-e8db-42e0-8a66-7093eea255f4')"
      ]
     },
     "metadata": {},
     "output_type": "display_data"
    }
   ],
   "source": [
    "my_map=UnfoldedMap(mapUrl='https://studio.unfolded.ai/public/4883beab-e8db-42e0-8a66-7093eea255f4')\n",
    "my_map"
   ]
  },
  {
   "cell_type": "code",
   "execution_count": 3,
   "id": "d3df22e9",
   "metadata": {},
   "outputs": [],
   "source": [
    "timeline_config = models.LayerTimelineConfig(\n",
    "    current_time=1567557949266.6873,\n",
    "    is_visible=True,\n",
    "    is_animating=True,\n",
    "    speed=1,\n",
    ")"
   ]
  },
  {
   "cell_type": "code",
   "execution_count": 4,
   "id": "c5c59712",
   "metadata": {},
   "outputs": [
    {
     "data": {
      "text/plain": [
       "<Future pending>"
      ]
     },
     "execution_count": 4,
     "metadata": {},
     "output_type": "execute_result"
    }
   ],
   "source": [
    "# Start animation\n",
    "my_map.set_layer_timeline_config(timeline_config)"
   ]
  },
  {
   "cell_type": "code",
   "execution_count": 5,
   "id": "f9caede4",
   "metadata": {},
   "outputs": [
    {
     "data": {
      "text/plain": [
       "<Future pending>"
      ]
     },
     "execution_count": 5,
     "metadata": {},
     "output_type": "execute_result"
    }
   ],
   "source": [
    "# Set to 2x speed\n",
    "timeline_config.speed = 2\n",
    "my_map.set_layer_timeline_config(timeline_config)"
   ]
  },
  {
   "cell_type": "code",
   "execution_count": 6,
   "id": "a8d1ca10",
   "metadata": {},
   "outputs": [
    {
     "data": {
      "text/plain": [
       "<Future pending>"
      ]
     },
     "execution_count": 6,
     "metadata": {},
     "output_type": "execute_result"
    }
   ],
   "source": [
    "# Hide timeline control\n",
    "timeline_config.is_visible = False\n",
    "my_map.set_layer_timeline_config(timeline_config)"
   ]
  },
  {
   "cell_type": "code",
   "execution_count": 7,
   "id": "fe3c8e53",
   "metadata": {},
   "outputs": [
    {
     "data": {
      "text/plain": [
       "<Future pending>"
      ]
     },
     "execution_count": 7,
     "metadata": {},
     "output_type": "execute_result"
    }
   ],
   "source": [
    "# Reset control and stop animation\n",
    "timeline_config.is_visible = True\n",
    "timeline_config.is_animating = False\n",
    "my_map.set_layer_timeline_config(timeline_config)"
   ]
  },
  {
   "cell_type": "code",
   "execution_count": null,
   "id": "c381f0df",
   "metadata": {},
   "outputs": [],
   "source": []
  }
 ],
 "metadata": {
  "kernelspec": {
   "display_name": "Python 3",
   "language": "python",
   "name": "python3"
  },
  "language_info": {
   "codemirror_mode": {
    "name": "ipython",
    "version": 3
   },
   "file_extension": ".py",
   "mimetype": "text/x-python",
   "name": "python",
   "nbconvert_exporter": "python",
   "pygments_lexer": "ipython3",
   "version": "3.9.2"
  }
 },
 "nbformat": 4,
 "nbformat_minor": 5
}
