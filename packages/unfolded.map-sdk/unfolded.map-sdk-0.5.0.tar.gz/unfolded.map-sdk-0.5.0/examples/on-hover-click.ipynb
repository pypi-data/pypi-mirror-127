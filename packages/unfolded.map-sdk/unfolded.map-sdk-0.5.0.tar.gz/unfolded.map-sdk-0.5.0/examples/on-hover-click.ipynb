{
 "cells": [
  {
   "cell_type": "code",
   "execution_count": 1,
   "metadata": {},
   "outputs": [],
   "source": [
    "from unfolded.map_sdk import UnfoldedMap, models"
   ]
  },
  {
   "cell_type": "code",
   "execution_count": 2,
   "metadata": {
    "tags": []
   },
   "outputs": [
    {
     "data": {
      "application/vnd.jupyter.widget-view+json": {
       "model_id": "61fb4623531c43849dfa99fcc4e07713",
       "version_major": 2,
       "version_minor": 0
      },
      "text/plain": [
       "UnfoldedMap(mapUrl='http://localhost:8080/public/b9f5f077-a8fe-4b1e-a635-1117f4ccc809')"
      ]
     },
     "metadata": {},
     "output_type": "display_data"
    }
   ],
   "source": [
    "my_map=UnfoldedMap(mapUrl='http://localhost:8080/public/b9f5f077-a8fe-4b1e-a635-1117f4ccc809')\n",
    "my_map"
   ]
  },
  {
   "cell_type": "code",
   "execution_count": 3,
   "metadata": {},
   "outputs": [
    {
     "data": {
      "application/vnd.jupyter.widget-view+json": {
       "model_id": "03f8536b3e554145a7b42b63380c4a68",
       "version_major": 2,
       "version_minor": 0
      },
      "text/plain": [
       "Output()"
      ]
     },
     "metadata": {},
     "output_type": "display_data"
    }
   ],
   "source": [
    "import ipywidgets as widgets\n",
    "output = widgets.Output()\n",
    "@output.capture(clear_output=True)\n",
    "def on_hover_output(info):\n",
    "    print('Hover event')\n",
    "    print(info)\n",
    "output"
   ]
  },
  {
   "cell_type": "code",
   "execution_count": 4,
   "metadata": {},
   "outputs": [
    {
     "data": {
      "application/vnd.jupyter.widget-view+json": {
       "model_id": "05c61b969a34482ea0710062642f6c51",
       "version_major": 2,
       "version_minor": 0
      },
      "text/plain": [
       "Output()"
      ]
     },
     "metadata": {},
     "output_type": "display_data"
    }
   ],
   "source": [
    "import ipywidgets as widgets\n",
    "output = widgets.Output()\n",
    "@output.capture(clear_output=True)\n",
    "def on_click_output(info):\n",
    "    print('Click event')\n",
    "    print(info)\n",
    "output"
   ]
  },
  {
   "cell_type": "code",
   "execution_count": 5,
   "metadata": {},
   "outputs": [],
   "source": [
    "my_map.set_map_event_handlers({\n",
    "    'on_hover': on_hover_output,\n",
    "    'on_click': on_click_output\n",
    "})"
   ]
  },
  {
   "cell_type": "code",
   "execution_count": null,
   "metadata": {},
   "outputs": [],
   "source": []
  }
 ],
 "metadata": {
  "kernelspec": {
   "display_name": "Python 3",
   "language": "python",
   "name": "python3"
  },
  "language_info": {
   "codemirror_mode": {
    "name": "ipython",
    "version": 3
   },
   "file_extension": ".py",
   "mimetype": "text/x-python",
   "name": "python",
   "nbconvert_exporter": "python",
   "pygments_lexer": "ipython3",
   "version": "3.8.5"
  }
 },
 "nbformat": 4,
 "nbformat_minor": 5
}
