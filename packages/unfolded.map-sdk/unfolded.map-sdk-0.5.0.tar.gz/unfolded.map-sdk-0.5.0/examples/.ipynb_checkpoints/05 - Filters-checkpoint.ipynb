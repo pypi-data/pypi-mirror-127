{
 "cells": [
  {
   "cell_type": "markdown",
   "id": "810a72e5-6928-47e1-bdbe-5ff5c58cb8b0",
   "metadata": {},
   "source": [
    "# Filters"
   ]
  },
  {
   "cell_type": "markdown",
   "id": "a5890a22-9d6d-4a0b-9e5e-c77ff03881e3",
   "metadata": {},
   "source": [
    "This example shows how to control map filters and listen to map filter change events with Unfolded Map SDK."
   ]
  },
  {
   "cell_type": "markdown",
   "id": "2ddf92a9-2dfd-45d0-8edf-32cbca14bd0c",
   "metadata": {},
   "source": [
    "Let's again create a local map and add data to it:"
   ]
  },
  {
   "cell_type": "code",
   "execution_count": 13,
   "id": "928756e8-94ad-41be-8590-6da1a495c7de",
   "metadata": {},
   "outputs": [],
   "source": [
    "from unfolded.map_sdk import UnfoldedMap\n",
    "unfolded_map = UnfoldedMap(_sync=False, iframe=False)"
   ]
  },
  {
   "cell_type": "code",
   "execution_count": 2,
   "id": "61faed54-32dc-4b68-ae54-2e1c606dc417",
   "metadata": {},
   "outputs": [],
   "source": [
    "import geopandas as gpd"
   ]
  },
  {
   "cell_type": "code",
   "execution_count": 3,
   "id": "170583fc-3906-491d-b9f7-47707b234c8c",
   "metadata": {},
   "outputs": [],
   "source": [
    "path = '/Users/kbarron/unfolded/platform/python/ELEV_Durango_W_CO_1X1_Shape/Shape/Elev_Contour.shp'"
   ]
  },
  {
   "cell_type": "code",
   "execution_count": 4,
   "id": "8a783975-a145-454e-8985-f0e6e1369639",
   "metadata": {},
   "outputs": [],
   "source": [
    "gdf = gpd.read_file(path)"
   ]
  },
  {
   "cell_type": "code",
   "execution_count": 6,
   "id": "65b4654b-1d23-4c1e-8272-651f3b32bd7c",
   "metadata": {},
   "outputs": [],
   "source": [
    "cols = ['FCode', 'ContourEle', 'geometry']"
   ]
  },
  {
   "cell_type": "code",
   "execution_count": 7,
   "id": "d589a425-efea-4972-a210-3df325c294c7",
   "metadata": {},
   "outputs": [],
   "source": [
    "gdf = gdf[cols]"
   ]
  },
  {
   "cell_type": "code",
   "execution_count": 8,
   "id": "bf3f7815-263b-42f7-be49-1f9bf3561e89",
   "metadata": {},
   "outputs": [
    {
     "data": {
      "application/vnd.jupyter.widget-view+json": {
       "model_id": "bb6fa2d52d484a25bdb9ab4dc68363a6",
       "version_major": 2,
       "version_minor": 0
      },
      "text/plain": [
       "UnfoldedMap()"
      ]
     },
     "metadata": {},
     "output_type": "display_data"
    }
   ],
   "source": [
    "unfolded_map"
   ]
  },
  {
   "cell_type": "code",
   "execution_count": 10,
   "id": "6c808a0c-8a36-4a5a-9ae5-4b376bdc1e12",
   "metadata": {},
   "outputs": [],
   "source": [
    "csv_str = gdf.to_csv()"
   ]
  },
  {
   "cell_type": "code",
   "execution_count": 11,
   "id": "3ae11efc-1c16-48df-81e8-ac153cd8ae01",
   "metadata": {},
   "outputs": [
    {
     "data": {
      "text/plain": [
       "439276654"
      ]
     },
     "execution_count": 11,
     "metadata": {},
     "output_type": "execute_result"
    }
   ],
   "source": [
    "len(csv_str)"
   ]
  },
  {
   "cell_type": "code",
   "execution_count": 12,
   "id": "93c4b4ca-5842-44b5-a8c4-7edf96b64929",
   "metadata": {},
   "outputs": [
    {
     "data": {
      "text/plain": [
       "<Future pending>"
      ]
     },
     "execution_count": 12,
     "metadata": {},
     "output_type": "execute_result"
    }
   ],
   "source": [
    "unfolded_map.add_dataset({\n",
    "    'label': 'Contours',\n",
    "    'data': gdf\n",
    "})"
   ]
  },
  {
   "cell_type": "code",
   "execution_count": null,
   "id": "464a6a4e-5792-4774-a005-6b5560cfcecb",
   "metadata": {},
   "outputs": [],
   "source": [
    "map_config = unfolded_map.get_map_config()"
   ]
  },
  {
   "cell_type": "code",
   "execution_count": null,
   "id": "335a3b8d-2456-4eb9-982b-5cfee89e3f09",
   "metadata": {},
   "outputs": [],
   "source": [
    "map_config.config.mapState['longitude'] = -80"
   ]
  },
  {
   "cell_type": "code",
   "execution_count": null,
   "id": "55676985-2f42-45d8-9b84-a081b83d64ee",
   "metadata": {},
   "outputs": [],
   "source": [
    "unfolded_map.set_map_config(map_config=map_config)"
   ]
  },
  {
   "cell_type": "code",
   "execution_count": null,
   "id": "4e39cc7c-b4d0-458d-84aa-3e89f6f6846f",
   "metadata": {},
   "outputs": [],
   "source": [
    "map_config.json(by_alias=True)"
   ]
  },
  {
   "cell_type": "markdown",
   "id": "ce89a216-1d6d-404f-8bd6-9fde9fc6bfa8",
   "metadata": {},
   "source": [
    "## Adding a filter"
   ]
  },
  {
   "cell_type": "markdown",
   "id": "aa7e53b6-0ea6-4401-b811-d6566164e37c",
   "metadata": {},
   "source": [
    "Say, we want to filter the data points by the `Magnitude` column. Let's first find out what's the extent of the values in this column:"
   ]
  },
  {
   "cell_type": "code",
   "execution_count": null,
   "id": "b336c294-787f-4bd9-82cf-2b917ad746db",
   "metadata": {},
   "outputs": [],
   "source": [
    "magnitude_extent = [df['Magnitude'].min(), df['Magnitude'].max()]\n",
    "magnitude_extent"
   ]
  },
  {
   "cell_type": "markdown",
   "id": "e1f54dfd-a166-47bd-b26e-17b8b6a74f15",
   "metadata": {},
   "source": [
    "Now we can set the filter to only show the points in the top half of the range:"
   ]
  },
  {
   "cell_type": "code",
   "execution_count": null,
   "id": "24699be3-3cf8-4769-b72d-988443fba713",
   "metadata": {},
   "outputs": [],
   "source": [
    "unfolded_map.set_filter({\n",
    "    'id': 'magnitude_filter',\n",
    "    'field': 'Magnitude',\n",
    "    'value': [\n",
    "        (magnitude_extent[1] + magnitude_extent[0])/2,\n",
    "        magnitude_extent[1]\n",
    "    ]\n",
    "})"
   ]
  },
  {
   "cell_type": "markdown",
   "id": "4152141a-403f-462c-b936-8d88501114c3",
   "metadata": {},
   "source": [
    "Or the bottom half:"
   ]
  },
  {
   "cell_type": "code",
   "execution_count": null,
   "id": "8892175e-e1e2-4e37-bc93-f61fb3dac981",
   "metadata": {},
   "outputs": [],
   "source": [
    "unfolded_map.set_filter({\n",
    "    'id': 'magnitude_filter',\n",
    "    'field': 'Magnitude',\n",
    "    'value': [\n",
    "        magnitude_extent[0],\n",
    "        (magnitude_extent[1] + magnitude_extent[0])/2\n",
    "    ]\n",
    "})"
   ]
  },
  {
   "cell_type": "markdown",
   "id": "3713bd44-c347-4286-88fc-559e0f085f69",
   "metadata": {},
   "source": [
    "## Controlling the filter from the notebook"
   ]
  },
  {
   "cell_type": "markdown",
   "id": "354b5880-e742-4f6e-af0b-fa4baea7d900",
   "metadata": {},
   "source": [
    "We can use the range slider from `ipywidgets` to control the filter in the map. First, we create the slider:"
   ]
  },
  {
   "cell_type": "code",
   "execution_count": null,
   "id": "c6428eaf-11cb-4e58-9371-3f85110b28ad",
   "metadata": {},
   "outputs": [],
   "source": [
    "import ipywidgets as widgets\n",
    "\n",
    "slider = widgets.FloatRangeSlider(\n",
    "    value=magnitude_extent,\n",
    "    min=magnitude_extent[0],\n",
    "    max=magnitude_extent[1],\n",
    "    step=0.1,\n",
    "    description='Magnitude:',\n",
    "    continuous_update=True\n",
    ")"
   ]
  },
  {
   "cell_type": "markdown",
   "id": "6c074621-ce75-4be0-87eb-c7801097ca00",
   "metadata": {},
   "source": [
    "Here we create an event handler to listen to the slider change events:"
   ]
  },
  {
   "cell_type": "code",
   "execution_count": null,
   "id": "72c1f908-5fdb-435e-a907-296ee2d3daed",
   "metadata": {},
   "outputs": [],
   "source": [
    "def update_value_filter(change):\n",
    "    if 'new' in change and 'value' in change['new']:\n",
    "        unfolded_map.set_filter({\n",
    "            'id': 'magnitude_filter',\n",
    "            'field': 'Magnitude',\n",
    "            'value': change['new']['value']\n",
    "        })"
   ]
  },
  {
   "cell_type": "code",
   "execution_count": null,
   "id": "fb9c4fb1-cb36-45ae-b95a-f78ea8b31bd5",
   "metadata": {},
   "outputs": [],
   "source": [
    "slider.observe(update_value_filter)\n",
    "display(slider)"
   ]
  },
  {
   "cell_type": "markdown",
   "id": "59d3c1ab-acee-4755-a8b8-d2d71353855b",
   "metadata": {},
   "source": [
    "Now try moving the slider. You should see the changes applied to the map."
   ]
  },
  {
   "cell_type": "markdown",
   "id": "64c6dedc-b794-4229-99e7-7c2cd8973ad3",
   "metadata": {},
   "source": [
    "The following will unregister the observer:"
   ]
  },
  {
   "cell_type": "code",
   "execution_count": null,
   "id": "d59b23c1-2249-4bd8-bf98-df0e11c5fd15",
   "metadata": {},
   "outputs": [],
   "source": [
    "slider.unobserve(None)"
   ]
  },
  {
   "cell_type": "markdown",
   "id": "b045eaab-120a-44a8-94ff-7244deca7aa3",
   "metadata": {},
   "source": [
    "## Syncing the slider in the notebook with the map filter"
   ]
  },
  {
   "cell_type": "markdown",
   "id": "a8530cd1-15d3-48d1-8b63-93bbc43005ec",
   "metadata": {},
   "source": [
    "We can register [event handlers](https://docs.unfolded.ai/map-sdk/api#events) to be notified of filter changes in the map. Here's how we can syncronize the above range slider with the Magnitude filter in the map:"
   ]
  },
  {
   "cell_type": "code",
   "execution_count": null,
   "id": "fc8ec0f8-a9bc-4b6c-9556-230e7bc50c35",
   "metadata": {},
   "outputs": [],
   "source": [
    "def on_filter_sync(info):\n",
    "    if 'Magnitude' in info['name'] and info['prop'] == 'value':\n",
    "        slider.value = info['value']\n",
    "\n",
    "unfolded_map.set_map_event_handlers({\n",
    "    'on_filter': on_filter_sync\n",
    "})"
   ]
  },
  {
   "cell_type": "markdown",
   "id": "5be7be1c-a9cd-4767-93ac-93c03a693dcf",
   "metadata": {},
   "source": [
    "Now try changing the \"Magnitude\" filter in the \"Filter\" pane of the left sidebar in the map. You should see the slider above in the notebook update. "
   ]
  },
  {
   "cell_type": "markdown",
   "id": "6ff338f4-b09e-4732-8269-9ba89351faf0",
   "metadata": {},
   "source": [
    "##  Debugging an event handler"
   ]
  },
  {
   "cell_type": "markdown",
   "id": "344b0e0f-72b7-47dc-94d4-f2093e8351fd",
   "metadata": {},
   "source": [
    "Here's how you can output the event info when filter events are triggered:"
   ]
  },
  {
   "cell_type": "code",
   "execution_count": null,
   "id": "db244886-f74c-4134-a957-8fd4a56e0238",
   "metadata": {},
   "outputs": [],
   "source": [
    "import ipywidgets as widgets\n",
    "output = widgets.Output()\n",
    "@output.capture(clear_output=True)\n",
    "def on_filter_output(info):\n",
    "    print(info)\n",
    "output"
   ]
  },
  {
   "cell_type": "code",
   "execution_count": null,
   "id": "186bd1f7-d918-4132-8c76-28ebc2a3d8a7",
   "metadata": {},
   "outputs": [],
   "source": [
    "unfolded_map.set_map_event_handlers({\n",
    "    'on_filter': on_filter_output\n",
    "})"
   ]
  }
 ],
 "metadata": {
  "kernelspec": {
   "display_name": "Python 3 (ipykernel)",
   "language": "python",
   "name": "python3"
  },
  "language_info": {
   "codemirror_mode": {
    "name": "ipython",
    "version": 3
   },
   "file_extension": ".py",
   "mimetype": "text/x-python",
   "name": "python",
   "nbconvert_exporter": "python",
   "pygments_lexer": "ipython3",
   "version": "3.8.10"
  }
 },
 "nbformat": 4,
 "nbformat_minor": 5
}
