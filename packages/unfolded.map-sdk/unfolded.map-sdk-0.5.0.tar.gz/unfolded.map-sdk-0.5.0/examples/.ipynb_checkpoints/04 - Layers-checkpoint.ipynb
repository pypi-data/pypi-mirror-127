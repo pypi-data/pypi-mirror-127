{
 "cells": [
  {
   "cell_type": "markdown",
   "id": "c503aac5-799f-49e5-832e-707cce159865",
   "metadata": {
    "tags": []
   },
   "source": [
    "# Layers"
   ]
  },
  {
   "cell_type": "markdown",
   "id": "ee33a4da-32cb-40d8-bc74-82c05967fce9",
   "metadata": {},
   "source": [
    "This example demonstrates how [map layers](https://docs.unfolded.ai/studio/layer-guide) can be added and controlled in Unfolded maps."
   ]
  },
  {
   "cell_type": "markdown",
   "id": "8855014b-5f90-4fe9-92c2-4491068d3c2f",
   "metadata": {
    "tags": []
   },
   "source": [
    "First, let's create a local map:"
   ]
  },
  {
   "cell_type": "code",
   "execution_count": 6,
   "id": "71c77df9-1d42-4993-9a0a-d311064d03c9",
   "metadata": {},
   "outputs": [],
   "source": [
    "from unfolded.map_sdk import UnfoldedMap\n",
    "unfolded_map = UnfoldedMap(_sync=False)"
   ]
  },
  {
   "cell_type": "code",
   "execution_count": 7,
   "id": "67fbd3d3-2eb6-45f4-b3e4-7391fc5282a7",
   "metadata": {
    "tags": []
   },
   "outputs": [],
   "source": [
    "from sidecar import Sidecar\n",
    "sc = Sidecar(title='Unfolded map', anchor='split-right')\n",
    "with sc:\n",
    "    display(unfolded_map)"
   ]
  },
  {
   "cell_type": "markdown",
   "id": "b299b022-172c-4a37-b85a-cd02dc4579a8",
   "metadata": {},
   "source": [
    "Let's now load the earthquakes dataset so that we can add it to the map:"
   ]
  },
  {
   "cell_type": "code",
   "execution_count": 8,
   "id": "abc29e9d-d2a7-4d39-b45c-9ffccb2bbb6f",
   "metadata": {},
   "outputs": [],
   "source": [
    "import pandas as pd\n",
    "earthquakes_data = pd.read_csv('https://raw.githubusercontent.com/UnfoldedInc/examples/master/notebooks/data/earthquakes.csv')"
   ]
  },
  {
   "cell_type": "code",
   "execution_count": 9,
   "id": "3366a68b",
   "metadata": {},
   "outputs": [],
   "source": [
    "from uuid import uuid4\n",
    "dataset_id=uuid4()"
   ]
  },
  {
   "cell_type": "markdown",
   "id": "7bf797a4-6669-4f75-9d16-0a75da8d2dff",
   "metadata": {},
   "source": [
    "Now we add it and set `auto_create_layers` to `False`, so that we can then manually add a layer for this data:"
   ]
  },
  {
   "cell_type": "code",
   "execution_count": 10,
   "id": "37ebfcb5",
   "metadata": {},
   "outputs": [
    {
     "data": {
      "text/plain": [
       "<Future pending>"
      ]
     },
     "execution_count": 6,
     "metadata": {},
     "output_type": "execute_result"
    }
   ],
   "source": [
    "unfolded_map.add_dataset(\n",
    "    {\n",
    "        'uuid': dataset_id,\n",
    "        'label': 'Earthquakes',\n",
    "        'data': earthquakes_data\n",
    "    },\n",
    "    auto_create_layers = False\n",
    ")"
   ]
  },
  {
   "cell_type": "markdown",
   "id": "05b6f62b",
   "metadata": {
    "tags": []
   },
   "source": [
    "## Adding a custom layer"
   ]
  },
  {
   "cell_type": "markdown",
   "id": "cdffa01c-e9a1-495e-aff0-89935a02ae8d",
   "metadata": {},
   "source": [
    "Here we create a custom point layer and specify which fields will be used for `lat`, `lon` and color of the points:"
   ]
  },
  {
   "cell_type": "code",
   "execution_count": 11,
   "id": "fa6da747",
   "metadata": {},
   "outputs": [
    {
     "data": {
      "text/plain": [
       "<Future pending>"
      ]
     },
     "execution_count": 7,
     "metadata": {},
     "output_type": "execute_result"
    }
   ],
   "source": [
    "unfolded_map.add_layer({\n",
    "    'id': 'earthquake_points',\n",
    "    'type': 'point',\n",
    "    'config': {\n",
    "        'data_id': dataset_id,\n",
    "        'label': 'Earthquakes',\n",
    "        'columns': {'lat': 'Latitude','lng': 'Longitude'},\n",
    "        'is_visible': True,\n",
    "        'color_field': {'name': 'Depth', 'type': 'real'}\n",
    "    }\n",
    "})"
   ]
  },
  {
   "cell_type": "markdown",
   "id": "a09abdcd-b7a0-4899-96a6-0b67ad53593f",
   "metadata": {},
   "source": [
    "## Querying map layers"
   ]
  },
  {
   "cell_type": "markdown",
   "id": "f2527984-3080-423f-9528-88879c3c071e",
   "metadata": {
    "tags": []
   },
   "source": [
    "We can obtain the list of layers which are currently in the map:"
   ]
  },
  {
   "cell_type": "markdown",
   "id": "f886f866-bf07-465e-a73a-8077200b0b14",
   "metadata": {
    "tags": []
   },
   "source": [
    "With the current beta implementation we need to do it in two steps:\n",
    "\n",
    "1. Call `unfolded_map.get_layers()` and assing the result to a variable\n",
    "2. Obtain the actual layers by calling `layers.result()` *in a separate cell*"
   ]
  },
  {
   "cell_type": "code",
   "execution_count": null,
   "id": "99e6e88e-fc00-40f3-b945-58ac56f5d262",
   "metadata": {},
   "outputs": [],
   "source": [
    "layers = unfolded_map.get_layers()"
   ]
  },
  {
   "cell_type": "code",
   "execution_count": null,
   "id": "34a537e5-d1f7-4e10-84ee-c866d924cfaa",
   "metadata": {},
   "outputs": [
    {
     "data": {
      "text/plain": [
       "<Future finished result=[Layer(label='..._visible=True)]>"
      ]
     },
     "execution_count": 9,
     "metadata": {},
     "output_type": "execute_result"
    }
   ],
   "source": [
    "layers"
   ]
  },
  {
   "cell_type": "code",
   "execution_count": 10,
   "id": "69e9547f-7cc5-46f9-8074-d7d22f76c52a",
   "metadata": {},
   "outputs": [
    {
     "data": {
      "text/plain": [
       "'Earthquakes'"
      ]
     },
     "execution_count": 10,
     "metadata": {},
     "output_type": "execute_result"
    }
   ],
   "source": [
    "layers[0].label"
   ]
  },
  {
   "cell_type": "markdown",
   "id": "dbc92889-20ac-45c3-915c-7f2301027e95",
   "metadata": {},
   "source": [
    "`layers` is now a list of layers that exist on the map shown above."
   ]
  },
  {
   "cell_type": "code",
   "execution_count": 5,
   "id": "eeb9b523-e4b3-4fe3-ae61-38c0aac3603f",
   "metadata": {},
   "outputs": [
    {
     "data": {
      "text/plain": [
       "'light'"
      ]
     },
     "execution_count": 5,
     "metadata": {},
     "output_type": "execute_result"
    }
   ],
   "source": [
    "unfolded_map.set_theme('light')"
   ]
  },
  {
   "cell_type": "markdown",
   "id": "1ddf34fe-93ab-4bb1-a889-766c1a90b1ca",
   "metadata": {
    "tags": []
   },
   "source": [
    "## Toggle layer visibility"
   ]
  },
  {
   "cell_type": "markdown",
   "id": "c2842334-433e-4c03-ac44-dc07e993e412",
   "metadata": {},
   "source": [
    "We can also turn the visibility of layers on and off:"
   ]
  },
  {
   "cell_type": "code",
   "execution_count": 11,
   "id": "fa738441-19bd-4660-a3c1-0a62597cbdc7",
   "metadata": {},
   "outputs": [
    {
     "data": {
      "text/plain": [
       "Layer(label='Earthquakes', id='earthquake_points', is_visible=False)"
      ]
     },
     "execution_count": 11,
     "metadata": {},
     "output_type": "execute_result"
    }
   ],
   "source": [
    "# Hide layer\n",
    "unfolded_map.set_layer_visibility(layer_id=layers[0].id, is_visible=False)"
   ]
  },
  {
   "cell_type": "code",
   "execution_count": 12,
   "id": "de1881fb-ef0e-4467-a459-f461b599e3f4",
   "metadata": {},
   "outputs": [
    {
     "data": {
      "text/plain": [
       "Layer(label='Earthquakes', id='earthquake_points', is_visible=True)"
      ]
     },
     "execution_count": 12,
     "metadata": {},
     "output_type": "execute_result"
    }
   ],
   "source": [
    "# Show layer again\n",
    "unfolded_map.set_layer_visibility(layer_id=layers[0].id, is_visible=True)"
   ]
  },
  {
   "cell_type": "markdown",
   "id": "f0276944-70ec-4895-a465-6ec496457168",
   "metadata": {},
   "source": [
    "## Removing layers"
   ]
  },
  {
   "cell_type": "markdown",
   "id": "72bf17b6-ab65-4c6b-8466-d901d21aa3e1",
   "metadata": {},
   "source": [
    "To remove the points layer, which we previously added, run:"
   ]
  },
  {
   "cell_type": "code",
   "execution_count": 13,
   "id": "c15e6ea3",
   "metadata": {},
   "outputs": [
    {
     "data": {
      "text/plain": [
       "True"
      ]
     },
     "execution_count": 13,
     "metadata": {},
     "output_type": "execute_result"
    }
   ],
   "source": [
    "unfolded_map.remove_layer('earthquake_points')"
   ]
  },
  {
   "cell_type": "markdown",
   "id": "75caaf6f-1420-443e-8fa4-1160a2f093d4",
   "metadata": {},
   "source": [
    "The following will remove the dataset along with all of its layers:"
   ]
  },
  {
   "cell_type": "code",
   "execution_count": 14,
   "id": "0ab8deca",
   "metadata": {},
   "outputs": [],
   "source": [
    "unfolded_map.remove_dataset(dataset_id)"
   ]
  },
  {
   "cell_type": "code",
   "execution_count": null,
   "id": "bdd4d4a7-a0ac-43b1-84d5-17ef10723b7c",
   "metadata": {},
   "outputs": [],
   "source": []
  },
  {
   "cell_type": "code",
   "execution_count": 15,
   "id": "68d4d48e-f32f-4d9a-a389-0b319f4406fe",
   "metadata": {},
   "outputs": [],
   "source": [
    "import httpx"
   ]
  },
  {
   "cell_type": "code",
   "execution_count": null,
   "id": "d3b35f95-acdd-42f3-844a-5d53d8a72df8",
   "metadata": {},
   "outputs": [],
   "source": [
    "async with httpx.AsyncClient() as client:\n",
    "    r = await client.get('https://www.example.com/')"
   ]
  },
  {
   "cell_type": "code",
   "execution_count": 17,
   "id": "72fbc6ff-6155-40d1-ab17-d2451404ad22",
   "metadata": {},
   "outputs": [],
   "source": [
    "client = httpx.AsyncClient()"
   ]
  },
  {
   "cell_type": "code",
   "execution_count": 18,
   "id": "636fc710-15fb-42de-87db-b4a77ee43803",
   "metadata": {},
   "outputs": [],
   "source": [
    "r = await client.get('https://www.example.com/')"
   ]
  },
  {
   "cell_type": "code",
   "execution_count": 19,
   "id": "f09e1709-19b5-454b-ab02-c7cb6706275f",
   "metadata": {},
   "outputs": [
    {
     "data": {
      "text/plain": [
       "<Response [200 OK]>"
      ]
     },
     "execution_count": 19,
     "metadata": {},
     "output_type": "execute_result"
    }
   ],
   "source": [
    "r"
   ]
  },
  {
   "cell_type": "code",
   "execution_count": 20,
   "id": "e9e5e038-d56b-43ee-ae38-aec3d3b85736",
   "metadata": {},
   "outputs": [],
   "source": [
    "from jupyter_ui_poll import ui_events"
   ]
  },
  {
   "cell_type": "code",
   "execution_count": 21,
   "id": "e532b97b-8720-49be-b0c1-d4ddae511046",
   "metadata": {},
   "outputs": [],
   "source": [
    "from unfolded.map_sdk import UnfoldedMap\n",
    "unfolded_map = UnfoldedMap(_sync=False)"
   ]
  },
  {
   "cell_type": "code",
   "execution_count": 22,
   "id": "cbe79c36-4b9a-43be-aa22-09a152cf629d",
   "metadata": {
    "tags": []
   },
   "outputs": [],
   "source": [
    "from sidecar import Sidecar\n",
    "sc = Sidecar(title='Unfolded map', anchor='split-right')\n",
    "with sc:\n",
    "    display(unfolded_map)"
   ]
  },
  {
   "cell_type": "markdown",
   "id": "2ebdf10d-6e0a-4323-81a2-bedce7eb55f5",
   "metadata": {},
   "source": [
    "Let's now load the earthquakes dataset so that we can add it to the map:"
   ]
  },
  {
   "cell_type": "code",
   "execution_count": null,
   "id": "49e195a9-0363-41a3-8c08-73db261d5283",
   "metadata": {},
   "outputs": [],
   "source": [
    "out = False\n",
    "async with ui_events() as ui_poll:\n",
    "    while not out:\n",
    "        await ui_poll(11)  # Process upto 11 ui events per iteration\n",
    "        out = await unfolded_map.set_theme('light')"
   ]
  },
  {
   "cell_type": "code",
   "execution_count": 24,
   "id": "6bb6711e-b083-41b8-b5ec-d70c9937462f",
   "metadata": {},
   "outputs": [
    {
     "data": {
      "text/plain": [
       "'light'"
      ]
     },
     "execution_count": 24,
     "metadata": {},
     "output_type": "execute_result"
    }
   ],
   "source": [
    "out"
   ]
  },
  {
   "cell_type": "code",
   "execution_count": null,
   "id": "9b0bd7bb-f678-4a8d-af51-8abe0ae4e538",
   "metadata": {},
   "outputs": [],
   "source": [
    "out = await unfolded_map.set_theme('light')"
   ]
  },
  {
   "cell_type": "code",
   "execution_count": 26,
   "id": "80fd7de8-3a32-4031-80a3-98d083b6d5b1",
   "metadata": {},
   "outputs": [
    {
     "ename": "AttributeError",
     "evalue": "'str' object has no attribute 'result'",
     "output_type": "error",
     "traceback": [
      "\u001b[0;31m---------------------------------------------------------------------------\u001b[0m",
      "\u001b[0;31mAttributeError\u001b[0m                            Traceback (most recent call last)",
      "\u001b[0;32m/var/folders/zl/4x9vw27j60n7h41pd6ntb_pc0000gp/T/ipykernel_23341/522573321.py\u001b[0m in \u001b[0;36m<module>\u001b[0;34m\u001b[0m\n\u001b[0;32m----> 1\u001b[0;31m \u001b[0mout\u001b[0m\u001b[0;34m.\u001b[0m\u001b[0mresult\u001b[0m\u001b[0;34m(\u001b[0m\u001b[0;34m)\u001b[0m\u001b[0;34m\u001b[0m\u001b[0;34m\u001b[0m\u001b[0m\n\u001b[0m",
      "\u001b[0;31mAttributeError\u001b[0m: 'str' object has no attribute 'result'"
     ]
    }
   ],
   "source": [
    "out.result()"
   ]
  },
  {
   "cell_type": "code",
   "execution_count": null,
   "id": "cbf245b9-0c89-4f2d-af52-d06d3470e8c5",
   "metadata": {},
   "outputs": [],
   "source": [
    "import pandas as pd\n",
    "earthquakes_data = pd.read_csv('https://raw.githubusercontent.com/UnfoldedInc/examples/master/notebooks/data/earthquakes.csv')"
   ]
  },
  {
   "cell_type": "code",
   "execution_count": null,
   "id": "23f8a367-6309-4c47-acb9-f4584f4cf5d6",
   "metadata": {},
   "outputs": [],
   "source": [
    "from uuid import uuid4\n",
    "dataset_id=uuid4()"
   ]
  },
  {
   "cell_type": "markdown",
   "id": "7898c6f3-6785-4c86-91ef-86c7f6e95f87",
   "metadata": {},
   "source": [
    "Now we add it and set `auto_create_layers` to `False`, so that we can then manually add a layer for this data:"
   ]
  },
  {
   "cell_type": "code",
   "execution_count": null,
   "id": "38ec7bf0-dae7-4a5d-a813-ed01d39d99d1",
   "metadata": {},
   "outputs": [],
   "source": [
    "unfolded_map.add_dataset(\n",
    "    {\n",
    "        'uuid': dataset_id,\n",
    "        'label': 'Earthquakes',\n",
    "        'data': earthquakes_data\n",
    "    },\n",
    "    auto_create_layers = False\n",
    ")"
   ]
  },
  {
   "cell_type": "markdown",
   "id": "fffe216f-4e13-43f0-ba97-cff91cc457ba",
   "metadata": {},
   "source": [
    "## Adding a custom layer"
   ]
  },
  {
   "cell_type": "markdown",
   "id": "53f1d852-8cd7-4199-82dc-8fc2bd23e5b8",
   "metadata": {},
   "source": [
    "Here we create a custom point layer and specify which fields will be used for `lat`, `lon` and color of the points:"
   ]
  },
  {
   "cell_type": "code",
   "execution_count": null,
   "id": "768f4361-ec69-416c-a083-7689b85d49a4",
   "metadata": {},
   "outputs": [],
   "source": [
    "unfolded_map.add_layer({\n",
    "    'id': 'earthquake_points',\n",
    "    'type': 'point',\n",
    "    'config': {\n",
    "        'data_id': dataset_id,\n",
    "        'label': 'Earthquakes',\n",
    "        'columns': {'lat': 'Latitude','lng': 'Longitude'},\n",
    "        'is_visible': True,\n",
    "        'color_field': {'name': 'Depth', 'type': 'real'}\n",
    "    }\n",
    "})"
   ]
  },
  {
   "cell_type": "markdown",
   "id": "1a2c03bb-182e-484b-b6cd-47672134564c",
   "metadata": {},
   "source": [
    "## Querying map layers"
   ]
  },
  {
   "cell_type": "markdown",
   "id": "a5ec435a-c8e6-470f-b2b8-bc3f7d9944b4",
   "metadata": {
    "tags": []
   },
   "source": [
    "We can obtain the list of layers which are currently in the map:"
   ]
  },
  {
   "cell_type": "markdown",
   "id": "844daae1-b26b-43be-8628-41a97b78b8f1",
   "metadata": {
    "tags": []
   },
   "source": [
    "With the current beta implementation we need to do it in two steps:\n",
    "\n",
    "1. Call `unfolded_map.get_layers()` and assing the result to a variable\n",
    "2. Obtain the actual layers by calling `layers.result()` *in a separate cell*"
   ]
  },
  {
   "cell_type": "code",
   "execution_count": null,
   "id": "b2020e0a-1ad0-4fb6-88a8-77a7bace5a64",
   "metadata": {},
   "outputs": [],
   "source": [
    "layers = unfolded_map.get_layers()"
   ]
  },
  {
   "cell_type": "code",
   "execution_count": null,
   "id": "1ed954a6-aaf8-4d68-8f46-739146a817b0",
   "metadata": {},
   "outputs": [],
   "source": [
    "layers"
   ]
  }
 ],
 "metadata": {
  "kernelspec": {
   "display_name": "Map-SDK-Virtualenv",
   "language": "python",
   "name": "map-sdk-virtualenv"
  },
  "language_info": {
   "codemirror_mode": {
    "name": "ipython",
    "version": 3
   },
   "file_extension": ".py",
   "mimetype": "text/x-python",
   "name": "python",
   "nbconvert_exporter": "python",
   "pygments_lexer": "ipython3",
   "version": "3.8.10"
  }
 },
 "nbformat": 4,
 "nbformat_minor": 5
}
