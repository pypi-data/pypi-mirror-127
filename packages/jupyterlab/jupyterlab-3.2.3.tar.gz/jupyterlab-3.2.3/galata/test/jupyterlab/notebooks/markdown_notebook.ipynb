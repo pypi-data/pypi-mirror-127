{
 "cells": [
  {
   "cell_type": "markdown",
   "metadata": {},
   "source": [
    "# Demonstration of LaTeX\n",
    "\n",
    "$$\n",
    "\\begin{aligned}\n",
    "\\dot{x} & = \\sigma(y-x) \\\\\n",
    "\\dot{y} & = \\rho x - y - xz \\\\\n",
    "\\dot{z} & = -\\beta z + xy\n",
    "\\end{aligned}\n",
    "$$\n",
    "\n",
    "Let's change (\\\\(\\sigma\\\\), \\\\(\\beta\\\\), \\\\(\\rho\\\\)) with ipywidgets and examine the trajectories."
   ]
  },
  {
   "cell_type": "markdown",
   "metadata": {
    "tags": []
   },
   "source": [
    "# Demonstration of proper behaviour with non-LaTeX uses of `$`\n",
    "\n",
    "## This should be highlighted as a heading\n",
    "\n",
    "Sample code:\n",
    "\n",
    "    ```\n",
    "    echo $HOME\n",
    "    ```\n",
    "\n",
    "```shell\n",
    "echo $HOME\n",
    "```\n",
    "\n",
    "The code block below should be properly highlighted:\n",
    "\n",
    "```bash\n",
    "echo $HOME\n",
    "```\n",
    "\n",
    "\n",
    "### Heading\n",
    "\n",
    "`$test`\n",
    "\n",
    "### This heading should be highlighted too"
   ]
  }
 ],
 "metadata": {
  "kernelspec": {
   "display_name": "Python 3 (ipykernel)",
   "language": "python",
   "name": "python3"
  },
  "language_info": {
   "codemirror_mode": {
    "name": "ipython",
    "version": 3
   },
   "file_extension": ".py",
   "mimetype": "text/x-python",
   "name": "python",
   "nbconvert_exporter": "python",
   "pygments_lexer": "ipython3",
   "version": "3.8.3"
  }
 },
 "nbformat": 4,
 "nbformat_minor": 4
}
