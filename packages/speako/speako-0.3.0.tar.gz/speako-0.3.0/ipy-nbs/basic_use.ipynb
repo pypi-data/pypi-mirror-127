{
 "cells": [
  {
   "cell_type": "markdown",
   "id": "9636759c",
   "metadata": {},
   "source": [
    "## Basic Usage\n",
    "\n",
    "Here's a simple example on how to train the language model on a certain database and then use the trained model to make predictions. \n",
    "\n",
    "**Consider this script inside the following directory layout:**\n",
    "\n",
    "    this_dir\n",
    "    |----this.ipynb -> the current notebook\n",
    "    |----mod\n",
    "    |\t|----here is where the model files would be\n",
    "    |----verb-conj\n",
    "    |\t|----es-verbs.txt -> file containing verb conjugation in spanish\n",
    "    |\t|----en-verbs.txt -> file containing verb conjugation in spanish\n",
    "    |----data\n",
    "    |\t|----example_data.txt -> file containing the data for training\n",
    "    |----other files\n",
    "\n",
    "This is necessary since for the training and prediction process, choosing models and languages, it's necessary to specify where the files are."
   ]
  },
  {
   "cell_type": "code",
   "execution_count": null,
   "id": "b9411ffd",
   "metadata": {},
   "outputs": [],
   "source": [
    "from PictogramsPredictionLibrary.trainerClass import trainer\n",
    "from PictogramsPredictionLibrary.predictorClass import predictor\n",
    "\n",
    "#Training Process: with the data from the example.txt file we’ll train an “example” model\n",
    "tr = trainer(\"./data/example_data.txt\", data_format = \"txt\", model = \"example\", model_dir = \"./mod\" language = \"en\")\n",
    "tr.train() \n",
    "\n",
    "#Prediction Process: now let’s use that model to make predictions\n",
    "pr = predictor(model = \"example\", language = \"en\")\n",
    "pr.predict(“Hello”, maxNumPaths = 3) #this will make at most 3 predictions on the following words for “hello”\n",
    "\n",
    "#Output:\n",
    "#{\"1\": \"how\", \"2\": \"my\", \"3\": \"are\"}"
   ]
  }
 ],
 "metadata": {
  "kernelspec": {
   "display_name": "Python 3",
   "language": "python",
   "name": "python3"
  },
  "language_info": {
   "codemirror_mode": {
    "name": "ipython",
    "version": 3
   },
   "file_extension": ".py",
   "mimetype": "text/x-python",
   "name": "python",
   "nbconvert_exporter": "python",
   "pygments_lexer": "ipython3",
   "version": "3.8.10"
  }
 },
 "nbformat": 4,
 "nbformat_minor": 5
}
