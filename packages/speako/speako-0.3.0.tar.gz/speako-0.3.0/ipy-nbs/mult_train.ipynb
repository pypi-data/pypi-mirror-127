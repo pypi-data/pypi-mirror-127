{
 "cells": [
  {
   "cell_type": "markdown",
   "id": "9636759c",
   "metadata": {},
   "source": [
    "## Training on multiple files\n",
    "\n",
    "The trainer class supports training on a dataset distributed between multiple files.\n",
    "This is very important in cases where the dataset is quite large, and the training process can get quite tedious. With the proper configurations, this training can be done on separate phases progressively, so that you can stop it on a certain point and restart it later.\n",
    "\n",
    "**Consider this script inside the following directory layout:**\n",
    "\n",
    "    this_dir\n",
    "    |----this.ipynb -> the current notebook\n",
    "    |----mod\n",
    "    |\t|----here is where the model files would be\n",
    "    |----verb-conj\n",
    "    |\t|----es-verbs.txt -> file containing verb conjugation in spanish\n",
    "    |\t|----en-verbs.txt -> file containing verb conjugation in spanish\n",
    "    |----data\n",
    "    |\t|----example1.txt\n",
    "    |\t|----example2.txt\n",
    "    |\t|----example3.txt\n",
    "    |\t|----... as many training files\n",
    "    |----other files\n",
    "\n",
    "This is necessary since for the training and prediction process, choosing models and languages, it's necessary to specify where the files are."
   ]
  },
  {
   "cell_type": "code",
   "execution_count": null,
   "id": "b9411ffd",
   "metadata": {},
   "outputs": [],
   "source": [
    "from PictogramsPredictionLibrary.trainerClass import trainer\n",
    "from PictogramsPredictionLibrary.predictorClass import predictor\n",
    "\n",
    "#Training Process: since we are going to train on multiple files, we can pass an empty string on the file_path parameter\n",
    "tr = trainer(\"\", data_format = \"txt\", model = \"example\", model_dir = \"./mod\" language = \"en\")\n",
    "tr.multiple_train(\n",
    "                \"./data\" #directory path for the multiple data files\n",
    "                save_progress = True, #this way it'll save a version of the model after each training file is done\n",
    "                delete_done = True #this will delete each file from the data folder after it's done.\n",
    "                ) "
   ]
  },
  {
   "cell_type": "markdown",
   "id": "8d206141",
   "metadata": {},
   "source": [
    "As you can see, `trainer.multiple_train` is a method that trains the model on different files, which can be used to complete the training in multiple phases given the proper configuration:\n",
    "\n",
    "- although the `file_path` in the initialization of trainer is unused, the data_format will be used to filter which files are used for training and which are ignored.\n",
    "- the `save_progress` parameter set to True will save the model after each training file is finished, instead of waiting for all the training process to be done.\n",
    "- the `delete_done` paramter set to True will delete each file that is already trained on from the data foldet. This way if you run the same code on a future instance, it will only continue training on the files that are left to train.\n",
    "\n",
    "**CAUTION: IN CASE SOMETHING GOES WRONG, ALWAYS MAKE A BACKUP OF YOUR DATA FILES IF** `delete_done` **MODE WILL BE ACTIVATED.**\n",
    "\n",
    "To get somehow what the method does, another way of achieving the same functionality without it would be:"
   ]
  },
  {
   "cell_type": "code",
   "execution_count": null,
   "id": "f1614cea",
   "metadata": {},
   "outputs": [],
   "source": [
    "import os\n",
    "\n",
    "files_dir = \"./data\"\n",
    "files_name = [os.path.join(files_dir, n) for n in os.list_dir(files_dir)]\n",
    "\n",
    "tr = trainer(\"\", data_format = \"txt\", model = \"example\", model_dir = \"./mod\" language = \"en\")\n",
    "start = True\n",
    "for f in files_name:\n",
    "    tr.new_data(f)\n",
    "    if start:\n",
    "        tr.train()\n",
    "    else:\n",
    "        tr.train(check_model_status = False) #This is so that it only check the model status on each run\n",
    "    os.remove(f)"
   ]
  }
 ],
 "metadata": {
  "kernelspec": {
   "display_name": "Python 3",
   "language": "python",
   "name": "python3"
  },
  "language_info": {
   "codemirror_mode": {
    "name": "ipython",
    "version": 3
   },
   "file_extension": ".py",
   "mimetype": "text/x-python",
   "name": "python",
   "nbconvert_exporter": "python",
   "pygments_lexer": "ipython3",
   "version": "3.8.10"
  }
 },
 "nbformat": 4,
 "nbformat_minor": 5
}
