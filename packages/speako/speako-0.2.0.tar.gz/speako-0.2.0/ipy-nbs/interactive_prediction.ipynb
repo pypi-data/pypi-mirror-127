{
 "cells": [
  {
   "cell_type": "markdown",
   "id": "9636759c",
   "metadata": {},
   "source": [
    "## Interactive Prediction\n",
    "\n",
    "This algorithm would be pointless if there's not some kind of interactive way of making predictions, letting the user choose which path they would like to go for and feed the new sentence back to the model in a loop for as long as the user wants. Since this interaction will change based on the app the algorithm is implemented in, we only added a basic example of an interactive predictor that you can play around with and maybe get inspired to build your own.\n",
    "\n",
    "**Consider this script inside the following directory layout:**\n",
    "\n",
    "    this_dir\n",
    "    |----this.ipynb -> the current notebook\n",
    "    |----mod\n",
    "    |\t|----here is where the model files would be\n",
    "    |----verb-conj\n",
    "    |\t|----es-verbs.txt -> file containing verb conjugation in spanish\n",
    "    |\t|----en-verbs.txt -> file containing verb conjugation in spanish\n",
    "    |----data\n",
    "    |\t|----example_data.txt -> file containing the data for training\n",
    "    |----cache\n",
    "    |\t|----here is where the cache model files would be\n",
    "    |----other files\n",
    "\n",
    "This is necessary since for the training and prediction process, choosing models and languages, it's necessary to specify where the files are."
   ]
  },
  {
   "cell_type": "code",
   "execution_count": null,
   "id": "b9411ffd",
   "metadata": {},
   "outputs": [],
   "source": [
    "from PictogramsPredictionLibrary.trainerClass import trainer\n",
    "from PictogramsPredictionLibrary.predictorClass import predictor\n",
    "\n",
    "#Training Process: with the data from the example.txt file we’ll train an “example” model\n",
    "tr = trainer(\"./data/example_data.txt\", data_format = \"txt\", model = \"example\", model_dir = \"./mod\" language = \"en\")\n",
    "tr.train() \n",
    "\n",
    "#Prediction Process: now let’s use that model to make predictions\n",
    "pr = predictor(model = \"example\", language = \"en\")\n",
    "\n",
    "start = \"Hello\"\n",
    "final = pr.interactive_predict(start) #the same parameters from the predict method can be passed to the interactive predictor\n",
    "\n",
    "#This will print out the predictions and ask the user to choose from the options how to continue\n",
    "#After the user chooses an option, the new sentence is fed back to the model and the loop restarts\n",
    "#When the user is satisfied with the phrase created, they should input 0 and the final sentence is returned by the method\n",
    "\n",
    "#As an adition, there's a cache update parameter that can be: \n",
    "# - \"all\" to update the cache model after every prediciton\n",
    "# - \"final\" to update the cache model only with the final sentence after the user finishes the interactive process\n",
    "# - \"none\" to dismiss the cache model update"
   ]
  }
 ],
 "metadata": {
  "kernelspec": {
   "display_name": "Python 3",
   "language": "python",
   "name": "python3"
  },
  "language_info": {
   "codemirror_mode": {
    "name": "ipython",
    "version": 3
   },
   "file_extension": ".py",
   "mimetype": "text/x-python",
   "name": "python",
   "nbconvert_exporter": "python",
   "pygments_lexer": "ipython3",
   "version": "3.8.10"
  }
 },
 "nbformat": 4,
 "nbformat_minor": 5
}
